{
 "cells": [
  {
   "cell_type": "code",
   "execution_count": 2,
   "metadata": {},
   "outputs": [
    {
     "data": {
      "text/html": [
       "<div>\n",
       "<style scoped>\n",
       "    .dataframe tbody tr th:only-of-type {\n",
       "        vertical-align: middle;\n",
       "    }\n",
       "\n",
       "    .dataframe tbody tr th {\n",
       "        vertical-align: top;\n",
       "    }\n",
       "\n",
       "    .dataframe thead th {\n",
       "        text-align: right;\n",
       "    }\n",
       "</style>\n",
       "<table border=\"1\" class=\"dataframe\">\n",
       "  <thead>\n",
       "    <tr style=\"text-align: right;\">\n",
       "      <th></th>\n",
       "      <th>Country</th>\n",
       "      <th>Population 2024</th>\n",
       "      <th>Population 2023</th>\n",
       "      <th>Area (km2)</th>\n",
       "      <th>Density (/km2)</th>\n",
       "      <th>Growth Rate</th>\n",
       "      <th>World %</th>\n",
       "      <th>World Rank</th>\n",
       "    </tr>\n",
       "  </thead>\n",
       "  <tbody>\n",
       "    <tr>\n",
       "      <th>0</th>\n",
       "      <td>India</td>\n",
       "      <td>1441719852</td>\n",
       "      <td>1428627663</td>\n",
       "      <td>3M</td>\n",
       "      <td>485.0</td>\n",
       "      <td>0.0092</td>\n",
       "      <td>0.1801</td>\n",
       "      <td>1</td>\n",
       "    </tr>\n",
       "    <tr>\n",
       "      <th>1</th>\n",
       "      <td>China</td>\n",
       "      <td>1425178782</td>\n",
       "      <td>1425671352</td>\n",
       "      <td>9.4M</td>\n",
       "      <td>151.0</td>\n",
       "      <td>-0.0003</td>\n",
       "      <td>0.1780</td>\n",
       "      <td>2</td>\n",
       "    </tr>\n",
       "    <tr>\n",
       "      <th>2</th>\n",
       "      <td>United States</td>\n",
       "      <td>341814420</td>\n",
       "      <td>339996563</td>\n",
       "      <td>9.1M</td>\n",
       "      <td>37.0</td>\n",
       "      <td>0.0053</td>\n",
       "      <td>0.0427</td>\n",
       "      <td>3</td>\n",
       "    </tr>\n",
       "    <tr>\n",
       "      <th>3</th>\n",
       "      <td>Indonesia</td>\n",
       "      <td>279798049</td>\n",
       "      <td>277534122</td>\n",
       "      <td>1.9M</td>\n",
       "      <td>149.0</td>\n",
       "      <td>0.0082</td>\n",
       "      <td>0.0350</td>\n",
       "      <td>4</td>\n",
       "    </tr>\n",
       "    <tr>\n",
       "      <th>4</th>\n",
       "      <td>Pakistan</td>\n",
       "      <td>245209815</td>\n",
       "      <td>240485658</td>\n",
       "      <td>770.9K</td>\n",
       "      <td>318.0</td>\n",
       "      <td>0.0196</td>\n",
       "      <td>0.0306</td>\n",
       "      <td>5</td>\n",
       "    </tr>\n",
       "    <tr>\n",
       "      <th>5</th>\n",
       "      <td>Nigeria</td>\n",
       "      <td>229152217</td>\n",
       "      <td>223804632</td>\n",
       "      <td>910.8K</td>\n",
       "      <td>252.0</td>\n",
       "      <td>0.0239</td>\n",
       "      <td>0.0286</td>\n",
       "      <td>6</td>\n",
       "    </tr>\n",
       "    <tr>\n",
       "      <th>6</th>\n",
       "      <td>Brazil</td>\n",
       "      <td>217637297</td>\n",
       "      <td>216422446</td>\n",
       "      <td>8.4M</td>\n",
       "      <td>26.0</td>\n",
       "      <td>0.0056</td>\n",
       "      <td>0.0272</td>\n",
       "      <td>7</td>\n",
       "    </tr>\n",
       "    <tr>\n",
       "      <th>7</th>\n",
       "      <td>Bangladesh</td>\n",
       "      <td>174701211</td>\n",
       "      <td>172954319</td>\n",
       "      <td>130.2K</td>\n",
       "      <td>1342.0</td>\n",
       "      <td>0.0101</td>\n",
       "      <td>0.0218</td>\n",
       "      <td>8</td>\n",
       "    </tr>\n",
       "    <tr>\n",
       "      <th>8</th>\n",
       "      <td>Russia</td>\n",
       "      <td>143957079</td>\n",
       "      <td>144444359</td>\n",
       "      <td>16.4M</td>\n",
       "      <td>9.0</td>\n",
       "      <td>-0.0034</td>\n",
       "      <td>0.0180</td>\n",
       "      <td>9</td>\n",
       "    </tr>\n",
       "    <tr>\n",
       "      <th>9</th>\n",
       "      <td>Ethiopia</td>\n",
       "      <td>129719719</td>\n",
       "      <td>126527060</td>\n",
       "      <td>1.1M</td>\n",
       "      <td>115.0</td>\n",
       "      <td>0.0252</td>\n",
       "      <td>0.0162</td>\n",
       "      <td>10</td>\n",
       "    </tr>\n",
       "  </tbody>\n",
       "</table>\n",
       "</div>"
      ],
      "text/plain": [
       "         Country  Population 2024  Population 2023 Area (km2)  Density (/km2)  \\\n",
       "0          India       1441719852       1428627663         3M           485.0   \n",
       "1          China       1425178782       1425671352       9.4M           151.0   \n",
       "2  United States        341814420        339996563       9.1M            37.0   \n",
       "3      Indonesia        279798049        277534122       1.9M           149.0   \n",
       "4       Pakistan        245209815        240485658     770.9K           318.0   \n",
       "5        Nigeria        229152217        223804632     910.8K           252.0   \n",
       "6         Brazil        217637297        216422446       8.4M            26.0   \n",
       "7     Bangladesh        174701211        172954319     130.2K          1342.0   \n",
       "8         Russia        143957079        144444359      16.4M             9.0   \n",
       "9       Ethiopia        129719719        126527060       1.1M           115.0   \n",
       "\n",
       "   Growth Rate  World %  World Rank  \n",
       "0       0.0092   0.1801           1  \n",
       "1      -0.0003   0.1780           2  \n",
       "2       0.0053   0.0427           3  \n",
       "3       0.0082   0.0350           4  \n",
       "4       0.0196   0.0306           5  \n",
       "5       0.0239   0.0286           6  \n",
       "6       0.0056   0.0272           7  \n",
       "7       0.0101   0.0218           8  \n",
       "8      -0.0034   0.0180           9  \n",
       "9       0.0252   0.0162          10  "
      ]
     },
     "execution_count": 2,
     "metadata": {},
     "output_type": "execute_result"
    }
   ],
   "source": [
    "import plotly.express as px\n",
    "import pandas as pd\n",
    "import numpy as np\n",
    "import morethemes as mt\n",
    "mt.set_theme('ft')\n",
    "import seaborn as sns\n",
    "import matplotlib.pyplot as plt\n",
    "# load the data\n",
    "data = pd.read_csv(\"C://Users//KOVVO//.cache//kagglehub//datasets//dataanalyst001//world-population-by-country-2024//versions//1//World Population by country 2024.csv\")\n",
    "\n",
    "data.head(10)"
   ]
  },
  {
   "cell_type": "code",
   "execution_count": 3,
   "metadata": {},
   "outputs": [
    {
     "data": {
      "text/plain": [
       "np.float64(0.9140242221352655)"
      ]
     },
     "execution_count": 3,
     "metadata": {},
     "output_type": "execute_result"
    }
   ],
   "source": [
    "pop = (data[\"Population 2024\"].sum() - data[\"Population 2023\"].sum())/(data[\"Population 2023\"].sum())*100 \n",
    "pop"
   ]
  },
  {
   "cell_type": "code",
   "execution_count": 4,
   "metadata": {},
   "outputs": [
    {
     "data": {
      "text/plain": [
       "np.int64(8117135983)"
      ]
     },
     "execution_count": 4,
     "metadata": {},
     "output_type": "execute_result"
    }
   ],
   "source": [
    "pop = data[\"Population 2024\"].sum()\n",
    "pop"
   ]
  },
  {
   "cell_type": "code",
   "execution_count": 5,
   "metadata": {},
   "outputs": [],
   "source": [
    "#  show all the rows in the data\n",
    "pd.set_option('display.max_rows', None)"
   ]
  },
  {
   "cell_type": "code",
   "execution_count": 6,
   "metadata": {},
   "outputs": [
    {
     "data": {
      "text/html": [
       "<div>\n",
       "<style scoped>\n",
       "    .dataframe tbody tr th:only-of-type {\n",
       "        vertical-align: middle;\n",
       "    }\n",
       "\n",
       "    .dataframe tbody tr th {\n",
       "        vertical-align: top;\n",
       "    }\n",
       "\n",
       "    .dataframe thead th {\n",
       "        text-align: right;\n",
       "    }\n",
       "</style>\n",
       "<table border=\"1\" class=\"dataframe\">\n",
       "  <thead>\n",
       "    <tr style=\"text-align: right;\">\n",
       "      <th></th>\n",
       "      <th>Country</th>\n",
       "      <th>Population 2024</th>\n",
       "      <th>Population 2023</th>\n",
       "      <th>Area (km2)</th>\n",
       "      <th>Density (/km2)</th>\n",
       "      <th>Growth Rate</th>\n",
       "      <th>World %</th>\n",
       "      <th>World Rank</th>\n",
       "    </tr>\n",
       "  </thead>\n",
       "  <tbody>\n",
       "    <tr>\n",
       "      <th>0</th>\n",
       "      <td>India</td>\n",
       "      <td>1441719852</td>\n",
       "      <td>1428627663</td>\n",
       "      <td>3M</td>\n",
       "      <td>485.0</td>\n",
       "      <td>0.0092</td>\n",
       "      <td>0.1801</td>\n",
       "      <td>1</td>\n",
       "    </tr>\n",
       "    <tr>\n",
       "      <th>1</th>\n",
       "      <td>China</td>\n",
       "      <td>1425178782</td>\n",
       "      <td>1425671352</td>\n",
       "      <td>9.4M</td>\n",
       "      <td>151.0</td>\n",
       "      <td>-0.0003</td>\n",
       "      <td>0.1780</td>\n",
       "      <td>2</td>\n",
       "    </tr>\n",
       "    <tr>\n",
       "      <th>2</th>\n",
       "      <td>United States</td>\n",
       "      <td>341814420</td>\n",
       "      <td>339996563</td>\n",
       "      <td>9.1M</td>\n",
       "      <td>37.0</td>\n",
       "      <td>0.0053</td>\n",
       "      <td>0.0427</td>\n",
       "      <td>3</td>\n",
       "    </tr>\n",
       "    <tr>\n",
       "      <th>3</th>\n",
       "      <td>Indonesia</td>\n",
       "      <td>279798049</td>\n",
       "      <td>277534122</td>\n",
       "      <td>1.9M</td>\n",
       "      <td>149.0</td>\n",
       "      <td>0.0082</td>\n",
       "      <td>0.0350</td>\n",
       "      <td>4</td>\n",
       "    </tr>\n",
       "    <tr>\n",
       "      <th>4</th>\n",
       "      <td>Pakistan</td>\n",
       "      <td>245209815</td>\n",
       "      <td>240485658</td>\n",
       "      <td>770.9K</td>\n",
       "      <td>318.0</td>\n",
       "      <td>0.0196</td>\n",
       "      <td>0.0306</td>\n",
       "      <td>5</td>\n",
       "    </tr>\n",
       "    <tr>\n",
       "      <th>5</th>\n",
       "      <td>Nigeria</td>\n",
       "      <td>229152217</td>\n",
       "      <td>223804632</td>\n",
       "      <td>910.8K</td>\n",
       "      <td>252.0</td>\n",
       "      <td>0.0239</td>\n",
       "      <td>0.0286</td>\n",
       "      <td>6</td>\n",
       "    </tr>\n",
       "    <tr>\n",
       "      <th>6</th>\n",
       "      <td>Brazil</td>\n",
       "      <td>217637297</td>\n",
       "      <td>216422446</td>\n",
       "      <td>8.4M</td>\n",
       "      <td>26.0</td>\n",
       "      <td>0.0056</td>\n",
       "      <td>0.0272</td>\n",
       "      <td>7</td>\n",
       "    </tr>\n",
       "    <tr>\n",
       "      <th>7</th>\n",
       "      <td>Bangladesh</td>\n",
       "      <td>174701211</td>\n",
       "      <td>172954319</td>\n",
       "      <td>130.2K</td>\n",
       "      <td>1342.0</td>\n",
       "      <td>0.0101</td>\n",
       "      <td>0.0218</td>\n",
       "      <td>8</td>\n",
       "    </tr>\n",
       "    <tr>\n",
       "      <th>8</th>\n",
       "      <td>Russia</td>\n",
       "      <td>143957079</td>\n",
       "      <td>144444359</td>\n",
       "      <td>16.4M</td>\n",
       "      <td>9.0</td>\n",
       "      <td>-0.0034</td>\n",
       "      <td>0.0180</td>\n",
       "      <td>9</td>\n",
       "    </tr>\n",
       "    <tr>\n",
       "      <th>9</th>\n",
       "      <td>Ethiopia</td>\n",
       "      <td>129719719</td>\n",
       "      <td>126527060</td>\n",
       "      <td>1.1M</td>\n",
       "      <td>115.0</td>\n",
       "      <td>0.0252</td>\n",
       "      <td>0.0162</td>\n",
       "      <td>10</td>\n",
       "    </tr>\n",
       "    <tr>\n",
       "      <th>10</th>\n",
       "      <td>Mexico</td>\n",
       "      <td>129388467</td>\n",
       "      <td>128455567</td>\n",
       "      <td>1.9M</td>\n",
       "      <td>67.0</td>\n",
       "      <td>0.0073</td>\n",
       "      <td>0.0162</td>\n",
       "      <td>11</td>\n",
       "    </tr>\n",
       "    <tr>\n",
       "      <th>11</th>\n",
       "      <td>Japan</td>\n",
       "      <td>122631432</td>\n",
       "      <td>123294513</td>\n",
       "      <td>364.5K</td>\n",
       "      <td>336.0</td>\n",
       "      <td>-0.0054</td>\n",
       "      <td>0.0153</td>\n",
       "      <td>12</td>\n",
       "    </tr>\n",
       "    <tr>\n",
       "      <th>12</th>\n",
       "      <td>Philippines</td>\n",
       "      <td>119106224</td>\n",
       "      <td>117337368</td>\n",
       "      <td>298.2K</td>\n",
       "      <td>399.0</td>\n",
       "      <td>0.0151</td>\n",
       "      <td>0.0149</td>\n",
       "      <td>13</td>\n",
       "    </tr>\n",
       "    <tr>\n",
       "      <th>13</th>\n",
       "      <td>Egypt</td>\n",
       "      <td>114484252</td>\n",
       "      <td>112716598</td>\n",
       "      <td>1M</td>\n",
       "      <td>115.0</td>\n",
       "      <td>0.0157</td>\n",
       "      <td>0.0143</td>\n",
       "      <td>14</td>\n",
       "    </tr>\n",
       "    <tr>\n",
       "      <th>14</th>\n",
       "      <td>DR Congo</td>\n",
       "      <td>105625114</td>\n",
       "      <td>102262808</td>\n",
       "      <td>2.3M</td>\n",
       "      <td>47.0</td>\n",
       "      <td>0.0329</td>\n",
       "      <td>0.0132</td>\n",
       "      <td>15</td>\n",
       "    </tr>\n",
       "  </tbody>\n",
       "</table>\n",
       "</div>"
      ],
      "text/plain": [
       "          Country  Population 2024  Population 2023 Area (km2)  \\\n",
       "0           India       1441719852       1428627663         3M   \n",
       "1           China       1425178782       1425671352       9.4M   \n",
       "2   United States        341814420        339996563       9.1M   \n",
       "3       Indonesia        279798049        277534122       1.9M   \n",
       "4        Pakistan        245209815        240485658     770.9K   \n",
       "5         Nigeria        229152217        223804632     910.8K   \n",
       "6          Brazil        217637297        216422446       8.4M   \n",
       "7      Bangladesh        174701211        172954319     130.2K   \n",
       "8          Russia        143957079        144444359      16.4M   \n",
       "9        Ethiopia        129719719        126527060       1.1M   \n",
       "10         Mexico        129388467        128455567       1.9M   \n",
       "11          Japan        122631432        123294513     364.5K   \n",
       "12    Philippines        119106224        117337368     298.2K   \n",
       "13          Egypt        114484252        112716598         1M   \n",
       "14       DR Congo        105625114        102262808       2.3M   \n",
       "\n",
       "    Density (/km2)  Growth Rate  World %  World Rank  \n",
       "0            485.0       0.0092   0.1801           1  \n",
       "1            151.0      -0.0003   0.1780           2  \n",
       "2             37.0       0.0053   0.0427           3  \n",
       "3            149.0       0.0082   0.0350           4  \n",
       "4            318.0       0.0196   0.0306           5  \n",
       "5            252.0       0.0239   0.0286           6  \n",
       "6             26.0       0.0056   0.0272           7  \n",
       "7           1342.0       0.0101   0.0218           8  \n",
       "8              9.0      -0.0034   0.0180           9  \n",
       "9            115.0       0.0252   0.0162          10  \n",
       "10            67.0       0.0073   0.0162          11  \n",
       "11           336.0      -0.0054   0.0153          12  \n",
       "12           399.0       0.0151   0.0149          13  \n",
       "13           115.0       0.0157   0.0143          14  \n",
       "14            47.0       0.0329   0.0132          15  "
      ]
     },
     "execution_count": 6,
     "metadata": {},
     "output_type": "execute_result"
    }
   ],
   "source": [
    "#top 15 countries with highest population 2024\n",
    "top_2024data = data.sort_values(by='Population 2024', ascending=False)\n",
    "top_2024data.head(15)\n"
   ]
  },
  {
   "cell_type": "code",
   "execution_count": 7,
   "metadata": {},
   "outputs": [
    {
     "data": {
      "text/html": [
       "<div>\n",
       "<style scoped>\n",
       "    .dataframe tbody tr th:only-of-type {\n",
       "        vertical-align: middle;\n",
       "    }\n",
       "\n",
       "    .dataframe tbody tr th {\n",
       "        vertical-align: top;\n",
       "    }\n",
       "\n",
       "    .dataframe thead th {\n",
       "        text-align: right;\n",
       "    }\n",
       "</style>\n",
       "<table border=\"1\" class=\"dataframe\">\n",
       "  <thead>\n",
       "    <tr style=\"text-align: right;\">\n",
       "      <th></th>\n",
       "      <th>Population 2024</th>\n",
       "      <th>Country</th>\n",
       "    </tr>\n",
       "  </thead>\n",
       "  <tbody>\n",
       "    <tr>\n",
       "      <th>0</th>\n",
       "      <td>1441719852</td>\n",
       "      <td>India</td>\n",
       "    </tr>\n",
       "    <tr>\n",
       "      <th>1</th>\n",
       "      <td>1425178782</td>\n",
       "      <td>China</td>\n",
       "    </tr>\n",
       "    <tr>\n",
       "      <th>2</th>\n",
       "      <td>341814420</td>\n",
       "      <td>United States</td>\n",
       "    </tr>\n",
       "    <tr>\n",
       "      <th>3</th>\n",
       "      <td>279798049</td>\n",
       "      <td>Indonesia</td>\n",
       "    </tr>\n",
       "    <tr>\n",
       "      <th>4</th>\n",
       "      <td>245209815</td>\n",
       "      <td>Pakistan</td>\n",
       "    </tr>\n",
       "  </tbody>\n",
       "</table>\n",
       "</div>"
      ],
      "text/plain": [
       "   Population 2024        Country\n",
       "0       1441719852          India\n",
       "1       1425178782          China\n",
       "2        341814420  United States\n",
       "3        279798049      Indonesia\n",
       "4        245209815       Pakistan"
      ]
     },
     "execution_count": 7,
     "metadata": {},
     "output_type": "execute_result"
    }
   ],
   "source": [
    "top_2024data[[\"Population 2024\",\"Country\"]].head()"
   ]
  },
  {
   "cell_type": "code",
   "execution_count": 8,
   "metadata": {},
   "outputs": [],
   "source": [
    "pop = data[\"Population 2024\"].sum()"
   ]
  },
  {
   "cell_type": "code",
   "execution_count": 9,
   "metadata": {},
   "outputs": [
    {
     "data": {
      "text/html": [
       "<div>\n",
       "<style scoped>\n",
       "    .dataframe tbody tr th:only-of-type {\n",
       "        vertical-align: middle;\n",
       "    }\n",
       "\n",
       "    .dataframe tbody tr th {\n",
       "        vertical-align: top;\n",
       "    }\n",
       "\n",
       "    .dataframe thead th {\n",
       "        text-align: right;\n",
       "    }\n",
       "</style>\n",
       "<table border=\"1\" class=\"dataframe\">\n",
       "  <thead>\n",
       "    <tr style=\"text-align: right;\">\n",
       "      <th></th>\n",
       "      <th>Country</th>\n",
       "      <th>Population 2024</th>\n",
       "      <th>Population 2023</th>\n",
       "      <th>Area (km2)</th>\n",
       "      <th>Density (/km2)</th>\n",
       "      <th>Growth Rate</th>\n",
       "      <th>World %</th>\n",
       "      <th>World Rank</th>\n",
       "    </tr>\n",
       "  </thead>\n",
       "  <tbody>\n",
       "    <tr>\n",
       "      <th>233</th>\n",
       "      <td>Vatican City</td>\n",
       "      <td>526</td>\n",
       "      <td>518</td>\n",
       "      <td>&lt; 1</td>\n",
       "      <td>1195.0</td>\n",
       "      <td>0.0154</td>\n",
       "      <td>NaN</td>\n",
       "      <td>234</td>\n",
       "    </tr>\n",
       "  </tbody>\n",
       "</table>\n",
       "</div>"
      ],
      "text/plain": [
       "          Country  Population 2024  Population 2023 Area (km2)  \\\n",
       "233  Vatican City              526              518        < 1   \n",
       "\n",
       "     Density (/km2)  Growth Rate  World %  World Rank  \n",
       "233          1195.0       0.0154      NaN         234  "
      ]
     },
     "execution_count": 9,
     "metadata": {},
     "output_type": "execute_result"
    }
   ],
   "source": [
    "\n",
    "#the less populated country in 2024\n",
    "top_2024data[top_2024data[\"Population 2024\"] ==526].head()"
   ]
  },
  {
   "cell_type": "code",
   "execution_count": 10,
   "metadata": {},
   "outputs": [
    {
     "data": {
      "text/html": [
       "<div>\n",
       "<style scoped>\n",
       "    .dataframe tbody tr th:only-of-type {\n",
       "        vertical-align: middle;\n",
       "    }\n",
       "\n",
       "    .dataframe tbody tr th {\n",
       "        vertical-align: top;\n",
       "    }\n",
       "\n",
       "    .dataframe thead th {\n",
       "        text-align: right;\n",
       "    }\n",
       "</style>\n",
       "<table border=\"1\" class=\"dataframe\">\n",
       "  <thead>\n",
       "    <tr style=\"text-align: right;\">\n",
       "      <th></th>\n",
       "      <th>Country</th>\n",
       "      <th>Population 2024</th>\n",
       "      <th>Population 2023</th>\n",
       "      <th>Area (km2)</th>\n",
       "      <th>Density (/km2)</th>\n",
       "      <th>Growth Rate</th>\n",
       "      <th>World %</th>\n",
       "      <th>World Rank</th>\n",
       "    </tr>\n",
       "  </thead>\n",
       "  <tbody>\n",
       "    <tr>\n",
       "      <th>0</th>\n",
       "      <td>India</td>\n",
       "      <td>1441719852</td>\n",
       "      <td>1428627663</td>\n",
       "      <td>3M</td>\n",
       "      <td>485.0</td>\n",
       "      <td>0.0092</td>\n",
       "      <td>0.1801</td>\n",
       "      <td>1</td>\n",
       "    </tr>\n",
       "    <tr>\n",
       "      <th>1</th>\n",
       "      <td>China</td>\n",
       "      <td>1425178782</td>\n",
       "      <td>1425671352</td>\n",
       "      <td>9.4M</td>\n",
       "      <td>151.0</td>\n",
       "      <td>-0.0003</td>\n",
       "      <td>0.1780</td>\n",
       "      <td>2</td>\n",
       "    </tr>\n",
       "    <tr>\n",
       "      <th>2</th>\n",
       "      <td>United States</td>\n",
       "      <td>341814420</td>\n",
       "      <td>339996563</td>\n",
       "      <td>9.1M</td>\n",
       "      <td>37.0</td>\n",
       "      <td>0.0053</td>\n",
       "      <td>0.0427</td>\n",
       "      <td>3</td>\n",
       "    </tr>\n",
       "    <tr>\n",
       "      <th>3</th>\n",
       "      <td>Indonesia</td>\n",
       "      <td>279798049</td>\n",
       "      <td>277534122</td>\n",
       "      <td>1.9M</td>\n",
       "      <td>149.0</td>\n",
       "      <td>0.0082</td>\n",
       "      <td>0.0350</td>\n",
       "      <td>4</td>\n",
       "    </tr>\n",
       "    <tr>\n",
       "      <th>4</th>\n",
       "      <td>Pakistan</td>\n",
       "      <td>245209815</td>\n",
       "      <td>240485658</td>\n",
       "      <td>770.9K</td>\n",
       "      <td>318.0</td>\n",
       "      <td>0.0196</td>\n",
       "      <td>0.0306</td>\n",
       "      <td>5</td>\n",
       "    </tr>\n",
       "    <tr>\n",
       "      <th>5</th>\n",
       "      <td>Nigeria</td>\n",
       "      <td>229152217</td>\n",
       "      <td>223804632</td>\n",
       "      <td>910.8K</td>\n",
       "      <td>252.0</td>\n",
       "      <td>0.0239</td>\n",
       "      <td>0.0286</td>\n",
       "      <td>6</td>\n",
       "    </tr>\n",
       "    <tr>\n",
       "      <th>6</th>\n",
       "      <td>Brazil</td>\n",
       "      <td>217637297</td>\n",
       "      <td>216422446</td>\n",
       "      <td>8.4M</td>\n",
       "      <td>26.0</td>\n",
       "      <td>0.0056</td>\n",
       "      <td>0.0272</td>\n",
       "      <td>7</td>\n",
       "    </tr>\n",
       "    <tr>\n",
       "      <th>7</th>\n",
       "      <td>Bangladesh</td>\n",
       "      <td>174701211</td>\n",
       "      <td>172954319</td>\n",
       "      <td>130.2K</td>\n",
       "      <td>1342.0</td>\n",
       "      <td>0.0101</td>\n",
       "      <td>0.0218</td>\n",
       "      <td>8</td>\n",
       "    </tr>\n",
       "    <tr>\n",
       "      <th>8</th>\n",
       "      <td>Russia</td>\n",
       "      <td>143957079</td>\n",
       "      <td>144444359</td>\n",
       "      <td>16.4M</td>\n",
       "      <td>9.0</td>\n",
       "      <td>-0.0034</td>\n",
       "      <td>0.0180</td>\n",
       "      <td>9</td>\n",
       "    </tr>\n",
       "    <tr>\n",
       "      <th>10</th>\n",
       "      <td>Mexico</td>\n",
       "      <td>129388467</td>\n",
       "      <td>128455567</td>\n",
       "      <td>1.9M</td>\n",
       "      <td>67.0</td>\n",
       "      <td>0.0073</td>\n",
       "      <td>0.0162</td>\n",
       "      <td>11</td>\n",
       "    </tr>\n",
       "    <tr>\n",
       "      <th>9</th>\n",
       "      <td>Ethiopia</td>\n",
       "      <td>129719719</td>\n",
       "      <td>126527060</td>\n",
       "      <td>1.1M</td>\n",
       "      <td>115.0</td>\n",
       "      <td>0.0252</td>\n",
       "      <td>0.0162</td>\n",
       "      <td>10</td>\n",
       "    </tr>\n",
       "    <tr>\n",
       "      <th>11</th>\n",
       "      <td>Japan</td>\n",
       "      <td>122631432</td>\n",
       "      <td>123294513</td>\n",
       "      <td>364.5K</td>\n",
       "      <td>336.0</td>\n",
       "      <td>-0.0054</td>\n",
       "      <td>0.0153</td>\n",
       "      <td>12</td>\n",
       "    </tr>\n",
       "    <tr>\n",
       "      <th>12</th>\n",
       "      <td>Philippines</td>\n",
       "      <td>119106224</td>\n",
       "      <td>117337368</td>\n",
       "      <td>298.2K</td>\n",
       "      <td>399.0</td>\n",
       "      <td>0.0151</td>\n",
       "      <td>0.0149</td>\n",
       "      <td>13</td>\n",
       "    </tr>\n",
       "    <tr>\n",
       "      <th>13</th>\n",
       "      <td>Egypt</td>\n",
       "      <td>114484252</td>\n",
       "      <td>112716598</td>\n",
       "      <td>1M</td>\n",
       "      <td>115.0</td>\n",
       "      <td>0.0157</td>\n",
       "      <td>0.0143</td>\n",
       "      <td>14</td>\n",
       "    </tr>\n",
       "    <tr>\n",
       "      <th>14</th>\n",
       "      <td>DR Congo</td>\n",
       "      <td>105625114</td>\n",
       "      <td>102262808</td>\n",
       "      <td>2.3M</td>\n",
       "      <td>47.0</td>\n",
       "      <td>0.0329</td>\n",
       "      <td>0.0132</td>\n",
       "      <td>15</td>\n",
       "    </tr>\n",
       "  </tbody>\n",
       "</table>\n",
       "</div>"
      ],
      "text/plain": [
       "          Country  Population 2024  Population 2023 Area (km2)  \\\n",
       "0           India       1441719852       1428627663         3M   \n",
       "1           China       1425178782       1425671352       9.4M   \n",
       "2   United States        341814420        339996563       9.1M   \n",
       "3       Indonesia        279798049        277534122       1.9M   \n",
       "4        Pakistan        245209815        240485658     770.9K   \n",
       "5         Nigeria        229152217        223804632     910.8K   \n",
       "6          Brazil        217637297        216422446       8.4M   \n",
       "7      Bangladesh        174701211        172954319     130.2K   \n",
       "8          Russia        143957079        144444359      16.4M   \n",
       "10         Mexico        129388467        128455567       1.9M   \n",
       "9        Ethiopia        129719719        126527060       1.1M   \n",
       "11          Japan        122631432        123294513     364.5K   \n",
       "12    Philippines        119106224        117337368     298.2K   \n",
       "13          Egypt        114484252        112716598         1M   \n",
       "14       DR Congo        105625114        102262808       2.3M   \n",
       "\n",
       "    Density (/km2)  Growth Rate  World %  World Rank  \n",
       "0            485.0       0.0092   0.1801           1  \n",
       "1            151.0      -0.0003   0.1780           2  \n",
       "2             37.0       0.0053   0.0427           3  \n",
       "3            149.0       0.0082   0.0350           4  \n",
       "4            318.0       0.0196   0.0306           5  \n",
       "5            252.0       0.0239   0.0286           6  \n",
       "6             26.0       0.0056   0.0272           7  \n",
       "7           1342.0       0.0101   0.0218           8  \n",
       "8              9.0      -0.0034   0.0180           9  \n",
       "10            67.0       0.0073   0.0162          11  \n",
       "9            115.0       0.0252   0.0162          10  \n",
       "11           336.0      -0.0054   0.0153          12  \n",
       "12           399.0       0.0151   0.0149          13  \n",
       "13           115.0       0.0157   0.0143          14  \n",
       "14            47.0       0.0329   0.0132          15  "
      ]
     },
     "execution_count": 10,
     "metadata": {},
     "output_type": "execute_result"
    }
   ],
   "source": [
    "#top 15 countries with highest population 2023\n",
    "top_2023data = data.sort_values(by='Population 2023', ascending=False)\n",
    "top_2023data.head(15)"
   ]
  },
  {
   "cell_type": "code",
   "execution_count": 11,
   "metadata": {},
   "outputs": [
    {
     "data": {
      "text/html": [
       "<div>\n",
       "<style scoped>\n",
       "    .dataframe tbody tr th:only-of-type {\n",
       "        vertical-align: middle;\n",
       "    }\n",
       "\n",
       "    .dataframe tbody tr th {\n",
       "        vertical-align: top;\n",
       "    }\n",
       "\n",
       "    .dataframe thead th {\n",
       "        text-align: right;\n",
       "    }\n",
       "</style>\n",
       "<table border=\"1\" class=\"dataframe\">\n",
       "  <thead>\n",
       "    <tr style=\"text-align: right;\">\n",
       "      <th></th>\n",
       "      <th>Population 2024</th>\n",
       "      <th>Population 2023</th>\n",
       "      <th>Density (/km2)</th>\n",
       "      <th>Growth Rate</th>\n",
       "      <th>World %</th>\n",
       "      <th>World Rank</th>\n",
       "    </tr>\n",
       "  </thead>\n",
       "  <tbody>\n",
       "    <tr>\n",
       "      <th>count</th>\n",
       "      <td>2.340000e+02</td>\n",
       "      <td>2.340000e+02</td>\n",
       "      <td>234.000000</td>\n",
       "      <td>234.000000</td>\n",
       "      <td>228.000000</td>\n",
       "      <td>234.000000</td>\n",
       "    </tr>\n",
       "    <tr>\n",
       "      <th>mean</th>\n",
       "      <td>3.468862e+07</td>\n",
       "      <td>3.437442e+07</td>\n",
       "      <td>453.788248</td>\n",
       "      <td>0.009200</td>\n",
       "      <td>0.004446</td>\n",
       "      <td>117.500000</td>\n",
       "    </tr>\n",
       "    <tr>\n",
       "      <th>std</th>\n",
       "      <td>1.380750e+08</td>\n",
       "      <td>1.373864e+08</td>\n",
       "      <td>1990.163274</td>\n",
       "      <td>0.011371</td>\n",
       "      <td>0.017459</td>\n",
       "      <td>67.694165</td>\n",
       "    </tr>\n",
       "    <tr>\n",
       "      <th>min</th>\n",
       "      <td>5.260000e+02</td>\n",
       "      <td>5.180000e+02</td>\n",
       "      <td>0.140000</td>\n",
       "      <td>-0.030900</td>\n",
       "      <td>0.000000</td>\n",
       "      <td>1.000000</td>\n",
       "    </tr>\n",
       "    <tr>\n",
       "      <th>25%</th>\n",
       "      <td>4.264565e+05</td>\n",
       "      <td>4.225982e+05</td>\n",
       "      <td>39.500000</td>\n",
       "      <td>0.001925</td>\n",
       "      <td>0.000100</td>\n",
       "      <td>59.250000</td>\n",
       "    </tr>\n",
       "    <tr>\n",
       "      <th>50%</th>\n",
       "      <td>5.626359e+06</td>\n",
       "      <td>5.643895e+06</td>\n",
       "      <td>98.500000</td>\n",
       "      <td>0.007950</td>\n",
       "      <td>0.000750</td>\n",
       "      <td>117.500000</td>\n",
       "    </tr>\n",
       "    <tr>\n",
       "      <th>75%</th>\n",
       "      <td>2.392272e+07</td>\n",
       "      <td>2.324537e+07</td>\n",
       "      <td>248.250000</td>\n",
       "      <td>0.015675</td>\n",
       "      <td>0.003000</td>\n",
       "      <td>175.750000</td>\n",
       "    </tr>\n",
       "    <tr>\n",
       "      <th>max</th>\n",
       "      <td>1.441720e+09</td>\n",
       "      <td>1.428628e+09</td>\n",
       "      <td>21674.000000</td>\n",
       "      <td>0.048300</td>\n",
       "      <td>0.180100</td>\n",
       "      <td>234.000000</td>\n",
       "    </tr>\n",
       "  </tbody>\n",
       "</table>\n",
       "</div>"
      ],
      "text/plain": [
       "       Population 2024  Population 2023  Density (/km2)  Growth Rate  \\\n",
       "count     2.340000e+02     2.340000e+02      234.000000   234.000000   \n",
       "mean      3.468862e+07     3.437442e+07      453.788248     0.009200   \n",
       "std       1.380750e+08     1.373864e+08     1990.163274     0.011371   \n",
       "min       5.260000e+02     5.180000e+02        0.140000    -0.030900   \n",
       "25%       4.264565e+05     4.225982e+05       39.500000     0.001925   \n",
       "50%       5.626359e+06     5.643895e+06       98.500000     0.007950   \n",
       "75%       2.392272e+07     2.324537e+07      248.250000     0.015675   \n",
       "max       1.441720e+09     1.428628e+09    21674.000000     0.048300   \n",
       "\n",
       "          World %  World Rank  \n",
       "count  228.000000  234.000000  \n",
       "mean     0.004446  117.500000  \n",
       "std      0.017459   67.694165  \n",
       "min      0.000000    1.000000  \n",
       "25%      0.000100   59.250000  \n",
       "50%      0.000750  117.500000  \n",
       "75%      0.003000  175.750000  \n",
       "max      0.180100  234.000000  "
      ]
     },
     "execution_count": 11,
     "metadata": {},
     "output_type": "execute_result"
    }
   ],
   "source": [
    "data.describe()"
   ]
  },
  {
   "cell_type": "code",
   "execution_count": 12,
   "metadata": {},
   "outputs": [
    {
     "name": "stdout",
     "output_type": "stream",
     "text": [
      "<class 'pandas.core.frame.DataFrame'>\n",
      "RangeIndex: 234 entries, 0 to 233\n",
      "Data columns (total 8 columns):\n",
      " #   Column           Non-Null Count  Dtype  \n",
      "---  ------           --------------  -----  \n",
      " 0   Country          234 non-null    object \n",
      " 1   Population 2024  234 non-null    int64  \n",
      " 2   Population 2023  234 non-null    int64  \n",
      " 3   Area (km2)       234 non-null    object \n",
      " 4   Density (/km2)   234 non-null    float64\n",
      " 5   Growth Rate      234 non-null    float64\n",
      " 6   World %          228 non-null    float64\n",
      " 7   World Rank       234 non-null    int64  \n",
      "dtypes: float64(3), int64(3), object(2)\n",
      "memory usage: 14.8+ KB\n"
     ]
    },
    {
     "data": {
      "text/html": [
       "<div>\n",
       "<style scoped>\n",
       "    .dataframe tbody tr th:only-of-type {\n",
       "        vertical-align: middle;\n",
       "    }\n",
       "\n",
       "    .dataframe tbody tr th {\n",
       "        vertical-align: top;\n",
       "    }\n",
       "\n",
       "    .dataframe thead th {\n",
       "        text-align: right;\n",
       "    }\n",
       "</style>\n",
       "<table border=\"1\" class=\"dataframe\">\n",
       "  <thead>\n",
       "    <tr style=\"text-align: right;\">\n",
       "      <th></th>\n",
       "      <th>Country</th>\n",
       "      <th>Population 2024</th>\n",
       "      <th>Population 2023</th>\n",
       "      <th>Area (km2)</th>\n",
       "      <th>Density (/km2)</th>\n",
       "      <th>Growth Rate</th>\n",
       "      <th>World %</th>\n",
       "      <th>World Rank</th>\n",
       "    </tr>\n",
       "  </thead>\n",
       "  <tbody>\n",
       "    <tr>\n",
       "      <th>228</th>\n",
       "      <td>Saint Pierre and Miquelon</td>\n",
       "      <td>5815</td>\n",
       "      <td>5840</td>\n",
       "      <td>242</td>\n",
       "      <td>24.00</td>\n",
       "      <td>-0.0043</td>\n",
       "      <td>NaN</td>\n",
       "      <td>229</td>\n",
       "    </tr>\n",
       "    <tr>\n",
       "      <th>229</th>\n",
       "      <td>Montserrat</td>\n",
       "      <td>4372</td>\n",
       "      <td>4386</td>\n",
       "      <td>102</td>\n",
       "      <td>43.00</td>\n",
       "      <td>-0.0032</td>\n",
       "      <td>NaN</td>\n",
       "      <td>230</td>\n",
       "    </tr>\n",
       "    <tr>\n",
       "      <th>230</th>\n",
       "      <td>Falkland Islands</td>\n",
       "      <td>3803</td>\n",
       "      <td>3791</td>\n",
       "      <td>12.2K</td>\n",
       "      <td>0.31</td>\n",
       "      <td>0.0032</td>\n",
       "      <td>NaN</td>\n",
       "      <td>231</td>\n",
       "    </tr>\n",
       "    <tr>\n",
       "      <th>231</th>\n",
       "      <td>Niue</td>\n",
       "      <td>1935</td>\n",
       "      <td>1935</td>\n",
       "      <td>261</td>\n",
       "      <td>7.00</td>\n",
       "      <td>0.0000</td>\n",
       "      <td>NaN</td>\n",
       "      <td>232</td>\n",
       "    </tr>\n",
       "    <tr>\n",
       "      <th>232</th>\n",
       "      <td>Tokelau</td>\n",
       "      <td>1915</td>\n",
       "      <td>1893</td>\n",
       "      <td>10</td>\n",
       "      <td>192.00</td>\n",
       "      <td>0.0116</td>\n",
       "      <td>NaN</td>\n",
       "      <td>233</td>\n",
       "    </tr>\n",
       "  </tbody>\n",
       "</table>\n",
       "</div>"
      ],
      "text/plain": [
       "                       Country  Population 2024  Population 2023 Area (km2)  \\\n",
       "228  Saint Pierre and Miquelon             5815             5840        242   \n",
       "229                 Montserrat             4372             4386        102   \n",
       "230           Falkland Islands             3803             3791      12.2K   \n",
       "231                       Niue             1935             1935        261   \n",
       "232                    Tokelau             1915             1893         10   \n",
       "\n",
       "     Density (/km2)  Growth Rate  World %  World Rank  \n",
       "228           24.00      -0.0043      NaN         229  \n",
       "229           43.00      -0.0032      NaN         230  \n",
       "230            0.31       0.0032      NaN         231  \n",
       "231            7.00       0.0000      NaN         232  \n",
       "232          192.00       0.0116      NaN         233  "
      ]
     },
     "execution_count": 12,
     "metadata": {},
     "output_type": "execute_result"
    }
   ],
   "source": [
    "data.info()\n",
    "# we have some missing in the colonne World% but we can ignore it\n",
    "data.isnull().sum()\n",
    "#show coloone which the values are null\n",
    "small_country = data[data[\"World %\"].isnull()]# I thinks there are no values in this column because those country are small\n",
    "small_country.head()"
   ]
  },
  {
   "cell_type": "code",
   "execution_count": 13,
   "metadata": {},
   "outputs": [
    {
     "data": {
      "text/plain": [
       "([0, 1, 2, 3, 4, 5],\n",
       " [Text(0, 0, 'Saint Pierre and Miquelon'),\n",
       "  Text(1, 0, 'Montserrat'),\n",
       "  Text(2, 0, 'Falkland Islands'),\n",
       "  Text(3, 0, 'Niue'),\n",
       "  Text(4, 0, 'Tokelau'),\n",
       "  Text(5, 0, 'Vatican City')])"
      ]
     },
     "execution_count": 13,
     "metadata": {},
     "output_type": "execute_result"
    },
    {
     "data": {
      "image/png": "[encoded data removed]",
      "text/plain": [
       "<Figure size 640x480 with 1 Axes>"
      ]
     },
     "metadata": {},
     "output_type": "display_data"
    }
   ],
   "source": [
    "# small country with less than 1000 population in 2024\n",
    "sns.barplot(data=small_country, x=\"Country\", y=\"Population 2024\")\n",
    "plt.xticks(rotation=90)"
   ]
  },
  {
   "cell_type": "code",
   "execution_count": 14,
   "metadata": {},
   "outputs": [
    {
     "data": {
      "text/plain": [
       "Index(['Country', 'Population 2024', 'Population 2023', 'Area (km2)',\n",
       "       'Density (/km2)', 'Growth Rate', 'World %', 'World Rank'],\n",
       "      dtype='object')"
      ]
     },
     "execution_count": 14,
     "metadata": {},
     "output_type": "execute_result"
    }
   ],
   "source": [
    "data.columns"
   ]
  },
  {
   "cell_type": "code",
   "execution_count": 15,
   "metadata": {},
   "outputs": [
    {
     "data": {
      "application/vnd.plotly.v1+json": {
       "config": {
        "plotlyServerURL": "https://plot.ly"
       },
       "data": [
        {
         "coloraxis": "coloraxis",
         "customdata": [
          [
           1441719852,
           1428627663,
           "3M",
           485,
           0.0092,
           0.1801
          ],
          [
           1425178782,
           1425671352,
           "9.4M",
           151,
           -0.0003,
           0.178
          ],
          [
           341814420,
           339996563,
           "9.1M",
           37,
           0.0053,
           0.0427
          ],
          [
           279798049,
           277534122,
           "1.9M",
           149,
           0.0082,
           0.035
          ],
          [
           245209815,
           240485658,
           "770.9K",
           318,
           0.0196,
           0.0306
          ],
          [
           229152217,
           223804632,
           "910.8K",
           252,
           0.0239,
           0.0286
          ],
          [
           217637297,
           216422446,
           "8.4M",
           26,
           0.0056,
           0.0272
          ],
          [
           174701211,
           172954319,
           "130.2K",
           1342,
           0.0101,
           0.0218
          ],
          [
           143957079,
           144444359,
           "16.4M",
           9,
           -0.0034,
           0.018
          ],
          [
           129719719,
           126527060,
           "1.1M",
           115,
           0.0252,
           0.0162
          ],
          [
           129388467,
           128455567,
           "1.9M",
           67,
           0.0073,
           0.0162
          ],
          [
           122631432,
           123294513,
           "364.5K",
           336,
           -0.0054,
           0.0153
          ],
          [
           119106224,
           117337368,
           "298.2K",
           399,
           0.0151,
           0.0149
          ],
          [
           114484252,
           112716598,
           "1M",
           115,
           0.0157,
           0.0143
          ],
          [
           105625114,
           102262808,
           "2.3M",
           47,
           0.0329,
           0.0132
          ],
          [
           99497680,
           98858950,
           "313.4K",
           317,
           0.0065,
           0.0124
          ],
          [
           89809781,
           89172767,
           "1.6M",
           55,
           0.0071,
           0.0112
          ],
          [
           86260417,
           85816199,
           "783.6K",
           110,
           0.0052,
           0.0108
          ],
          [
           83252474,
           83294633,
           "349.4K",
           238,
           -0.0005,
           0.0104
          ],
          [
           71885799,
           71801279,
           "510.9K",
           141,
           0.0012,
           0.009
          ],
          [
           69419073,
           67438106,
           "885.8K",
           78,
           0.0294,
           0.0087
          ],
          [
           67961439,
           67736802,
           "241.9K",
           281,
           0.0033,
           0.0085
          ],
          [
           64881830,
           64756584,
           "547.6K",
           118,
           0.0019,
           0.0081
          ],
          [
           61020221,
           60414495,
           "1.2M",
           50,
           0.01,
           0.0076
          ],
          [
           58697744,
           58870762,
           "295.7K",
           198,
           -0.0029,
           0.0073
          ],
          [
           56203030,
           55100586,
           "569.1K",
           99,
           0.02,
           0.007
          ],
          [
           54964694,
           54577997,
           "652.7K",
           84,
           0.0071,
           0.0069
          ],
          [
           52340774,
           52085168,
           "1.1M",
           47,
           0.0049,
           0.0065
          ],
          [
           51741963,
           51784059,
           "97.6K",
           530,
           -0.0008,
           0.0065
          ],
          [
           49924252,
           48582334,
           "200.5K",
           249,
           0.0276,
           0.0062
          ],
          [
           49358228,
           48109006,
           "1.9M",
           26,
           0.026,
           0.0062
          ],
          [
           47473373,
           47519628,
           "499.6K",
           95,
           -0.001,
           0.0059
          ],
          [
           46523657,
           45504560,
           "434.1K",
           107,
           0.0224,
           0.0058
          ],
          [
           46278751,
           45606480,
           "2.4M",
           19,
           0.0147,
           0.0058
          ],
          [
           46057866,
           45773884,
           "2.7M",
           17,
           0.0062,
           0.0058
          ],
          [
           43372950,
           42239854,
           "652.2K",
           66,
           0.0268,
           0.0054
          ],
          [
           40221726,
           41026067,
           "306.1K",
           131,
           -0.0196,
           0.005
          ],
          [
           39107046,
           38781291,
           "9M",
           4,
           0.0084,
           0.0049
          ],
          [
           38211459,
           37840044,
           "446.3K",
           86,
           0.0098,
           0.0048
          ],
          [
           37937821,
           36744634,
           "579.4K",
           65,
           0.0325,
           0.0047
          ],
          [
           37804634,
           36684202,
           "1.2M",
           30,
           0.0305,
           0.0047
          ],
          [
           37473929,
           36947025,
           "2.1M",
           17,
           0.0143,
           0.0047
          ],
          [
           35673804,
           35163944,
           "440.6K",
           81,
           0.0145,
           0.0045
          ],
          [
           35219853,
           34449825,
           "528K",
           67,
           0.0224,
           0.0044
          ],
          [
           34858402,
           33897354,
           "786.4K",
           44,
           0.0284,
           0.0044
          ],
          [
           34777522,
           34121985,
           "227.5K",
           153,
           0.0192,
           0.0043
          ],
          [
           34683444,
           34352719,
           "1.3M",
           27,
           0.0096,
           0.0043
          ],
          [
           34671895,
           34308525,
           "328.6K",
           106,
           0.0106,
           0.0043
          ],
          [
           31240315,
           30896590,
           "143.3K",
           218,
           0.0111,
           0.0039
          ],
          [
           31056610,
           30325732,
           "581.8K",
           53,
           0.0241,
           0.0039
          ],
          [
           29603302,
           28873034,
           "318K",
           93,
           0.0253,
           0.0037
          ],
          [
           29395334,
           28838499,
           "882K",
           33,
           0.0193,
           0.0037
          ],
          [
           29394433,
           28647293,
           "472.7K",
           62,
           0.0261,
           0.0037
          ],
          [
           28238972,
           27202843,
           "1.3M",
           22,
           0.0381,
           0.0035
          ],
          [
           26699482,
           26439111,
           "7.7M",
           3,
           0.0098,
           0.0033
          ],
          [
           26244582,
           26160821,
           "120.4K",
           218,
           0.0032,
           0.0033
          ],
          [
           24348053,
           23227014,
           "183.6K",
           133,
           0.0483,
           0.003
          ],
          [
           24015789,
           23293698,
           "1.2M",
           20,
           0.031,
           0.003
          ],
          [
           23950214,
           23923276,
           "36.2K",
           662,
           0.0011,
           0.003
          ],
          [
           23840247,
           23251485,
           "273.6K",
           87,
           0.0253,
           0.003
          ],
          [
           21949268,
           21893579,
           "61.9K",
           355,
           0.0025,
           0.0027
          ],
          [
           21475962,
           20931751,
           "94.3K",
           228,
           0.026,
           0.0027
          ],
          [
           21134695,
           20569737,
           "743.4K",
           28,
           0.0275,
           0.0026
          ],
          [
           19828165,
           19606633,
           "2.7M",
           7,
           0.0113,
           0.0025
          ],
          [
           19658839,
           19629590,
           "743.5K",
           26,
           0.0015,
           0.0025
          ],
          [
           19618996,
           19892812,
           "230.1K",
           85,
           -0.0138,
           0.0025
          ],
          [
           18847148,
           18278568,
           "1.3M",
           15,
           0.0311,
           0.0024
          ],
          [
           18706922,
           18143378,
           "627.3K",
           30,
           0.0311,
           0.0023
          ],
          [
           18377367,
           18190484,
           "248.4K",
           74,
           0.0103,
           0.0023
          ],
          [
           18358430,
           18092026,
           "107.2K",
           171,
           0.0147,
           0.0023
          ],
          [
           18221567,
           17763163,
           "192.5K",
           95,
           0.0258,
           0.0023
          ],
          [
           17671125,
           17618299,
           "33.7K",
           525,
           0.003,
           0.0022
          ],
          [
           17121847,
           16944826,
           "176.5K",
           97,
           0.0104,
           0.0021
          ],
          [
           17020321,
           16665409,
           "386.9K",
           44,
           0.0213,
           0.0021
          ],
          [
           14528770,
           14190612,
           "245.7K",
           59,
           0.0238,
           0.0018
          ],
          [
           14414910,
           14094683,
           "24.7K",
           584,
           0.0227,
           0.0018
          ],
          [
           14080072,
           13712828,
           "112.8K",
           125,
           0.0268,
           0.0018
          ],
          [
           13591657,
           13238559,
           "25.7K",
           529,
           0.0267,
           0.0017
          ],
          [
           12567336,
           12388571,
           "1.1M",
           12,
           0.0144,
           0.0016
          ],
          [
           12564689,
           12458223,
           "155.4K",
           81,
           0.0085,
           0.0016
          ],
          [
           11867030,
           11724763,
           "27.6K",
           431,
           0.0121,
           0.0015
          ],
          [
           11715774,
           11686140,
           "30.3K",
           387,
           0.0025,
           0.0015
          ],
          [
           11434005,
           11332972,
           "48.3K",
           237,
           0.0089,
           0.0014
          ],
          [
           11384922,
           11337052,
           "88.8K",
           128,
           0.0042,
           0.0014
          ],
          [
           11277092,
           11088796,
           "631.9K",
           18,
           0.017,
           0.0014
          ],
          [
           11174587,
           11194449,
           "103.8K",
           108,
           -0.0018,
           0.0014
          ],
          [
           10759406,
           10593798,
           "111.9K",
           96,
           0.0156,
           0.0013
          ],
          [
           10673669,
           10612086,
           "407.3K",
           26,
           0.0058,
           0.0013
          ],
          [
           10515788,
           10329931,
           "452.9K",
           23,
           0.018,
           0.0013
          ],
          [
           10503734,
           10495295,
           "77.2K",
           136,
           0.0008,
           0.0013
          ],
          [
           10462904,
           10412651,
           "82.6K",
           127,
           0.0048,
           0.0013
          ],
          [
           10331513,
           10143543,
           "138.8K",
           74,
           0.0185,
           0.0013
          ],
          [
           10302720,
           10341277,
           "128.9K",
           80,
           -0.0037,
           0.0013
          ],
          [
           10223349,
           10247605,
           "91.6K",
           112,
           -0.0024,
           0.0013
          ],
          [
           9994993,
           10156239,
           "91.3K",
           110,
           -0.0159,
           0.0012
          ],
          [
           9591853,
           9516871,
           "71K",
           135,
           0.0079,
           0.0012
          ],
          [
           9455037,
           9498238,
           "203K",
           47,
           -0.0045,
           0.0012
          ],
          [
           9311652,
           9174520,
           "21.6K",
           430,
           0.0149,
           0.0012
          ],
          [
           9260864,
           9053799,
           "54.4K",
           170,
           0.0229,
           0.0012
          ],
          [
           8977972,
           8791092,
           "72.2K",
           124,
           0.0213,
           0.0011
          ],
          [
           8977139,
           8958960,
           "82.5K",
           109,
           0.002,
           0.0011
          ],
          [
           8851431,
           8796669,
           "39.5K",
           224,
           0.0062,
           0.0011
          ],
          [
           7736681,
           7633779,
           "230.8K",
           34,
           0.0135,
           0.001
          ],
          [
           7496681,
           7491609,
           "1.1K",
           7140,
           0.0007,
           0.0009
          ],
          [
           7142529,
           7046310,
           "120.3K",
           59,
           0.0137,
           0.0009
          ],
          [
           7097028,
           7149077,
           "87.5K",
           81,
           -0.0073,
           0.0009
          ],
          [
           6964197,
           6888388,
           "1.8M",
           4,
           0.011,
           0.0009
          ],
          [
           6947270,
           6861524,
           "397.3K",
           17,
           0.0125,
           0.0009
          ],
          [
           6839606,
           6735347,
           "191.8K",
           36,
           0.0155,
           0.0009
          ],
          [
           6618615,
           6687717,
           "108.6K",
           61,
           -0.0103,
           0.0008
          ],
          [
           6598071,
           6516100,
           "469.9K",
           14,
           0.0126,
           0.0008
          ],
          [
           6396289,
           6364943,
           "20.7K",
           309,
           0.0049,
           0.0008
          ],
          [
           6244547,
           6106869,
           "341.5K",
           18,
           0.0225,
           0.0008
          ],
          [
           6052709,
           6014723,
           "718",
           8430,
           0.0063,
           0.0008
          ],
          [
           5939695,
           5910913,
           "40K",
           148,
           0.0049,
           0.0007
          ],
          [
           5915627,
           5742315,
           "623K",
           9,
           0.0302,
           0.0007
          ],
          [
           5702832,
           5795199,
           "49K",
           116,
           -0.0159,
           0.0007
          ],
          [
           5549886,
           5545475,
           "303.9K",
           18,
           0.0008,
           0.0007
          ],
          [
           5536949,
           5418377,
           "96.3K",
           57,
           0.0219,
           0.0007
          ],
          [
           5514477,
           5474360,
           "364.3K",
           15,
           0.0073,
           0.0007
          ],
          [
           5494963,
           5371230,
           "6K",
           913,
           0.023,
           0.0007
          ],
          [
           5269939,
           5228100,
           "263.3K",
           20,
           0.008,
           0.0007
          ],
          [
           5246714,
           5212173,
           "51.1K",
           103,
           0.0066,
           0.0007
          ],
          [
           5219044,
           5353930,
           "10.2K",
           510,
           -0.0252,
           0.0007
          ],
          [
           5089478,
           5056935,
           "68.9K",
           74,
           0.0064,
           0.0006
          ],
          [
           4993922,
           4862989,
           "1M",
           5,
           0.0269,
           0.0006
          ],
          [
           4713553,
           4644384,
           "309.5K",
           15,
           0.0149,
           0.0006
          ],
          [
           4527961,
           4468087,
           "74.2K",
           61,
           0.0134,
           0.0006
          ],
          [
           4349380,
           4310108,
           "17.8K",
           244,
           0.0091,
           0.0005
          ],
          [
           3986627,
           4008617,
           "56K",
           71,
           -0.0055,
           0.0005
          ],
          [
           3817651,
           3748901,
           "121K",
           32,
           0.0183,
           0.0005
          ],
          [
           3717425,
           3728282,
           "69.5K",
           53,
           -0.0029,
           0.0005
          ],
          [
           3493629,
           3447157,
           "1.6M",
           2,
           0.0135,
           0.0004
          ],
          [
           3423316,
           3423108,
           "175K",
           20,
           0.0001,
           0.0004
          ],
          [
           3329865,
           3435931,
           "32.9K",
           101,
           -0.0309,
           0.0004
          ],
          [
           3268802,
           3260314,
           "8.9K",
           369,
           0.0026,
           0.0004
          ],
          [
           3194378,
           3210847,
           "51.2K",
           62,
           -0.0051,
           0.0004
          ],
          [
           2841803,
           2773168,
           "10.1K",
           281,
           0.0247,
           0.0004
          ],
          [
           2826020,
           2832439,
           "27.4K",
           103,
           -0.0023,
           0.0004
          ],
          [
           2824738,
           2825544,
           "10.8K",
           261,
           -0.0003,
           0.0004
          ],
          [
           2777979,
           2777970,
           "28.5K",
           98,
           0,
           0.0003
          ],
          [
           2737061,
           2716391,
           "11.5K",
           238,
           0.0076,
           0.0003
          ],
          [
           2719694,
           2675352,
           "566.7K",
           5,
           0.0166,
           0.0003
          ],
          [
           2692798,
           2718352,
           "62.6K",
           43,
           -0.0094,
           0.0003
          ],
          [
           2645805,
           2604172,
           "823.3K",
           3,
           0.016,
           0.0003
          ],
          [
           2484557,
           2436566,
           "257.7K",
           10,
           0.0197,
           0.0003
          ],
          [
           2356083,
           2330318,
           "30.4K",
           78,
           0.0111,
           0.0003
          ],
          [
           2197149,
           2150842,
           "28.1K",
           78,
           0.0215,
           0.0003
          ],
          [
           2118965,
           2119675,
           "20.1K",
           105,
           -0.0003,
           0.0003
          ],
          [
           2082706,
           2085679,
           "25.2K",
           83,
           -0.0014,
           0.0003
          ],
          [
           1810240,
           1830211,
           "62.2K",
           29,
           -0.0109,
           0.0002
          ],
          [
           1754993,
           1714671,
           "28.1K",
           63,
           0.0235,
           0.0002
          ],
          [
           1538200,
           1534937,
           "5.1K",
           300,
           0.0021,
           0.0002
          ],
          [
           1498712,
           1485509,
           "785",
           1909,
           0.0089,
           0.0002
          ],
          [
           1379883,
           1360596,
           "14.9K",
           93,
           0.0142,
           0.0002
          ],
          [
           1319041,
           1322765,
           "42.8K",
           31,
           -0.0028,
           0.0002
          ],
          [
           1301978,
           1300557,
           "2K",
           641,
           0.0011,
           0.0002
          ],
          [
           1268467,
           1260138,
           "9.2K",
           137,
           0.0066,
           0.0002
          ],
          [
           1222075,
           1210822,
           "17.2K",
           71,
           0.0093,
           0.0002
          ],
          [
           1152329,
           1136455,
           "23.2K",
           50,
           0.014,
           0.0001
          ],
          [
           989350,
           981796,
           "2.5K",
           394,
           0.0077,
           0.0001
          ],
          [
           943072,
           936375,
           "18.3K",
           52,
           0.0072,
           0.0001
          ],
          [
           867605,
           852075,
           "1.9K",
           466,
           0.0182,
           0.0001
          ],
          [
           819594,
           813834,
           "196.8K",
           4,
           0.0071,
           0.0001
          ],
          [
           792382,
           787424,
           "38.1K",
           21,
           0.0063,
           0.0001
          ],
          [
           756673,
           740424,
           "28K",
           27,
           0.0219,
           0.0001
          ],
          [
           713082,
           704149,
           "33",
           21674,
           0.0127,
           0.0001
          ],
          [
           661594,
           654768,
           "2.6K",
           257,
           0.0104,
           0.0001
          ],
          [
           628785,
           623236,
           "156K",
           4,
           0.0089,
           0.0001
          ],
          [
           626102,
           626485,
           "13.4K",
           47,
           -0.0006,
           0.0001
          ],
          [
           604461,
           598682,
           "4K",
           150,
           0.0097,
           0.0001
          ],
          [
           598385,
           587259,
           "266K",
           2,
           0.0189,
           0.0001
          ],
          [
           536740,
           535064,
           "320",
           1677,
           0.0031,
           0.0001
          ],
          [
           517887,
           521021,
           "300",
           1726,
           -0.006,
           0.0001
          ],
          [
           455858,
           452524,
           "5.3K",
           87,
           0.0074,
           0.0001
          ],
          [
           416656,
           410825,
           "22.8K",
           18,
           0.0142,
           0.0001
          ],
          [
           415223,
           412623,
           "10K",
           41,
           0.0063,
           0.0001
          ],
          [
           396346,
           395839,
           "1.6K",
           243,
           0.0013,
           0
          ],
          [
           377689,
           375318,
           "100.8K",
           4,
           0.0063,
           0
          ],
          [
           366416,
           366981,
           "1.1K",
           325,
           -0.0015,
           0
          ],
          [
           345996,
           335995,
           "374",
           925,
           0.0298,
           0
          ],
          [
           342325,
           334506,
           "12.2K",
           28,
           0.0234,
           0
          ],
          [
           319796,
           312155,
           "83.5K",
           4,
           0.0245,
           0
          ],
          [
           311383,
           308872,
           "3.5K",
           90,
           0.0081,
           0
          ],
          [
           295966,
           292991,
           "18.3K",
           16,
           0.0102,
           0
          ],
          [
           282309,
           281995,
           "430",
           657,
           0.0011,
           0
          ],
          [
           236381,
           231856,
           "960",
           246,
           0.0195,
           0
          ],
          [
           228966,
           225681,
           "2.8K",
           82,
           0.0146,
           0
          ],
          [
           192965,
           192077,
           "444",
           435,
           0.0046,
           0
          ],
          [
           180805,
           180251,
           "610",
           296,
           0.0031,
           0
          ],
          [
           174114,
           172952,
           "540",
           322,
           0.0067,
           0
          ],
          [
           135763,
           133515,
           "810",
           168,
           0.0168,
           0
          ],
          [
           126887,
           126183,
           "340",
           373,
           0.0056,
           0
          ],
          [
           116300,
           115224,
           "700",
           166,
           0.0093,
           0
          ],
          [
           112843,
           111802,
           "120",
           940,
           0.0093,
           0
          ],
          [
           108683,
           107773,
           "720",
           151,
           0.0084,
           0
          ],
          [
           108263,
           107660,
           "460",
           235,
           0.0056,
           0
          ],
          [
           106177,
           106277,
           "180",
           590,
           -0.0009,
           0
          ],
          [
           103683,
           103698,
           "390",
           266,
           -0.0001,
           0
          ],
          [
           98055,
           98750,
           "347",
           283,
           -0.007,
           0
          ],
          [
           94816,
           94298,
           "440",
           215,
           0.0055,
           0
          ],
          [
           84904,
           84710,
           "570",
           149,
           0.0023,
           0
          ],
          [
           80341,
           80088,
           "470",
           171,
           0.0032,
           0
          ],
          [
           73368,
           73040,
           "750",
           98,
           0.0045,
           0
          ],
          [
           69885,
           69310,
           "240",
           291,
           0.0083,
           0
          ],
          [
           63935,
           64069,
           "54",
           1184,
           -0.0021,
           0
          ],
          [
           63788,
           63544,
           "63",
           1013,
           0.0038,
           0
          ],
          [
           56789,
           56643,
           "410.4K",
           0.14,
           0.0026,
           0
          ],
          [
           53444,
           53270,
           "1.4K",
           39,
           0.0033,
           0
          ],
          [
           50025,
           49796,
           "460",
           109,
           0.0046,
           0
          ],
          [
           47847,
           47755,
           "260",
           184,
           0.0019,
           0
          ],
          [
           46431,
           46062,
           "948",
           49,
           0.008,
           0
          ],
          [
           44309,
           44222,
           "34",
           1303,
           0.002,
           0
          ],
          [
           43544,
           43914,
           "200",
           218,
           -0.0084,
           0
          ],
          [
           42415,
           41996,
           "180",
           236,
           0.01,
           0
          ],
          [
           39822,
           39584,
           "160",
           249,
           0.006,
           0
          ],
          [
           36157,
           36297,
           "2",
           18079,
           -0.0039,
           0
          ],
          [
           33614,
           33642,
           "60",
           560,
           -0.0008,
           0
          ],
          [
           32718,
           32688,
           "7",
           4811,
           0.0009,
           0
          ],
          [
           32337,
           32077,
           "50",
           647,
           0.0081,
           0
          ],
          [
           31763,
           31538,
           "150",
           212,
           0.0071,
           0
          ],
          [
           18051,
           18058,
           "460",
           39,
           -0.0004,
           0
          ],
          [
           17072,
           17044,
           "240",
           71,
           0.0016,
           0
          ],
          [
           15936,
           15899,
           "91",
           175,
           0.0023,
           0
          ],
          [
           12884,
           12780,
           "20",
           644,
           0.0081,
           0
          ],
          [
           11478,
           11396,
           "30",
           383,
           0.0072,
           0
          ],
          [
           11439,
           11502,
           "274",
           42,
           -0.0055,
           0
          ],
          [
           11019,
           10994,
           "25",
           441,
           0.0023,
           0
          ],
          [
           5815,
           5840,
           "242",
           24,
           -0.0043,
           null
          ],
          [
           4372,
           4386,
           "102",
           43,
           -0.0032,
           null
          ],
          [
           3803,
           3791,
           "12.2K",
           0.31,
           0.0032,
           null
          ],
          [
           1935,
           1935,
           "261",
           7,
           0,
           null
          ],
          [
           1915,
           1893,
           "10",
           192,
           0.0116,
           null
          ],
          [
           526,
           518,
           "< 1",
           1195,
           0.0154,
           null
          ]
         ],
         "geo": "geo",
         "hovertemplate": "<b>%{hovertext}</b><br><br>Country=%{location}<br>Population 2024=%{z}<br>Population 2023=%{customdata[1]}<br>Area (km2)=%{customdata[2]}<br>Density (/km2)=%{customdata[3]}<br>Growth Rate=%{customdata[4]}<br>World %=%{customdata[5]}<extra></extra>",
         "hovertext": [
          "India",
          "China",
          "United States",
          "Indonesia",
          "Pakistan",
          "Nigeria",
          "Brazil",
          "Bangladesh",
          "Russia",
          "Ethiopia",
          "Mexico",
          "Japan",
          "Philippines",
          "Egypt",
          "DR Congo",
          "Vietnam",
          "Iran",
          "Turkey",
          "Germany",
          "Thailand",
          "Tanzania",
          "United Kingdom",
          "France",
          "South Africa",
          "Italy",
          "Kenya",
          "Myanmar",
          "Colombia",
          "South Korea",
          "Uganda",
          "Sudan",
          "Spain",
          "Iraq",
          "Algeria",
          "Argentina",
          "Afghanistan",
          "Poland",
          "Canada",
          "Morocco",
          "Ukraine",
          "Angola",
          "Saudi Arabia",
          "Uzbekistan",
          "Yemen",
          "Mozambique",
          "Ghana",
          "Peru",
          "Malaysia",
          "Nepal",
          "Madagascar",
          "Ivory Coast",
          "Venezuela",
          "Cameroon",
          "Niger",
          "Australia",
          "North Korea",
          "Syria",
          "Mali",
          "Taiwan",
          "Burkina Faso",
          "Sri Lanka",
          "Malawi",
          "Zambia",
          "Kazakhstan",
          "Chile",
          "Romania",
          "Chad",
          "Somalia",
          "Ecuador",
          "Guatemala",
          "Senegal",
          "Netherlands",
          "Cambodia",
          "Zimbabwe",
          "Guinea",
          "Rwanda",
          "Benin",
          "Burundi",
          "Bolivia",
          "Tunisia",
          "Haiti",
          "Belgium",
          "Dominican Republic",
          "Jordan",
          "South Sudan",
          "Cuba",
          "Honduras",
          "Sweden",
          "Papua New Guinea",
          "Czech Republic",
          "Azerbaijan",
          "Tajikistan",
          "Greece",
          "Portugal",
          "Hungary",
          "United Arab Emirates",
          "Belarus",
          "Israel",
          "Togo",
          "Sierra Leone",
          "Austria",
          "Switzerland",
          "Laos",
          "Hong Kong",
          "Nicaragua",
          "Serbia",
          "Libya",
          "Paraguay",
          "Kyrgyzstan",
          "Bulgaria",
          "Turkmenistan",
          "El Salvador",
          "Republic of the Congo",
          "Singapore",
          "Denmark",
          "Central African Republic",
          "Slovakia",
          "Finland",
          "Liberia",
          "Norway",
          "Palestine",
          "New Zealand",
          "Costa Rica",
          "Lebanon",
          "Ireland",
          "Mauritania",
          "Oman",
          "Panama",
          "Kuwait",
          "Croatia",
          "Eritrea",
          "Georgia",
          "Mongolia",
          "Uruguay",
          "Moldova",
          "Puerto Rico",
          "Bosnia and Herzegovina",
          "Gambia",
          "Albania",
          "Jamaica",
          "Armenia",
          "Qatar",
          "Botswana",
          "Lithuania",
          "Namibia",
          "Gabon",
          "Lesotho",
          "Guinea Bissau",
          "Slovenia",
          "North Macedonia",
          "Latvia",
          "Equatorial Guinea",
          "Trinidad and Tobago",
          "Bahrain",
          "Timor Leste",
          "Estonia",
          "Mauritius",
          "Cyprus",
          "Eswatini",
          "Djibouti",
          "Reunion",
          "Fiji",
          "Comoros",
          "Guyana",
          "Bhutan",
          "Solomon Islands",
          "Macau",
          "Luxembourg",
          "Suriname",
          "Montenegro",
          "Cape Verde",
          "Western Sahara",
          "Malta",
          "Maldives",
          "Brunei",
          "Belize",
          "Bahamas",
          "Guadeloupe",
          "Iceland",
          "Martinique",
          "Mayotte",
          "Vanuatu",
          "French Guiana",
          "French Polynesia",
          "New Caledonia",
          "Barbados",
          "Sao Tome and Principe",
          "Samoa",
          "Curacao",
          "Saint Lucia",
          "Guam",
          "Kiribati",
          "Grenada",
          "Micronesia",
          "Jersey",
          "Tonga",
          "Seychelles",
          "Aruba",
          "Saint Vincent and the Grenadines",
          "United States Virgin Islands",
          "Antigua and Barbuda",
          "Isle of Man",
          "Andorra",
          "Dominica",
          "Cayman Islands",
          "Bermuda",
          "Guernsey",
          "Greenland",
          "Faroe Islands",
          "Northern Mariana Islands",
          "Saint Kitts and Nevis",
          "Turks and Caicos Islands",
          "Sint Maarten",
          "American Samoa",
          "Marshall Islands",
          "Liechtenstein",
          "Monaco",
          "San Marino",
          "Gibraltar",
          "Saint Martin",
          "British Virgin Islands",
          "Palau",
          "Cook Islands",
          "Anguilla",
          "Nauru",
          "Tuvalu",
          "Wallis and Futuna",
          "Saint Barthelemy",
          "Saint Pierre and Miquelon",
          "Montserrat",
          "Falkland Islands",
          "Niue",
          "Tokelau",
          "Vatican City"
         ],
         "locationmode": "country names",
         "locations": [
          "India",
          "China",
          "United States",
          "Indonesia",
          "Pakistan",
          "Nigeria",
          "Brazil",
          "Bangladesh",
          "Russia",
          "Ethiopia",
          "Mexico",
          "Japan",
          "Philippines",
          "Egypt",
          "DR Congo",
          "Vietnam",
          "Iran",
          "Turkey",
          "Germany",
          "Thailand",
          "Tanzania",
          "United Kingdom",
          "France",
          "South Africa",
          "Italy",
          "Kenya",
          "Myanmar",
          "Colombia",
          "South Korea",
          "Uganda",
          "Sudan",
          "Spain",
          "Iraq",
          "Algeria",
          "Argentina",
          "Afghanistan",
          "Poland",
          "Canada",
          "Morocco",
          "Ukraine",
          "Angola",
          "Saudi Arabia",
          "Uzbekistan",
          "Yemen",
          "Mozambique",
          "Ghana",
          "Peru",
          "Malaysia",
          "Nepal",
          "Madagascar",
          "Ivory Coast",
          "Venezuela",
          "Cameroon",
          "Niger",
          "Australia",
          "North Korea",
          "Syria",
          "Mali",
          "Taiwan",
          "Burkina Faso",
          "Sri Lanka",
          "Malawi",
          "Zambia",
          "Kazakhstan",
          "Chile",
          "Romania",
          "Chad",
          "Somalia",
          "Ecuador",
          "Guatemala",
          "Senegal",
          "Netherlands",
          "Cambodia",
          "Zimbabwe",
          "Guinea",
          "Rwanda",
          "Benin",
          "Burundi",
          "Bolivia",
          "Tunisia",
          "Haiti",
          "Belgium",
          "Dominican Republic",
          "Jordan",
          "South Sudan",
          "Cuba",
          "Honduras",
          "Sweden",
          "Papua New Guinea",
          "Czech Republic",
          "Azerbaijan",
          "Tajikistan",
          "Greece",
          "Portugal",
          "Hungary",
          "United Arab Emirates",
          "Belarus",
          "Israel",
          "Togo",
          "Sierra Leone",
          "Austria",
          "Switzerland",
          "Laos",
          "Hong Kong",
          "Nicaragua",
          "Serbia",
          "Libya",
          "Paraguay",
          "Kyrgyzstan",
          "Bulgaria",
          "Turkmenistan",
          "El Salvador",
          "Republic of the Congo",
          "Singapore",
          "Denmark",
          "Central African Republic",
          "Slovakia",
          "Finland",
          "Liberia",
          "Norway",
          "Palestine",
          "New Zealand",
          "Costa Rica",
          "Lebanon",
          "Ireland",
          "Mauritania",
          "Oman",
          "Panama",
          "Kuwait",
          "Croatia",
          "Eritrea",
          "Georgia",
          "Mongolia",
          "Uruguay",
          "Moldova",
          "Puerto Rico",
          "Bosnia and Herzegovina",
          "Gambia",
          "Albania",
          "Jamaica",
          "Armenia",
          "Qatar",
          "Botswana",
          "Lithuania",
          "Namibia",
          "Gabon",
          "Lesotho",
          "Guinea Bissau",
          "Slovenia",
          "North Macedonia",
          "Latvia",
          "Equatorial Guinea",
          "Trinidad and Tobago",
          "Bahrain",
          "Timor Leste",
          "Estonia",
          "Mauritius",
          "Cyprus",
          "Eswatini",
          "Djibouti",
          "Reunion",
          "Fiji",
          "Comoros",
          "Guyana",
          "Bhutan",
          "Solomon Islands",
          "Macau",
          "Luxembourg",
          "Suriname",
          "Montenegro",
          "Cape Verde",
          "Western Sahara",
          "Malta",
          "Maldives",
          "Brunei",
          "Belize",
          "Bahamas",
          "Guadeloupe",
          "Iceland",
          "Martinique",
          "Mayotte",
          "Vanuatu",
          "French Guiana",
          "French Polynesia",
          "New Caledonia",
          "Barbados",
          "Sao Tome and Principe",
          "Samoa",
          "Curacao",
          "Saint Lucia",
          "Guam",
          "Kiribati",
          "Grenada",
          "Micronesia",
          "Jersey",
          "Tonga",
          "Seychelles",
          "Aruba",
          "Saint Vincent and the Grenadines",
          "United States Virgin Islands",
          "Antigua and Barbuda",
          "Isle of Man",
          "Andorra",
          "Dominica",
          "Cayman Islands",
          "Bermuda",
          "Guernsey",
          "Greenland",
          "Faroe Islands",
          "Northern Mariana Islands",
          "Saint Kitts and Nevis",
          "Turks and Caicos Islands",
          "Sint Maarten",
          "American Samoa",
          "Marshall Islands",
          "Liechtenstein",
          "Monaco",
          "San Marino",
          "Gibraltar",
          "Saint Martin",
          "British Virgin Islands",
          "Palau",
          "Cook Islands",
          "Anguilla",
          "Nauru",
          "Tuvalu",
          "Wallis and Futuna",
          "Saint Barthelemy",
          "Saint Pierre and Miquelon",
          "Montserrat",
          "Falkland Islands",
          "Niue",
          "Tokelau",
          "Vatican City"
         ],
         "name": "",
         "type": "choropleth",
         "z": {
          "bdata": "LObuVZ6A8lSUrF8UIWGtENeanQ7ZlagNseH4DJu6aQpXnJQIp127B7NPtgcINU8HsGoZBxzk0gYatksG0DbuBXVjWgXBOiQF+lT2BOfjSARBQCMEXwINBKYE3gM9GKMDEKh/AxaXWQPWsUYDJqgeAwuFFQOcyPkClCXxAt1i1AIJ5cUCXyjCAorJvgKW0ZUCHrxlAua5VAKDD0cCneJCAlraQAKJzjsCzFYgAo1pGQKi5RMCsqkSAjQ6EQIXDRECe7DcAeLi2QHmtcMBhonAAQGGwAF85K4B2maXAeZ1kAGVhXMBrXNuAYZzbQH3xWsBVOtOAXqyRwFnfUIBxY0uAVf4KwG0XCsBrJUfAepxHQGXahgBniAYAf8JFgHVow0BN0IFAaG1AwECsd0APvTbAEjY1gBpZM8AKMO/ANG4vwCWE7UAvsSyABV4rgBauK0AJBOsALuCqgDuLKQABd6iAEx1oAA2RqAAuKafAHmlnQAANZ0A9f6bAPGCmAAtXJIAvUWQAKQVjgBAT40ANP6IAPP6iADnD4cAaQ12AOljcgCB/GwAxEpsAOVDagDGAWoANl1oAPf9ZAC3rWQAgZlhAMNIXwBlW1wA76FaAOtDWgCwBFcAPq9UALV8VADtJFQAs9hTALNpUAD6DlAA5KJPAMaoTQCCM0wAUexHAFkXRQDEXUIAw9Q8ALNAOgAxuTgA/U41AFQ8NABJzzIAwuAxAAq+MADLXCsAJB8rACIaKwB7YyoApcMpAM5/KQC+FikALV8oAE3pJQBz8yMAnYYhADVVIACSxx8AQJ8bAHHHGgCYeBcAWN4WACsOFQCBIBQA2t0TAPNaEwC7pRIASZURAKYYDwDgYw4AFT0NAIqBDAA+FwwAwYsLAHrhCgBaGAoAMZgJALaNCQAtOQkAcSEJAKQwCAD/5gcAsvQGAJBbBgD3VQYAOgwGAFnDBQBQlwUAjEcFADU5BQA04QQAV8AEAB6EBADFTgQAXZsDAGZ+AwDF8QIARcICACKoAgBTEgIAp+8BAEzGAQDLuAEAi6gBAOemAQDBngEAA5UBAAd/AQBgcgEAqEsBANU5AQCYHgEA/RABAL/5AAAs+QAA1d0AAMTQAABpwwAA57oAAF+1AAAVrQAAGKoAAK+lAACOmwAAPY0AAE6DAADOfwAAUX4AABN8AACDRgAAsEIAAEA+AABUMgAA1iwAAK8sAAALKwAAtxYAABQRAADbDgAAjwcAAHsHAAAOAgAA",
          "dtype": "i4"
         }
        }
       ],
       "layout": {
        "coloraxis": {
         "colorbar": {
          "title": {
           "text": "Population 2024"
          }
         },
         "colorscale": [
          [
           0,
           "#fde725"
          ],
          [
           0.1111111111111111,
           "#b5de2b"
          ],
          [
           0.2222222222222222,
           "#6ece58"
          ],
          [
           0.3333333333333333,
           "#35b779"
          ],
          [
           0.4444444444444444,
           "#1f9e89"
          ],
          [
           0.5555555555555556,
           "#26828e"
          ],
          [
           0.6666666666666666,
           "#31688e"
          ],
          [
           0.7777777777777778,
           "#3e4989"
          ],
          [
           0.8888888888888888,
           "#482878"
          ],
          [
           1,
           "#440154"
          ]
         ]
        },
        "geo": {
         "center": {},
         "domain": {
          "x": [
           0,
           1
          ],
          "y": [
           0,
           1
          ]
         },
         "projection": {
          "type": "orthographic"
         }
        },
        "height": 900,
        "legend": {
         "tracegroupgap": 0
        },
        "template": {
         "data": {
          "bar": [
           {
            "error_x": {
             "color": "#2a3f5f"
            },
            "error_y": {
             "color": "#2a3f5f"
            },
            "marker": {
             "line": {
              "color": "#E5ECF6",
              "width": 0.5
             },
             "pattern": {
              "fillmode": "overlay",
              "size": 10,
              "solidity": 0.2
             }
            },
            "type": "bar"
           }
          ],
          "barpolar": [
           {
            "marker": {
             "line": {
              "color": "#E5ECF6",
              "width": 0.5
             },
             "pattern": {
              "fillmode": "overlay",
              "size": 10,
              "solidity": 0.2
             }
            },
            "type": "barpolar"
           }
          ],
          "carpet": [
           {
            "aaxis": {
             "endlinecolor": "#2a3f5f",
             "gridcolor": "white",
             "linecolor": "white",
             "minorgridcolor": "white",
             "startlinecolor": "#2a3f5f"
            },
            "baxis": {
             "endlinecolor": "#2a3f5f",
             "gridcolor": "white",
             "linecolor": "white",
             "minorgridcolor": "white",
             "startlinecolor": "#2a3f5f"
            },
            "type": "carpet"
           }
          ],
          "choropleth": [
           {
            "colorbar": {
             "outlinewidth": 0,
             "ticks": ""
            },
            "type": "choropleth"
           }
          ],
          "contour": [
           {
            "colorbar": {
             "outlinewidth": 0,
             "ticks": ""
            },
            "colorscale": [
             [
              0,
              "#0d0887"
             ],
             [
              0.1111111111111111,
              "#46039f"
             ],
             [
              0.2222222222222222,
              "#7201a8"
             ],
             [
              0.3333333333333333,
              "#9c179e"
             ],
             [
              0.4444444444444444,
              "#bd3786"
             ],
             [
              0.5555555555555556,
              "#d8576b"
             ],
             [
              0.6666666666666666,
              "#ed7953"
             ],
             [
              0.7777777777777778,
              "#fb9f3a"
             ],
             [
              0.8888888888888888,
              "#fdca26"
             ],
             [
              1,
              "#f0f921"
             ]
            ],
            "type": "contour"
           }
          ],
          "contourcarpet": [
           {
            "colorbar": {
             "outlinewidth": 0,
             "ticks": ""
            },
            "type": "contourcarpet"
           }
          ],
          "heatmap": [
           {
            "colorbar": {
             "outlinewidth": 0,
             "ticks": ""
            },
            "colorscale": [
             [
              0,
              "#0d0887"
             ],
             [
              0.1111111111111111,
              "#46039f"
             ],
             [
              0.2222222222222222,
              "#7201a8"
             ],
             [
              0.3333333333333333,
              "#9c179e"
             ],
             [
              0.4444444444444444,
              "#bd3786"
             ],
             [
              0.5555555555555556,
              "#d8576b"
             ],
             [
              0.6666666666666666,
              "#ed7953"
             ],
             [
              0.7777777777777778,
              "#fb9f3a"
             ],
             [
              0.8888888888888888,
              "#fdca26"
             ],
             [
              1,
              "#f0f921"
             ]
            ],
            "type": "heatmap"
           }
          ],
          "histogram": [
           {
            "marker": {
             "pattern": {
              "fillmode": "overlay",
              "size": 10,
              "solidity": 0.2
             }
            },
            "type": "histogram"
           }
          ],
          "histogram2d": [
           {
            "colorbar": {
             "outlinewidth": 0,
             "ticks": ""
            },
            "colorscale": [
             [
              0,
              "#0d0887"
             ],
             [
              0.1111111111111111,
              "#46039f"
             ],
             [
              0.2222222222222222,
              "#7201a8"
             ],
             [
              0.3333333333333333,
              "#9c179e"
             ],
             [
              0.4444444444444444,
              "#bd3786"
             ],
             [
              0.5555555555555556,
              "#d8576b"
             ],
             [
              0.6666666666666666,
              "#ed7953"
             ],
             [
              0.7777777777777778,
              "#fb9f3a"
             ],
             [
              0.8888888888888888,
              "#fdca26"
             ],
             [
              1,
              "#f0f921"
             ]
            ],
            "type": "histogram2d"
           }
          ],
          "histogram2dcontour": [
           {
            "colorbar": {
             "outlinewidth": 0,
             "ticks": ""
            },
            "colorscale": [
             [
              0,
              "#0d0887"
             ],
             [
              0.1111111111111111,
              "#46039f"
             ],
             [
              0.2222222222222222,
              "#7201a8"
             ],
             [
              0.3333333333333333,
              "#9c179e"
             ],
             [
              0.4444444444444444,
              "#bd3786"
             ],
             [
              0.5555555555555556,
              "#d8576b"
             ],
             [
              0.6666666666666666,
              "#ed7953"
             ],
             [
              0.7777777777777778,
              "#fb9f3a"
             ],
             [
              0.8888888888888888,
              "#fdca26"
             ],
             [
              1,
              "#f0f921"
             ]
            ],
            "type": "histogram2dcontour"
           }
          ],
          "mesh3d": [
           {
            "colorbar": {
             "outlinewidth": 0,
             "ticks": ""
            },
            "type": "mesh3d"
           }
          ],
          "parcoords": [
           {
            "line": {
             "colorbar": {
              "outlinewidth": 0,
              "ticks": ""
             }
            },
            "type": "parcoords"
           }
          ],
          "pie": [
           {
            "automargin": true,
            "type": "pie"
           }
          ],
          "scatter": [
           {
            "fillpattern": {
             "fillmode": "overlay",
             "size": 10,
             "solidity": 0.2
            },
            "type": "scatter"
           }
          ],
          "scatter3d": [
           {
            "line": {
             "colorbar": {
              "outlinewidth": 0,
              "ticks": ""
             }
            },
            "marker": {
             "colorbar": {
              "outlinewidth": 0,
              "ticks": ""
             }
            },
            "type": "scatter3d"
           }
          ],
          "scattercarpet": [
           {
            "marker": {
             "colorbar": {
              "outlinewidth": 0,
              "ticks": ""
             }
            },
            "type": "scattercarpet"
           }
          ],
          "scattergeo": [
           {
            "marker": {
             "colorbar": {
              "outlinewidth": 0,
              "ticks": ""
             }
            },
            "type": "scattergeo"
           }
          ],
          "scattergl": [
           {
            "marker": {
             "colorbar": {
              "outlinewidth": 0,
              "ticks": ""
             }
            },
            "type": "scattergl"
           }
          ],
          "scattermap": [
           {
            "marker": {
             "colorbar": {
              "outlinewidth": 0,
              "ticks": ""
             }
            },
            "type": "scattermap"
           }
          ],
          "scattermapbox": [
           {
            "marker": {
             "colorbar": {
              "outlinewidth": 0,
              "ticks": ""
             }
            },
            "type": "scattermapbox"
           }
          ],
          "scatterpolar": [
           {
            "marker": {
             "colorbar": {
              "outlinewidth": 0,
              "ticks": ""
             }
            },
            "type": "scatterpolar"
           }
          ],
          "scatterpolargl": [
           {
            "marker": {
             "colorbar": {
              "outlinewidth": 0,
              "ticks": ""
             }
            },
            "type": "scatterpolargl"
           }
          ],
          "scatterternary": [
           {
            "marker": {
             "colorbar": {
              "outlinewidth": 0,
              "ticks": ""
             }
            },
            "type": "scatterternary"
           }
          ],
          "surface": [
           {
            "colorbar": {
             "outlinewidth": 0,
             "ticks": ""
            },
            "colorscale": [
             [
              0,
              "#0d0887"
             ],
             [
              0.1111111111111111,
              "#46039f"
             ],
             [
              0.2222222222222222,
              "#7201a8"
             ],
             [
              0.3333333333333333,
              "#9c179e"
             ],
             [
              0.4444444444444444,
              "#bd3786"
             ],
             [
              0.5555555555555556,
              "#d8576b"
             ],
             [
              0.6666666666666666,
              "#ed7953"
             ],
             [
              0.7777777777777778,
              "#fb9f3a"
             ],
             [
              0.8888888888888888,
              "#fdca26"
             ],
             [
              1,
              "#f0f921"
             ]
            ],
            "type": "surface"
           }
          ],
          "table": [
           {
            "cells": {
             "fill": {
              "color": "#EBF0F8"
             },
             "line": {
              "color": "white"
             }
            },
            "header": {
             "fill": {
              "color": "#C8D4E3"
             },
             "line": {
              "color": "white"
             }
            },
            "type": "table"
           }
          ]
         },
         "layout": {
          "annotationdefaults": {
           "arrowcolor": "#2a3f5f",
           "arrowhead": 0,
           "arrowwidth": 1
          },
          "autotypenumbers": "strict",
          "coloraxis": {
           "colorbar": {
            "outlinewidth": 0,
            "ticks": ""
           }
          },
          "colorscale": {
           "diverging": [
            [
             0,
             "#8e0152"
            ],
            [
             0.1,
             "#c51b7d"
            ],
            [
             0.2,
             "#de77ae"
            ],
            [
             0.3,
             "#f1b6da"
            ],
            [
             0.4,
             "#fde0ef"
            ],
            [
             0.5,
             "#f7f7f7"
            ],
            [
             0.6,
             "#e6f5d0"
            ],
            [
             0.7,
             "#b8e186"
            ],
            [
             0.8,
             "#7fbc41"
            ],
            [
             0.9,
             "#4d9221"
            ],
            [
             1,
             "#276419"
            ]
           ],
           "sequential": [
            [
             0,
             "#0d0887"
            ],
            [
             0.1111111111111111,
             "#46039f"
            ],
            [
             0.2222222222222222,
             "#7201a8"
            ],
            [
             0.3333333333333333,
             "#9c179e"
            ],
            [
             0.4444444444444444,
             "#bd3786"
            ],
            [
             0.5555555555555556,
             "#d8576b"
            ],
            [
             0.6666666666666666,
             "#ed7953"
            ],
            [
             0.7777777777777778,
             "#fb9f3a"
            ],
            [
             0.8888888888888888,
             "#fdca26"
            ],
            [
             1,
             "#f0f921"
            ]
           ],
           "sequentialminus": [
            [
             0,
             "#0d0887"
            ],
            [
             0.1111111111111111,
             "#46039f"
            ],
            [
             0.2222222222222222,
             "#7201a8"
            ],
            [
             0.3333333333333333,
             "#9c179e"
            ],
            [
             0.4444444444444444,
             "#bd3786"
            ],
            [
             0.5555555555555556,
             "#d8576b"
            ],
            [
             0.6666666666666666,
             "#ed7953"
            ],
            [
             0.7777777777777778,
             "#fb9f3a"
            ],
            [
             0.8888888888888888,
             "#fdca26"
            ],
            [
             1,
             "#f0f921"
            ]
           ]
          },
          "colorway": [
           "#636efa",
           "#EF553B",
           "#00cc96",
           "#ab63fa",
           "#FFA15A",
           "#19d3f3",
           "#FF6692",
           "#B6E880",
           "#FF97FF",
           "#FECB52"
          ],
          "font": {
           "color": "#2a3f5f"
          },
          "geo": {
           "bgcolor": "white",
           "lakecolor": "white",
           "landcolor": "#E5ECF6",
           "showlakes": true,
           "showland": true,
           "subunitcolor": "white"
          },
          "hoverlabel": {
           "align": "left"
          },
          "hovermode": "closest",
          "mapbox": {
           "style": "light"
          },
          "paper_bgcolor": "white",
          "plot_bgcolor": "#E5ECF6",
          "polar": {
           "angularaxis": {
            "gridcolor": "white",
            "linecolor": "white",
            "ticks": ""
           },
           "bgcolor": "#E5ECF6",
           "radialaxis": {
            "gridcolor": "white",
            "linecolor": "white",
            "ticks": ""
           }
          },
          "scene": {
           "xaxis": {
            "backgroundcolor": "#E5ECF6",
            "gridcolor": "white",
            "gridwidth": 2,
            "linecolor": "white",
            "showbackground": true,
            "ticks": "",
            "zerolinecolor": "white"
           },
           "yaxis": {
            "backgroundcolor": "#E5ECF6",
            "gridcolor": "white",
            "gridwidth": 2,
            "linecolor": "white",
            "showbackground": true,
            "ticks": "",
            "zerolinecolor": "white"
           },
           "zaxis": {
            "backgroundcolor": "#E5ECF6",
            "gridcolor": "white",
            "gridwidth": 2,
            "linecolor": "white",
            "showbackground": true,
            "ticks": "",
            "zerolinecolor": "white"
           }
          },
          "shapedefaults": {
           "line": {
            "color": "#2a3f5f"
           }
          },
          "ternary": {
           "aaxis": {
            "gridcolor": "white",
            "linecolor": "white",
            "ticks": ""
           },
           "baxis": {
            "gridcolor": "white",
            "linecolor": "white",
            "ticks": ""
           },
           "bgcolor": "#E5ECF6",
           "caxis": {
            "gridcolor": "white",
            "linecolor": "white",
            "ticks": ""
           }
          },
          "title": {
           "x": 0.05
          },
          "xaxis": {
           "automargin": true,
           "gridcolor": "white",
           "linecolor": "white",
           "ticks": "",
           "title": {
            "standoff": 15
           },
           "zerolinecolor": "white",
           "zerolinewidth": 2
          },
          "yaxis": {
           "automargin": true,
           "gridcolor": "white",
           "linecolor": "white",
           "ticks": "",
           "title": {
            "standoff": 15
           },
           "zerolinecolor": "white",
           "zerolinewidth": 2
          }
         }
        },
        "title": {
         "text": "Population of the world (2024)"
        },
        "width": 1000
       }
      }
     },
     "metadata": {},
     "output_type": "display_data"
    }
   ],
   "source": [
    "\n",
    "import plotly.express as px\n",
    "\n",
    "# let't create the choropleth map with all the available data\n",
    "fig = px.choropleth(\n",
    "    data,                     \n",
    "    locations=\"Country\",            \n",
    "    locationmode=\"country names\", # Use country names as locations\n",
    "    color=\"Population 2024\",  # Use population 2024 as color\n",
    "    hover_name=\"Country\",  # show the name of the country in the hover\n",
    "    hover_data={  # show the data in the hover\n",
    "        \"Population 2024\": True,\n",
    "        \"Population 2023\": True,\n",
    "        \"Area (km2)\": True,\n",
    "        \"Density (/km2)\": True,\n",
    "        \"Growth Rate\": True,\n",
    "        \"World %\": True\n",
    "    },\n",
    "    title=\"Population of the world (2024)\",  # title of the plot    \n",
    "    color_continuous_scale=\"viridis_r\" # reverse the color scale\n",
    ")\n",
    "\n",
    "fig.update_geos(projection_type=\"orthographic\")  # the projection type\n",
    "fig.update_layout(width=1000, height=900)  # size of the plot\n",
    "\n",
    "fig.show()"
   ]
  },
  {
   "cell_type": "code",
   "execution_count": 16,
   "metadata": {},
   "outputs": [
    {
     "data": {
      "text/plain": [
       "np.float64(21674.0)"
      ]
     },
     "execution_count": 16,
     "metadata": {},
     "output_type": "execute_result"
    }
   ],
   "source": [
    "data.head()\n",
    "data[\"Density (/km2)\"].max()"
   ]
  },
  {
   "cell_type": "code",
   "execution_count": 17,
   "metadata": {},
   "outputs": [
    {
     "data": {
      "application/vnd.plotly.v1+json": {
       "config": {
        "plotlyServerURL": "https://plot.ly"
       },
       "data": [
        {
         "colorscale": [
          [
           0,
           "#636efa"
          ],
          [
           1,
           "#636efa"
          ]
         ],
         "customdata": [
          [
           1441719852,
           1428627663,
           "3M",
           485,
           0.0092,
           0.1801
          ]
         ],
         "geo": "geo",
         "hovertemplate": "<b>%{hovertext}</b><br><br>Country=%{location}<br>Population 2024=%{customdata[0]}<br>Population 2023=%{customdata[1]}<br>Area (km2)=%{customdata[2]}<br>Density (/km2)=%{customdata[3]}<br>Growth Rate=%{customdata[4]}<br>World %=%{customdata[5]}<extra></extra>",
         "hovertext": [
          "India"
         ],
         "locationmode": "country names",
         "locations": [
          "India"
         ],
         "name": "India",
         "showlegend": true,
         "showscale": false,
         "type": "choropleth",
         "z": [
          1
         ]
        },
        {
         "colorscale": [
          [
           0,
           "#EF553B"
          ],
          [
           1,
           "#EF553B"
          ]
         ],
         "customdata": [
          [
           1425178782,
           1425671352,
           "9.4M",
           151,
           -0.0003,
           0.178
          ]
         ],
         "geo": "geo",
         "hovertemplate": "<b>%{hovertext}</b><br><br>Country=%{location}<br>Population 2024=%{customdata[0]}<br>Population 2023=%{customdata[1]}<br>Area (km2)=%{customdata[2]}<br>Density (/km2)=%{customdata[3]}<br>Growth Rate=%{customdata[4]}<br>World %=%{customdata[5]}<extra></extra>",
         "hovertext": [
          "China"
         ],
         "locationmode": "country names",
         "locations": [
          "China"
         ],
         "name": "China",
         "showlegend": true,
         "showscale": false,
         "type": "choropleth",
         "z": [
          1
         ]
        },
        {
         "colorscale": [
          [
           0,
           "#00cc96"
          ],
          [
           1,
           "#00cc96"
          ]
         ],
         "customdata": [
          [
           341814420,
           339996563,
           "9.1M",
           37,
           0.0053,
           0.0427
          ]
         ],
         "geo": "geo",
         "hovertemplate": "<b>%{hovertext}</b><br><br>Country=%{location}<br>Population 2024=%{customdata[0]}<br>Population 2023=%{customdata[1]}<br>Area (km2)=%{customdata[2]}<br>Density (/km2)=%{customdata[3]}<br>Growth Rate=%{customdata[4]}<br>World %=%{customdata[5]}<extra></extra>",
         "hovertext": [
          "United States"
         ],
         "locationmode": "country names",
         "locations": [
          "United States"
         ],
         "name": "United States",
         "showlegend": true,
         "showscale": false,
         "type": "choropleth",
         "z": [
          1
         ]
        },
        {
         "colorscale": [
          [
           0,
           "#ab63fa"
          ],
          [
           1,
           "#ab63fa"
          ]
         ],
         "customdata": [
          [
           279798049,
           277534122,
           "1.9M",
           149,
           0.0082,
           0.035
          ]
         ],
         "geo": "geo",
         "hovertemplate": "<b>%{hovertext}</b><br><br>Country=%{location}<br>Population 2024=%{customdata[0]}<br>Population 2023=%{customdata[1]}<br>Area (km2)=%{customdata[2]}<br>Density (/km2)=%{customdata[3]}<br>Growth Rate=%{customdata[4]}<br>World %=%{customdata[5]}<extra></extra>",
         "hovertext": [
          "Indonesia"
         ],
         "locationmode": "country names",
         "locations": [
          "Indonesia"
         ],
         "name": "Indonesia",
         "showlegend": true,
         "showscale": false,
         "type": "choropleth",
         "z": [
          1
         ]
        },
        {
         "colorscale": [
          [
           0,
           "#FFA15A"
          ],
          [
           1,
           "#FFA15A"
          ]
         ],
         "customdata": [
          [
           245209815,
           240485658,
           "770.9K",
           318,
           0.0196,
           0.0306
          ]
         ],
         "geo": "geo",
         "hovertemplate": "<b>%{hovertext}</b><br><br>Country=%{location}<br>Population 2024=%{customdata[0]}<br>Population 2023=%{customdata[1]}<br>Area (km2)=%{customdata[2]}<br>Density (/km2)=%{customdata[3]}<br>Growth Rate=%{customdata[4]}<br>World %=%{customdata[5]}<extra></extra>",
         "hovertext": [
          "Pakistan"
         ],
         "locationmode": "country names",
         "locations": [
          "Pakistan"
         ],
         "name": "Pakistan",
         "showlegend": true,
         "showscale": false,
         "type": "choropleth",
         "z": [
          1
         ]
        },
        {
         "colorscale": [
          [
           0,
           "#19d3f3"
          ],
          [
           1,
           "#19d3f3"
          ]
         ],
         "customdata": [
          [
           229152217,
           223804632,
           "910.8K",
           252,
           0.0239,
           0.0286
          ]
         ],
         "geo": "geo",
         "hovertemplate": "<b>%{hovertext}</b><br><br>Country=%{location}<br>Population 2024=%{customdata[0]}<br>Population 2023=%{customdata[1]}<br>Area (km2)=%{customdata[2]}<br>Density (/km2)=%{customdata[3]}<br>Growth Rate=%{customdata[4]}<br>World %=%{customdata[5]}<extra></extra>",
         "hovertext": [
          "Nigeria"
         ],
         "locationmode": "country names",
         "locations": [
          "Nigeria"
         ],
         "name": "Nigeria",
         "showlegend": true,
         "showscale": false,
         "type": "choropleth",
         "z": [
          1
         ]
        },
        {
         "colorscale": [
          [
           0,
           "#FF6692"
          ],
          [
           1,
           "#FF6692"
          ]
         ],
         "customdata": [
          [
           217637297,
           216422446,
           "8.4M",
           26,
           0.0056,
           0.0272
          ]
         ],
         "geo": "geo",
         "hovertemplate": "<b>%{hovertext}</b><br><br>Country=%{location}<br>Population 2024=%{customdata[0]}<br>Population 2023=%{customdata[1]}<br>Area (km2)=%{customdata[2]}<br>Density (/km2)=%{customdata[3]}<br>Growth Rate=%{customdata[4]}<br>World %=%{customdata[5]}<extra></extra>",
         "hovertext": [
          "Brazil"
         ],
         "locationmode": "country names",
         "locations": [
          "Brazil"
         ],
         "name": "Brazil",
         "showlegend": true,
         "showscale": false,
         "type": "choropleth",
         "z": [
          1
         ]
        },
        {
         "colorscale": [
          [
           0,
           "#B6E880"
          ],
          [
           1,
           "#B6E880"
          ]
         ],
         "customdata": [
          [
           174701211,
           172954319,
           "130.2K",
           1342,
           0.0101,
           0.0218
          ]
         ],
         "geo": "geo",
         "hovertemplate": "<b>%{hovertext}</b><br><br>Country=%{location}<br>Population 2024=%{customdata[0]}<br>Population 2023=%{customdata[1]}<br>Area (km2)=%{customdata[2]}<br>Density (/km2)=%{customdata[3]}<br>Growth Rate=%{customdata[4]}<br>World %=%{customdata[5]}<extra></extra>",
         "hovertext": [
          "Bangladesh"
         ],
         "locationmode": "country names",
         "locations": [
          "Bangladesh"
         ],
         "name": "Bangladesh",
         "showlegend": true,
         "showscale": false,
         "type": "choropleth",
         "z": [
          1
         ]
        },
        {
         "colorscale": [
          [
           0,
           "#FF97FF"
          ],
          [
           1,
           "#FF97FF"
          ]
         ],
         "customdata": [
          [
           143957079,
           144444359,
           "16.4M",
           9,
           -0.0034,
           0.018
          ]
         ],
         "geo": "geo",
         "hovertemplate": "<b>%{hovertext}</b><br><br>Country=%{location}<br>Population 2024=%{customdata[0]}<br>Population 2023=%{customdata[1]}<br>Area (km2)=%{customdata[2]}<br>Density (/km2)=%{customdata[3]}<br>Growth Rate=%{customdata[4]}<br>World %=%{customdata[5]}<extra></extra>",
         "hovertext": [
          "Russia"
         ],
         "locationmode": "country names",
         "locations": [
          "Russia"
         ],
         "name": "Russia",
         "showlegend": true,
         "showscale": false,
         "type": "choropleth",
         "z": [
          1
         ]
        },
        {
         "colorscale": [
          [
           0,
           "#FECB52"
          ],
          [
           1,
           "#FECB52"
          ]
         ],
         "customdata": [
          [
           129719719,
           126527060,
           "1.1M",
           115,
           0.0252,
           0.0162
          ]
         ],
         "geo": "geo",
         "hovertemplate": "<b>%{hovertext}</b><br><br>Country=%{location}<br>Population 2024=%{customdata[0]}<br>Population 2023=%{customdata[1]}<br>Area (km2)=%{customdata[2]}<br>Density (/km2)=%{customdata[3]}<br>Growth Rate=%{customdata[4]}<br>World %=%{customdata[5]}<extra></extra>",
         "hovertext": [
          "Ethiopia"
         ],
         "locationmode": "country names",
         "locations": [
          "Ethiopia"
         ],
         "name": "Ethiopia",
         "showlegend": true,
         "showscale": false,
         "type": "choropleth",
         "z": [
          1
         ]
        },
        {
         "colorscale": [
          [
           0,
           "#636efa"
          ],
          [
           1,
           "#636efa"
          ]
         ],
         "customdata": [
          [
           129388467,
           128455567,
           "1.9M",
           67,
           0.0073,
           0.0162
          ]
         ],
         "geo": "geo",
         "hovertemplate": "<b>%{hovertext}</b><br><br>Country=%{location}<br>Population 2024=%{customdata[0]}<br>Population 2023=%{customdata[1]}<br>Area (km2)=%{customdata[2]}<br>Density (/km2)=%{customdata[3]}<br>Growth Rate=%{customdata[4]}<br>World %=%{customdata[5]}<extra></extra>",
         "hovertext": [
          "Mexico"
         ],
         "locationmode": "country names",
         "locations": [
          "Mexico"
         ],
         "name": "Mexico",
         "showlegend": true,
         "showscale": false,
         "type": "choropleth",
         "z": [
          1
         ]
        },
        {
         "colorscale": [
          [
           0,
           "#EF553B"
          ],
          [
           1,
           "#EF553B"
          ]
         ],
         "customdata": [
          [
           122631432,
           123294513,
           "364.5K",
           336,
           -0.0054,
           0.0153
          ]
         ],
         "geo": "geo",
         "hovertemplate": "<b>%{hovertext}</b><br><br>Country=%{location}<br>Population 2024=%{customdata[0]}<br>Population 2023=%{customdata[1]}<br>Area (km2)=%{customdata[2]}<br>Density (/km2)=%{customdata[3]}<br>Growth Rate=%{customdata[4]}<br>World %=%{customdata[5]}<extra></extra>",
         "hovertext": [
          "Japan"
         ],
         "locationmode": "country names",
         "locations": [
          "Japan"
         ],
         "name": "Japan",
         "showlegend": true,
         "showscale": false,
         "type": "choropleth",
         "z": [
          1
         ]
        },
        {
         "colorscale": [
          [
           0,
           "#00cc96"
          ],
          [
           1,
           "#00cc96"
          ]
         ],
         "customdata": [
          [
           119106224,
           117337368,
           "298.2K",
           399,
           0.0151,
           0.0149
          ]
         ],
         "geo": "geo",
         "hovertemplate": "<b>%{hovertext}</b><br><br>Country=%{location}<br>Population 2024=%{customdata[0]}<br>Population 2023=%{customdata[1]}<br>Area (km2)=%{customdata[2]}<br>Density (/km2)=%{customdata[3]}<br>Growth Rate=%{customdata[4]}<br>World %=%{customdata[5]}<extra></extra>",
         "hovertext": [
          "Philippines"
         ],
         "locationmode": "country names",
         "locations": [
          "Philippines"
         ],
         "name": "Philippines",
         "showlegend": true,
         "showscale": false,
         "type": "choropleth",
         "z": [
          1
         ]
        },
        {
         "colorscale": [
          [
           0,
           "#ab63fa"
          ],
          [
           1,
           "#ab63fa"
          ]
         ],
         "customdata": [
          [
           114484252,
           112716598,
           "1M",
           115,
           0.0157,
           0.0143
          ]
         ],
         "geo": "geo",
         "hovertemplate": "<b>%{hovertext}</b><br><br>Country=%{location}<br>Population 2024=%{customdata[0]}<br>Population 2023=%{customdata[1]}<br>Area (km2)=%{customdata[2]}<br>Density (/km2)=%{customdata[3]}<br>Growth Rate=%{customdata[4]}<br>World %=%{customdata[5]}<extra></extra>",
         "hovertext": [
          "Egypt"
         ],
         "locationmode": "country names",
         "locations": [
          "Egypt"
         ],
         "name": "Egypt",
         "showlegend": true,
         "showscale": false,
         "type": "choropleth",
         "z": [
          1
         ]
        },
        {
         "colorscale": [
          [
           0,
           "#FFA15A"
          ],
          [
           1,
           "#FFA15A"
          ]
         ],
         "customdata": [
          [
           105625114,
           102262808,
           "2.3M",
           47,
           0.0329,
           0.0132
          ]
         ],
         "geo": "geo",
         "hovertemplate": "<b>%{hovertext}</b><br><br>Country=%{location}<br>Population 2024=%{customdata[0]}<br>Population 2023=%{customdata[1]}<br>Area (km2)=%{customdata[2]}<br>Density (/km2)=%{customdata[3]}<br>Growth Rate=%{customdata[4]}<br>World %=%{customdata[5]}<extra></extra>",
         "hovertext": [
          "DR Congo"
         ],
         "locationmode": "country names",
         "locations": [
          "DR Congo"
         ],
         "name": "DR Congo",
         "showlegend": true,
         "showscale": false,
         "type": "choropleth",
         "z": [
          1
         ]
        },
        {
         "colorscale": [
          [
           0,
           "#19d3f3"
          ],
          [
           1,
           "#19d3f3"
          ]
         ],
         "customdata": [
          [
           99497680,
           98858950,
           "313.4K",
           317,
           0.0065,
           0.0124
          ]
         ],
         "geo": "geo",
         "hovertemplate": "<b>%{hovertext}</b><br><br>Country=%{location}<br>Population 2024=%{customdata[0]}<br>Population 2023=%{customdata[1]}<br>Area (km2)=%{customdata[2]}<br>Density (/km2)=%{customdata[3]}<br>Growth Rate=%{customdata[4]}<br>World %=%{customdata[5]}<extra></extra>",
         "hovertext": [
          "Vietnam"
         ],
         "locationmode": "country names",
         "locations": [
          "Vietnam"
         ],
         "name": "Vietnam",
         "showlegend": true,
         "showscale": false,
         "type": "choropleth",
         "z": [
          1
         ]
        },
        {
         "colorscale": [
          [
           0,
           "#FF6692"
          ],
          [
           1,
           "#FF6692"
          ]
         ],
         "customdata": [
          [
           89809781,
           89172767,
           "1.6M",
           55,
           0.0071,
           0.0112
          ]
         ],
         "geo": "geo",
         "hovertemplate": "<b>%{hovertext}</b><br><br>Country=%{location}<br>Population 2024=%{customdata[0]}<br>Population 2023=%{customdata[1]}<br>Area (km2)=%{customdata[2]}<br>Density (/km2)=%{customdata[3]}<br>Growth Rate=%{customdata[4]}<br>World %=%{customdata[5]}<extra></extra>",
         "hovertext": [
          "Iran"
         ],
         "locationmode": "country names",
         "locations": [
          "Iran"
         ],
         "name": "Iran",
         "showlegend": true,
         "showscale": false,
         "type": "choropleth",
         "z": [
          1
         ]
        },
        {
         "colorscale": [
          [
           0,
           "#B6E880"
          ],
          [
           1,
           "#B6E880"
          ]
         ],
         "customdata": [
          [
           86260417,
           85816199,
           "783.6K",
           110,
           0.0052,
           0.0108
          ]
         ],
         "geo": "geo",
         "hovertemplate": "<b>%{hovertext}</b><br><br>Country=%{location}<br>Population 2024=%{customdata[0]}<br>Population 2023=%{customdata[1]}<br>Area (km2)=%{customdata[2]}<br>Density (/km2)=%{customdata[3]}<br>Growth Rate=%{customdata[4]}<br>World %=%{customdata[5]}<extra></extra>",
         "hovertext": [
          "Turkey"
         ],
         "locationmode": "country names",
         "locations": [
          "Turkey"
         ],
         "name": "Turkey",
         "showlegend": true,
         "showscale": false,
         "type": "choropleth",
         "z": [
          1
         ]
        },
        {
         "colorscale": [
          [
           0,
           "#FF97FF"
          ],
          [
           1,
           "#FF97FF"
          ]
         ],
         "customdata": [
          [
           83252474,
           83294633,
           "349.4K",
           238,
           -0.0005,
           0.0104
          ]
         ],
         "geo": "geo",
         "hovertemplate": "<b>%{hovertext}</b><br><br>Country=%{location}<br>Population 2024=%{customdata[0]}<br>Population 2023=%{customdata[1]}<br>Area (km2)=%{customdata[2]}<br>Density (/km2)=%{customdata[3]}<br>Growth Rate=%{customdata[4]}<br>World %=%{customdata[5]}<extra></extra>",
         "hovertext": [
          "Germany"
         ],
         "locationmode": "country names",
         "locations": [
          "Germany"
         ],
         "name": "Germany",
         "showlegend": true,
         "showscale": false,
         "type": "choropleth",
         "z": [
          1
         ]
        },
        {
         "colorscale": [
          [
           0,
           "#FECB52"
          ],
          [
           1,
           "#FECB52"
          ]
         ],
         "customdata": [
          [
           71885799,
           71801279,
           "510.9K",
           141,
           0.0012,
           0.009
          ]
         ],
         "geo": "geo",
         "hovertemplate": "<b>%{hovertext}</b><br><br>Country=%{location}<br>Population 2024=%{customdata[0]}<br>Population 2023=%{customdata[1]}<br>Area (km2)=%{customdata[2]}<br>Density (/km2)=%{customdata[3]}<br>Growth Rate=%{customdata[4]}<br>World %=%{customdata[5]}<extra></extra>",
         "hovertext": [
          "Thailand"
         ],
         "locationmode": "country names",
         "locations": [
          "Thailand"
         ],
         "name": "Thailand",
         "showlegend": true,
         "showscale": false,
         "type": "choropleth",
         "z": [
          1
         ]
        },
        {
         "colorscale": [
          [
           0,
           "#636efa"
          ],
          [
           1,
           "#636efa"
          ]
         ],
         "customdata": [
          [
           69419073,
           67438106,
           "885.8K",
           78,
           0.0294,
           0.0087
          ]
         ],
         "geo": "geo",
         "hovertemplate": "<b>%{hovertext}</b><br><br>Country=%{location}<br>Population 2024=%{customdata[0]}<br>Population 2023=%{customdata[1]}<br>Area (km2)=%{customdata[2]}<br>Density (/km2)=%{customdata[3]}<br>Growth Rate=%{customdata[4]}<br>World %=%{customdata[5]}<extra></extra>",
         "hovertext": [
          "Tanzania"
         ],
         "locationmode": "country names",
         "locations": [
          "Tanzania"
         ],
         "name": "Tanzania",
         "showlegend": true,
         "showscale": false,
         "type": "choropleth",
         "z": [
          1
         ]
        },
        {
         "colorscale": [
          [
           0,
           "#EF553B"
          ],
          [
           1,
           "#EF553B"
          ]
         ],
         "customdata": [
          [
           67961439,
           67736802,
           "241.9K",
           281,
           0.0033,
           0.0085
          ]
         ],
         "geo": "geo",
         "hovertemplate": "<b>%{hovertext}</b><br><br>Country=%{location}<br>Population 2024=%{customdata[0]}<br>Population 2023=%{customdata[1]}<br>Area (km2)=%{customdata[2]}<br>Density (/km2)=%{customdata[3]}<br>Growth Rate=%{customdata[4]}<br>World %=%{customdata[5]}<extra></extra>",
         "hovertext": [
          "United Kingdom"
         ],
         "locationmode": "country names",
         "locations": [
          "United Kingdom"
         ],
         "name": "United Kingdom",
         "showlegend": true,
         "showscale": false,
         "type": "choropleth",
         "z": [
          1
         ]
        },
        {
         "colorscale": [
          [
           0,
           "#00cc96"
          ],
          [
           1,
           "#00cc96"
          ]
         ],
         "customdata": [
          [
           64881830,
           64756584,
           "547.6K",
           118,
           0.0019,
           0.0081
          ]
         ],
         "geo": "geo",
         "hovertemplate": "<b>%{hovertext}</b><br><br>Country=%{location}<br>Population 2024=%{customdata[0]}<br>Population 2023=%{customdata[1]}<br>Area (km2)=%{customdata[2]}<br>Density (/km2)=%{customdata[3]}<br>Growth Rate=%{customdata[4]}<br>World %=%{customdata[5]}<extra></extra>",
         "hovertext": [
          "France"
         ],
         "locationmode": "country names",
         "locations": [
          "France"
         ],
         "name": "France",
         "showlegend": true,
         "showscale": false,
         "type": "choropleth",
         "z": [
          1
         ]
        },
        {
         "colorscale": [
          [
           0,
           "#ab63fa"
          ],
          [
           1,
           "#ab63fa"
          ]
         ],
         "customdata": [
          [
           61020221,
           60414495,
           "1.2M",
           50,
           0.01,
           0.0076
          ]
         ],
         "geo": "geo",
         "hovertemplate": "<b>%{hovertext}</b><br><br>Country=%{location}<br>Population 2024=%{customdata[0]}<br>Population 2023=%{customdata[1]}<br>Area (km2)=%{customdata[2]}<br>Density (/km2)=%{customdata[3]}<br>Growth Rate=%{customdata[4]}<br>World %=%{customdata[5]}<extra></extra>",
         "hovertext": [
          "South Africa"
         ],
         "locationmode": "country names",
         "locations": [
          "South Africa"
         ],
         "name": "South Africa",
         "showlegend": true,
         "showscale": false,
         "type": "choropleth",
         "z": [
          1
         ]
        },
        {
         "colorscale": [
          [
           0,
           "#FFA15A"
          ],
          [
           1,
           "#FFA15A"
          ]
         ],
         "customdata": [
          [
           58697744,
           58870762,
           "295.7K",
           198,
           -0.0029,
           0.0073
          ]
         ],
         "geo": "geo",
         "hovertemplate": "<b>%{hovertext}</b><br><br>Country=%{location}<br>Population 2024=%{customdata[0]}<br>Population 2023=%{customdata[1]}<br>Area (km2)=%{customdata[2]}<br>Density (/km2)=%{customdata[3]}<br>Growth Rate=%{customdata[4]}<br>World %=%{customdata[5]}<extra></extra>",
         "hovertext": [
          "Italy"
         ],
         "locationmode": "country names",
         "locations": [
          "Italy"
         ],
         "name": "Italy",
         "showlegend": true,
         "showscale": false,
         "type": "choropleth",
         "z": [
          1
         ]
        },
        {
         "colorscale": [
          [
           0,
           "#19d3f3"
          ],
          [
           1,
           "#19d3f3"
          ]
         ],
         "customdata": [
          [
           56203030,
           55100586,
           "569.1K",
           99,
           0.02,
           0.007
          ]
         ],
         "geo": "geo",
         "hovertemplate": "<b>%{hovertext}</b><br><br>Country=%{location}<br>Population 2024=%{customdata[0]}<br>Population 2023=%{customdata[1]}<br>Area (km2)=%{customdata[2]}<br>Density (/km2)=%{customdata[3]}<br>Growth Rate=%{customdata[4]}<br>World %=%{customdata[5]}<extra></extra>",
         "hovertext": [
          "Kenya"
         ],
         "locationmode": "country names",
         "locations": [
          "Kenya"
         ],
         "name": "Kenya",
         "showlegend": true,
         "showscale": false,
         "type": "choropleth",
         "z": [
          1
         ]
        },
        {
         "colorscale": [
          [
           0,
           "#FF6692"
          ],
          [
           1,
           "#FF6692"
          ]
         ],
         "customdata": [
          [
           54964694,
           54577997,
           "652.7K",
           84,
           0.0071,
           0.0069
          ]
         ],
         "geo": "geo",
         "hovertemplate": "<b>%{hovertext}</b><br><br>Country=%{location}<br>Population 2024=%{customdata[0]}<br>Population 2023=%{customdata[1]}<br>Area (km2)=%{customdata[2]}<br>Density (/km2)=%{customdata[3]}<br>Growth Rate=%{customdata[4]}<br>World %=%{customdata[5]}<extra></extra>",
         "hovertext": [
          "Myanmar"
         ],
         "locationmode": "country names",
         "locations": [
          "Myanmar"
         ],
         "name": "Myanmar",
         "showlegend": true,
         "showscale": false,
         "type": "choropleth",
         "z": [
          1
         ]
        },
        {
         "colorscale": [
          [
           0,
           "#B6E880"
          ],
          [
           1,
           "#B6E880"
          ]
         ],
         "customdata": [
          [
           52340774,
           52085168,
           "1.1M",
           47,
           0.0049,
           0.0065
          ]
         ],
         "geo": "geo",
         "hovertemplate": "<b>%{hovertext}</b><br><br>Country=%{location}<br>Population 2024=%{customdata[0]}<br>Population 2023=%{customdata[1]}<br>Area (km2)=%{customdata[2]}<br>Density (/km2)=%{customdata[3]}<br>Growth Rate=%{customdata[4]}<br>World %=%{customdata[5]}<extra></extra>",
         "hovertext": [
          "Colombia"
         ],
         "locationmode": "country names",
         "locations": [
          "Colombia"
         ],
         "name": "Colombia",
         "showlegend": true,
         "showscale": false,
         "type": "choropleth",
         "z": [
          1
         ]
        },
        {
         "colorscale": [
          [
           0,
           "#FF97FF"
          ],
          [
           1,
           "#FF97FF"
          ]
         ],
         "customdata": [
          [
           51741963,
           51784059,
           "97.6K",
           530,
           -0.0008,
           0.0065
          ]
         ],
         "geo": "geo",
         "hovertemplate": "<b>%{hovertext}</b><br><br>Country=%{location}<br>Population 2024=%{customdata[0]}<br>Population 2023=%{customdata[1]}<br>Area (km2)=%{customdata[2]}<br>Density (/km2)=%{customdata[3]}<br>Growth Rate=%{customdata[4]}<br>World %=%{customdata[5]}<extra></extra>",
         "hovertext": [
          "South Korea"
         ],
         "locationmode": "country names",
         "locations": [
          "South Korea"
         ],
         "name": "South Korea",
         "showlegend": true,
         "showscale": false,
         "type": "choropleth",
         "z": [
          1
         ]
        },
        {
         "colorscale": [
          [
           0,
           "#FECB52"
          ],
          [
           1,
           "#FECB52"
          ]
         ],
         "customdata": [
          [
           49924252,
           48582334,
           "200.5K",
           249,
           0.0276,
           0.0062
          ]
         ],
         "geo": "geo",
         "hovertemplate": "<b>%{hovertext}</b><br><br>Country=%{location}<br>Population 2024=%{customdata[0]}<br>Population 2023=%{customdata[1]}<br>Area (km2)=%{customdata[2]}<br>Density (/km2)=%{customdata[3]}<br>Growth Rate=%{customdata[4]}<br>World %=%{customdata[5]}<extra></extra>",
         "hovertext": [
          "Uganda"
         ],
         "locationmode": "country names",
         "locations": [
          "Uganda"
         ],
         "name": "Uganda",
         "showlegend": true,
         "showscale": false,
         "type": "choropleth",
         "z": [
          1
         ]
        },
        {
         "colorscale": [
          [
           0,
           "#636efa"
          ],
          [
           1,
           "#636efa"
          ]
         ],
         "customdata": [
          [
           49358228,
           48109006,
           "1.9M",
           26,
           0.026,
           0.0062
          ]
         ],
         "geo": "geo",
         "hovertemplate": "<b>%{hovertext}</b><br><br>Country=%{location}<br>Population 2024=%{customdata[0]}<br>Population 2023=%{customdata[1]}<br>Area (km2)=%{customdata[2]}<br>Density (/km2)=%{customdata[3]}<br>Growth Rate=%{customdata[4]}<br>World %=%{customdata[5]}<extra></extra>",
         "hovertext": [
          "Sudan"
         ],
         "locationmode": "country names",
         "locations": [
          "Sudan"
         ],
         "name": "Sudan",
         "showlegend": true,
         "showscale": false,
         "type": "choropleth",
         "z": [
          1
         ]
        },
        {
         "colorscale": [
          [
           0,
           "#EF553B"
          ],
          [
           1,
           "#EF553B"
          ]
         ],
         "customdata": [
          [
           47473373,
           47519628,
           "499.6K",
           95,
           -0.001,
           0.0059
          ]
         ],
         "geo": "geo",
         "hovertemplate": "<b>%{hovertext}</b><br><br>Country=%{location}<br>Population 2024=%{customdata[0]}<br>Population 2023=%{customdata[1]}<br>Area (km2)=%{customdata[2]}<br>Density (/km2)=%{customdata[3]}<br>Growth Rate=%{customdata[4]}<br>World %=%{customdata[5]}<extra></extra>",
         "hovertext": [
          "Spain"
         ],
         "locationmode": "country names",
         "locations": [
          "Spain"
         ],
         "name": "Spain",
         "showlegend": true,
         "showscale": false,
         "type": "choropleth",
         "z": [
          1
         ]
        },
        {
         "colorscale": [
          [
           0,
           "#00cc96"
          ],
          [
           1,
           "#00cc96"
          ]
         ],
         "customdata": [
          [
           46523657,
           45504560,
           "434.1K",
           107,
           0.0224,
           0.0058
          ]
         ],
         "geo": "geo",
         "hovertemplate": "<b>%{hovertext}</b><br><br>Country=%{location}<br>Population 2024=%{customdata[0]}<br>Population 2023=%{customdata[1]}<br>Area (km2)=%{customdata[2]}<br>Density (/km2)=%{customdata[3]}<br>Growth Rate=%{customdata[4]}<br>World %=%{customdata[5]}<extra></extra>",
         "hovertext": [
          "Iraq"
         ],
         "locationmode": "country names",
         "locations": [
          "Iraq"
         ],
         "name": "Iraq",
         "showlegend": true,
         "showscale": false,
         "type": "choropleth",
         "z": [
          1
         ]
        },
        {
         "colorscale": [
          [
           0,
           "#ab63fa"
          ],
          [
           1,
           "#ab63fa"
          ]
         ],
         "customdata": [
          [
           46278751,
           45606480,
           "2.4M",
           19,
           0.0147,
           0.0058
          ]
         ],
         "geo": "geo",
         "hovertemplate": "<b>%{hovertext}</b><br><br>Country=%{location}<br>Population 2024=%{customdata[0]}<br>Population 2023=%{customdata[1]}<br>Area (km2)=%{customdata[2]}<br>Density (/km2)=%{customdata[3]}<br>Growth Rate=%{customdata[4]}<br>World %=%{customdata[5]}<extra></extra>",
         "hovertext": [
          "Algeria"
         ],
         "locationmode": "country names",
         "locations": [
          "Algeria"
         ],
         "name": "Algeria",
         "showlegend": true,
         "showscale": false,
         "type": "choropleth",
         "z": [
          1
         ]
        },
        {
         "colorscale": [
          [
           0,
           "#FFA15A"
          ],
          [
           1,
           "#FFA15A"
          ]
         ],
         "customdata": [
          [
           46057866,
           45773884,
           "2.7M",
           17,
           0.0062,
           0.0058
          ]
         ],
         "geo": "geo",
         "hovertemplate": "<b>%{hovertext}</b><br><br>Country=%{location}<br>Population 2024=%{customdata[0]}<br>Population 2023=%{customdata[1]}<br>Area (km2)=%{customdata[2]}<br>Density (/km2)=%{customdata[3]}<br>Growth Rate=%{customdata[4]}<br>World %=%{customdata[5]}<extra></extra>",
         "hovertext": [
          "Argentina"
         ],
         "locationmode": "country names",
         "locations": [
          "Argentina"
         ],
         "name": "Argentina",
         "showlegend": true,
         "showscale": false,
         "type": "choropleth",
         "z": [
          1
         ]
        },
        {
         "colorscale": [
          [
           0,
           "#19d3f3"
          ],
          [
           1,
           "#19d3f3"
          ]
         ],
         "customdata": [
          [
           43372950,
           42239854,
           "652.2K",
           66,
           0.0268,
           0.0054
          ]
         ],
         "geo": "geo",
         "hovertemplate": "<b>%{hovertext}</b><br><br>Country=%{location}<br>Population 2024=%{customdata[0]}<br>Population 2023=%{customdata[1]}<br>Area (km2)=%{customdata[2]}<br>Density (/km2)=%{customdata[3]}<br>Growth Rate=%{customdata[4]}<br>World %=%{customdata[5]}<extra></extra>",
         "hovertext": [
          "Afghanistan"
         ],
         "locationmode": "country names",
         "locations": [
          "Afghanistan"
         ],
         "name": "Afghanistan",
         "showlegend": true,
         "showscale": false,
         "type": "choropleth",
         "z": [
          1
         ]
        },
        {
         "colorscale": [
          [
           0,
           "#FF6692"
          ],
          [
           1,
           "#FF6692"
          ]
         ],
         "customdata": [
          [
           40221726,
           41026067,
           "306.1K",
           131,
           -0.0196,
           0.005
          ]
         ],
         "geo": "geo",
         "hovertemplate": "<b>%{hovertext}</b><br><br>Country=%{location}<br>Population 2024=%{customdata[0]}<br>Population 2023=%{customdata[1]}<br>Area (km2)=%{customdata[2]}<br>Density (/km2)=%{customdata[3]}<br>Growth Rate=%{customdata[4]}<br>World %=%{customdata[5]}<extra></extra>",
         "hovertext": [
          "Poland"
         ],
         "locationmode": "country names",
         "locations": [
          "Poland"
         ],
         "name": "Poland",
         "showlegend": true,
         "showscale": false,
         "type": "choropleth",
         "z": [
          1
         ]
        },
        {
         "colorscale": [
          [
           0,
           "#B6E880"
          ],
          [
           1,
           "#B6E880"
          ]
         ],
         "customdata": [
          [
           39107046,
           38781291,
           "9M",
           4,
           0.0084,
           0.0049
          ]
         ],
         "geo": "geo",
         "hovertemplate": "<b>%{hovertext}</b><br><br>Country=%{location}<br>Population 2024=%{customdata[0]}<br>Population 2023=%{customdata[1]}<br>Area (km2)=%{customdata[2]}<br>Density (/km2)=%{customdata[3]}<br>Growth Rate=%{customdata[4]}<br>World %=%{customdata[5]}<extra></extra>",
         "hovertext": [
          "Canada"
         ],
         "locationmode": "country names",
         "locations": [
          "Canada"
         ],
         "name": "Canada",
         "showlegend": true,
         "showscale": false,
         "type": "choropleth",
         "z": [
          1
         ]
        },
        {
         "colorscale": [
          [
           0,
           "#FF97FF"
          ],
          [
           1,
           "#FF97FF"
          ]
         ],
         "customdata": [
          [
           38211459,
           37840044,
           "446.3K",
           86,
           0.0098,
           0.0048
          ]
         ],
         "geo": "geo",
         "hovertemplate": "<b>%{hovertext}</b><br><br>Country=%{location}<br>Population 2024=%{customdata[0]}<br>Population 2023=%{customdata[1]}<br>Area (km2)=%{customdata[2]}<br>Density (/km2)=%{customdata[3]}<br>Growth Rate=%{customdata[4]}<br>World %=%{customdata[5]}<extra></extra>",
         "hovertext": [
          "Morocco"
         ],
         "locationmode": "country names",
         "locations": [
          "Morocco"
         ],
         "name": "Morocco",
         "showlegend": true,
         "showscale": false,
         "type": "choropleth",
         "z": [
          1
         ]
        },
        {
         "colorscale": [
          [
           0,
           "#FECB52"
          ],
          [
           1,
           "#FECB52"
          ]
         ],
         "customdata": [
          [
           37937821,
           36744634,
           "579.4K",
           65,
           0.0325,
           0.0047
          ]
         ],
         "geo": "geo",
         "hovertemplate": "<b>%{hovertext}</b><br><br>Country=%{location}<br>Population 2024=%{customdata[0]}<br>Population 2023=%{customdata[1]}<br>Area (km2)=%{customdata[2]}<br>Density (/km2)=%{customdata[3]}<br>Growth Rate=%{customdata[4]}<br>World %=%{customdata[5]}<extra></extra>",
         "hovertext": [
          "Ukraine"
         ],
         "locationmode": "country names",
         "locations": [
          "Ukraine"
         ],
         "name": "Ukraine",
         "showlegend": true,
         "showscale": false,
         "type": "choropleth",
         "z": [
          1
         ]
        },
        {
         "colorscale": [
          [
           0,
           "#636efa"
          ],
          [
           1,
           "#636efa"
          ]
         ],
         "customdata": [
          [
           37804634,
           36684202,
           "1.2M",
           30,
           0.0305,
           0.0047
          ]
         ],
         "geo": "geo",
         "hovertemplate": "<b>%{hovertext}</b><br><br>Country=%{location}<br>Population 2024=%{customdata[0]}<br>Population 2023=%{customdata[1]}<br>Area (km2)=%{customdata[2]}<br>Density (/km2)=%{customdata[3]}<br>Growth Rate=%{customdata[4]}<br>World %=%{customdata[5]}<extra></extra>",
         "hovertext": [
          "Angola"
         ],
         "locationmode": "country names",
         "locations": [
          "Angola"
         ],
         "name": "Angola",
         "showlegend": true,
         "showscale": false,
         "type": "choropleth",
         "z": [
          1
         ]
        },
        {
         "colorscale": [
          [
           0,
           "#EF553B"
          ],
          [
           1,
           "#EF553B"
          ]
         ],
         "customdata": [
          [
           37473929,
           36947025,
           "2.1M",
           17,
           0.0143,
           0.0047
          ]
         ],
         "geo": "geo",
         "hovertemplate": "<b>%{hovertext}</b><br><br>Country=%{location}<br>Population 2024=%{customdata[0]}<br>Population 2023=%{customdata[1]}<br>Area (km2)=%{customdata[2]}<br>Density (/km2)=%{customdata[3]}<br>Growth Rate=%{customdata[4]}<br>World %=%{customdata[5]}<extra></extra>",
         "hovertext": [
          "Saudi Arabia"
         ],
         "locationmode": "country names",
         "locations": [
          "Saudi Arabia"
         ],
         "name": "Saudi Arabia",
         "showlegend": true,
         "showscale": false,
         "type": "choropleth",
         "z": [
          1
         ]
        },
        {
         "colorscale": [
          [
           0,
           "#00cc96"
          ],
          [
           1,
           "#00cc96"
          ]
         ],
         "customdata": [
          [
           35673804,
           35163944,
           "440.6K",
           81,
           0.0145,
           0.0045
          ]
         ],
         "geo": "geo",
         "hovertemplate": "<b>%{hovertext}</b><br><br>Country=%{location}<br>Population 2024=%{customdata[0]}<br>Population 2023=%{customdata[1]}<br>Area (km2)=%{customdata[2]}<br>Density (/km2)=%{customdata[3]}<br>Growth Rate=%{customdata[4]}<br>World %=%{customdata[5]}<extra></extra>",
         "hovertext": [
          "Uzbekistan"
         ],
         "locationmode": "country names",
         "locations": [
          "Uzbekistan"
         ],
         "name": "Uzbekistan",
         "showlegend": true,
         "showscale": false,
         "type": "choropleth",
         "z": [
          1
         ]
        },
        {
         "colorscale": [
          [
           0,
           "#ab63fa"
          ],
          [
           1,
           "#ab63fa"
          ]
         ],
         "customdata": [
          [
           35219853,
           34449825,
           "528K",
           67,
           0.0224,
           0.0044
          ]
         ],
         "geo": "geo",
         "hovertemplate": "<b>%{hovertext}</b><br><br>Country=%{location}<br>Population 2024=%{customdata[0]}<br>Population 2023=%{customdata[1]}<br>Area (km2)=%{customdata[2]}<br>Density (/km2)=%{customdata[3]}<br>Growth Rate=%{customdata[4]}<br>World %=%{customdata[5]}<extra></extra>",
         "hovertext": [
          "Yemen"
         ],
         "locationmode": "country names",
         "locations": [
          "Yemen"
         ],
         "name": "Yemen",
         "showlegend": true,
         "showscale": false,
         "type": "choropleth",
         "z": [
          1
         ]
        },
        {
         "colorscale": [
          [
           0,
           "#FFA15A"
          ],
          [
           1,
           "#FFA15A"
          ]
         ],
         "customdata": [
          [
           34858402,
           33897354,
           "786.4K",
           44,
           0.0284,
           0.0044
          ]
         ],
         "geo": "geo",
         "hovertemplate": "<b>%{hovertext}</b><br><br>Country=%{location}<br>Population 2024=%{customdata[0]}<br>Population 2023=%{customdata[1]}<br>Area (km2)=%{customdata[2]}<br>Density (/km2)=%{customdata[3]}<br>Growth Rate=%{customdata[4]}<br>World %=%{customdata[5]}<extra></extra>",
         "hovertext": [
          "Mozambique"
         ],
         "locationmode": "country names",
         "locations": [
          "Mozambique"
         ],
         "name": "Mozambique",
         "showlegend": true,
         "showscale": false,
         "type": "choropleth",
         "z": [
          1
         ]
        },
        {
         "colorscale": [
          [
           0,
           "#19d3f3"
          ],
          [
           1,
           "#19d3f3"
          ]
         ],
         "customdata": [
          [
           34777522,
           34121985,
           "227.5K",
           153,
           0.0192,
           0.0043
          ]
         ],
         "geo": "geo",
         "hovertemplate": "<b>%{hovertext}</b><br><br>Country=%{location}<br>Population 2024=%{customdata[0]}<br>Population 2023=%{customdata[1]}<br>Area (km2)=%{customdata[2]}<br>Density (/km2)=%{customdata[3]}<br>Growth Rate=%{customdata[4]}<br>World %=%{customdata[5]}<extra></extra>",
         "hovertext": [
          "Ghana"
         ],
         "locationmode": "country names",
         "locations": [
          "Ghana"
         ],
         "name": "Ghana",
         "showlegend": true,
         "showscale": false,
         "type": "choropleth",
         "z": [
          1
         ]
        },
        {
         "colorscale": [
          [
           0,
           "#FF6692"
          ],
          [
           1,
           "#FF6692"
          ]
         ],
         "customdata": [
          [
           34683444,
           34352719,
           "1.3M",
           27,
           0.0096,
           0.0043
          ]
         ],
         "geo": "geo",
         "hovertemplate": "<b>%{hovertext}</b><br><br>Country=%{location}<br>Population 2024=%{customdata[0]}<br>Population 2023=%{customdata[1]}<br>Area (km2)=%{customdata[2]}<br>Density (/km2)=%{customdata[3]}<br>Growth Rate=%{customdata[4]}<br>World %=%{customdata[5]}<extra></extra>",
         "hovertext": [
          "Peru"
         ],
         "locationmode": "country names",
         "locations": [
          "Peru"
         ],
         "name": "Peru",
         "showlegend": true,
         "showscale": false,
         "type": "choropleth",
         "z": [
          1
         ]
        },
        {
         "colorscale": [
          [
           0,
           "#B6E880"
          ],
          [
           1,
           "#B6E880"
          ]
         ],
         "customdata": [
          [
           34671895,
           34308525,
           "328.6K",
           106,
           0.0106,
           0.0043
          ]
         ],
         "geo": "geo",
         "hovertemplate": "<b>%{hovertext}</b><br><br>Country=%{location}<br>Population 2024=%{customdata[0]}<br>Population 2023=%{customdata[1]}<br>Area (km2)=%{customdata[2]}<br>Density (/km2)=%{customdata[3]}<br>Growth Rate=%{customdata[4]}<br>World %=%{customdata[5]}<extra></extra>",
         "hovertext": [
          "Malaysia"
         ],
         "locationmode": "country names",
         "locations": [
          "Malaysia"
         ],
         "name": "Malaysia",
         "showlegend": true,
         "showscale": false,
         "type": "choropleth",
         "z": [
          1
         ]
        },
        {
         "colorscale": [
          [
           0,
           "#FF97FF"
          ],
          [
           1,
           "#FF97FF"
          ]
         ],
         "customdata": [
          [
           31240315,
           30896590,
           "143.3K",
           218,
           0.0111,
           0.0039
          ]
         ],
         "geo": "geo",
         "hovertemplate": "<b>%{hovertext}</b><br><br>Country=%{location}<br>Population 2024=%{customdata[0]}<br>Population 2023=%{customdata[1]}<br>Area (km2)=%{customdata[2]}<br>Density (/km2)=%{customdata[3]}<br>Growth Rate=%{customdata[4]}<br>World %=%{customdata[5]}<extra></extra>",
         "hovertext": [
          "Nepal"
         ],
         "locationmode": "country names",
         "locations": [
          "Nepal"
         ],
         "name": "Nepal",
         "showlegend": true,
         "showscale": false,
         "type": "choropleth",
         "z": [
          1
         ]
        },
        {
         "colorscale": [
          [
           0,
           "#FECB52"
          ],
          [
           1,
           "#FECB52"
          ]
         ],
         "customdata": [
          [
           31056610,
           30325732,
           "581.8K",
           53,
           0.0241,
           0.0039
          ]
         ],
         "geo": "geo",
         "hovertemplate": "<b>%{hovertext}</b><br><br>Country=%{location}<br>Population 2024=%{customdata[0]}<br>Population 2023=%{customdata[1]}<br>Area (km2)=%{customdata[2]}<br>Density (/km2)=%{customdata[3]}<br>Growth Rate=%{customdata[4]}<br>World %=%{customdata[5]}<extra></extra>",
         "hovertext": [
          "Madagascar"
         ],
         "locationmode": "country names",
         "locations": [
          "Madagascar"
         ],
         "name": "Madagascar",
         "showlegend": true,
         "showscale": false,
         "type": "choropleth",
         "z": [
          1
         ]
        },
        {
         "colorscale": [
          [
           0,
           "#636efa"
          ],
          [
           1,
           "#636efa"
          ]
         ],
         "customdata": [
          [
           29603302,
           28873034,
           "318K",
           93,
           0.0253,
           0.0037
          ]
         ],
         "geo": "geo",
         "hovertemplate": "<b>%{hovertext}</b><br><br>Country=%{location}<br>Population 2024=%{customdata[0]}<br>Population 2023=%{customdata[1]}<br>Area (km2)=%{customdata[2]}<br>Density (/km2)=%{customdata[3]}<br>Growth Rate=%{customdata[4]}<br>World %=%{customdata[5]}<extra></extra>",
         "hovertext": [
          "Ivory Coast"
         ],
         "locationmode": "country names",
         "locations": [
          "Ivory Coast"
         ],
         "name": "Ivory Coast",
         "showlegend": true,
         "showscale": false,
         "type": "choropleth",
         "z": [
          1
         ]
        },
        {
         "colorscale": [
          [
           0,
           "#EF553B"
          ],
          [
           1,
           "#EF553B"
          ]
         ],
         "customdata": [
          [
           29395334,
           28838499,
           "882K",
           33,
           0.0193,
           0.0037
          ]
         ],
         "geo": "geo",
         "hovertemplate": "<b>%{hovertext}</b><br><br>Country=%{location}<br>Population 2024=%{customdata[0]}<br>Population 2023=%{customdata[1]}<br>Area (km2)=%{customdata[2]}<br>Density (/km2)=%{customdata[3]}<br>Growth Rate=%{customdata[4]}<br>World %=%{customdata[5]}<extra></extra>",
         "hovertext": [
          "Venezuela"
         ],
         "locationmode": "country names",
         "locations": [
          "Venezuela"
         ],
         "name": "Venezuela",
         "showlegend": true,
         "showscale": false,
         "type": "choropleth",
         "z": [
          1
         ]
        },
        {
         "colorscale": [
          [
           0,
           "#00cc96"
          ],
          [
           1,
           "#00cc96"
          ]
         ],
         "customdata": [
          [
           29394433,
           28647293,
           "472.7K",
           62,
           0.0261,
           0.0037
          ]
         ],
         "geo": "geo",
         "hovertemplate": "<b>%{hovertext}</b><br><br>Country=%{location}<br>Population 2024=%{customdata[0]}<br>Population 2023=%{customdata[1]}<br>Area (km2)=%{customdata[2]}<br>Density (/km2)=%{customdata[3]}<br>Growth Rate=%{customdata[4]}<br>World %=%{customdata[5]}<extra></extra>",
         "hovertext": [
          "Cameroon"
         ],
         "locationmode": "country names",
         "locations": [
          "Cameroon"
         ],
         "name": "Cameroon",
         "showlegend": true,
         "showscale": false,
         "type": "choropleth",
         "z": [
          1
         ]
        },
        {
         "colorscale": [
          [
           0,
           "#ab63fa"
          ],
          [
           1,
           "#ab63fa"
          ]
         ],
         "customdata": [
          [
           28238972,
           27202843,
           "1.3M",
           22,
           0.0381,
           0.0035
          ]
         ],
         "geo": "geo",
         "hovertemplate": "<b>%{hovertext}</b><br><br>Country=%{location}<br>Population 2024=%{customdata[0]}<br>Population 2023=%{customdata[1]}<br>Area (km2)=%{customdata[2]}<br>Density (/km2)=%{customdata[3]}<br>Growth Rate=%{customdata[4]}<br>World %=%{customdata[5]}<extra></extra>",
         "hovertext": [
          "Niger"
         ],
         "locationmode": "country names",
         "locations": [
          "Niger"
         ],
         "name": "Niger",
         "showlegend": true,
         "showscale": false,
         "type": "choropleth",
         "z": [
          1
         ]
        },
        {
         "colorscale": [
          [
           0,
           "#FFA15A"
          ],
          [
           1,
           "#FFA15A"
          ]
         ],
         "customdata": [
          [
           26699482,
           26439111,
           "7.7M",
           3,
           0.0098,
           0.0033
          ]
         ],
         "geo": "geo",
         "hovertemplate": "<b>%{hovertext}</b><br><br>Country=%{location}<br>Population 2024=%{customdata[0]}<br>Population 2023=%{customdata[1]}<br>Area (km2)=%{customdata[2]}<br>Density (/km2)=%{customdata[3]}<br>Growth Rate=%{customdata[4]}<br>World %=%{customdata[5]}<extra></extra>",
         "hovertext": [
          "Australia"
         ],
         "locationmode": "country names",
         "locations": [
          "Australia"
         ],
         "name": "Australia",
         "showlegend": true,
         "showscale": false,
         "type": "choropleth",
         "z": [
          1
         ]
        },
        {
         "colorscale": [
          [
           0,
           "#19d3f3"
          ],
          [
           1,
           "#19d3f3"
          ]
         ],
         "customdata": [
          [
           26244582,
           26160821,
           "120.4K",
           218,
           0.0032,
           0.0033
          ]
         ],
         "geo": "geo",
         "hovertemplate": "<b>%{hovertext}</b><br><br>Country=%{location}<br>Population 2024=%{customdata[0]}<br>Population 2023=%{customdata[1]}<br>Area (km2)=%{customdata[2]}<br>Density (/km2)=%{customdata[3]}<br>Growth Rate=%{customdata[4]}<br>World %=%{customdata[5]}<extra></extra>",
         "hovertext": [
          "North Korea"
         ],
         "locationmode": "country names",
         "locations": [
          "North Korea"
         ],
         "name": "North Korea",
         "showlegend": true,
         "showscale": false,
         "type": "choropleth",
         "z": [
          1
         ]
        },
        {
         "colorscale": [
          [
           0,
           "#FF6692"
          ],
          [
           1,
           "#FF6692"
          ]
         ],
         "customdata": [
          [
           24348053,
           23227014,
           "183.6K",
           133,
           0.0483,
           0.003
          ]
         ],
         "geo": "geo",
         "hovertemplate": "<b>%{hovertext}</b><br><br>Country=%{location}<br>Population 2024=%{customdata[0]}<br>Population 2023=%{customdata[1]}<br>Area (km2)=%{customdata[2]}<br>Density (/km2)=%{customdata[3]}<br>Growth Rate=%{customdata[4]}<br>World %=%{customdata[5]}<extra></extra>",
         "hovertext": [
          "Syria"
         ],
         "locationmode": "country names",
         "locations": [
          "Syria"
         ],
         "name": "Syria",
         "showlegend": true,
         "showscale": false,
         "type": "choropleth",
         "z": [
          1
         ]
        },
        {
         "colorscale": [
          [
           0,
           "#B6E880"
          ],
          [
           1,
           "#B6E880"
          ]
         ],
         "customdata": [
          [
           24015789,
           23293698,
           "1.2M",
           20,
           0.031,
           0.003
          ]
         ],
         "geo": "geo",
         "hovertemplate": "<b>%{hovertext}</b><br><br>Country=%{location}<br>Population 2024=%{customdata[0]}<br>Population 2023=%{customdata[1]}<br>Area (km2)=%{customdata[2]}<br>Density (/km2)=%{customdata[3]}<br>Growth Rate=%{customdata[4]}<br>World %=%{customdata[5]}<extra></extra>",
         "hovertext": [
          "Mali"
         ],
         "locationmode": "country names",
         "locations": [
          "Mali"
         ],
         "name": "Mali",
         "showlegend": true,
         "showscale": false,
         "type": "choropleth",
         "z": [
          1
         ]
        },
        {
         "colorscale": [
          [
           0,
           "#FF97FF"
          ],
          [
           1,
           "#FF97FF"
          ]
         ],
         "customdata": [
          [
           23950214,
           23923276,
           "36.2K",
           662,
           0.0011,
           0.003
          ]
         ],
         "geo": "geo",
         "hovertemplate": "<b>%{hovertext}</b><br><br>Country=%{location}<br>Population 2024=%{customdata[0]}<br>Population 2023=%{customdata[1]}<br>Area (km2)=%{customdata[2]}<br>Density (/km2)=%{customdata[3]}<br>Growth Rate=%{customdata[4]}<br>World %=%{customdata[5]}<extra></extra>",
         "hovertext": [
          "Taiwan"
         ],
         "locationmode": "country names",
         "locations": [
          "Taiwan"
         ],
         "name": "Taiwan",
         "showlegend": true,
         "showscale": false,
         "type": "choropleth",
         "z": [
          1
         ]
        },
        {
         "colorscale": [
          [
           0,
           "#FECB52"
          ],
          [
           1,
           "#FECB52"
          ]
         ],
         "customdata": [
          [
           23840247,
           23251485,
           "273.6K",
           87,
           0.0253,
           0.003
          ]
         ],
         "geo": "geo",
         "hovertemplate": "<b>%{hovertext}</b><br><br>Country=%{location}<br>Population 2024=%{customdata[0]}<br>Population 2023=%{customdata[1]}<br>Area (km2)=%{customdata[2]}<br>Density (/km2)=%{customdata[3]}<br>Growth Rate=%{customdata[4]}<br>World %=%{customdata[5]}<extra></extra>",
         "hovertext": [
          "Burkina Faso"
         ],
         "locationmode": "country names",
         "locations": [
          "Burkina Faso"
         ],
         "name": "Burkina Faso",
         "showlegend": true,
         "showscale": false,
         "type": "choropleth",
         "z": [
          1
         ]
        },
        {
         "colorscale": [
          [
           0,
           "#636efa"
          ],
          [
           1,
           "#636efa"
          ]
         ],
         "customdata": [
          [
           21949268,
           21893579,
           "61.9K",
           355,
           0.0025,
           0.0027
          ]
         ],
         "geo": "geo",
         "hovertemplate": "<b>%{hovertext}</b><br><br>Country=%{location}<br>Population 2024=%{customdata[0]}<br>Population 2023=%{customdata[1]}<br>Area (km2)=%{customdata[2]}<br>Density (/km2)=%{customdata[3]}<br>Growth Rate=%{customdata[4]}<br>World %=%{customdata[5]}<extra></extra>",
         "hovertext": [
          "Sri Lanka"
         ],
         "locationmode": "country names",
         "locations": [
          "Sri Lanka"
         ],
         "name": "Sri Lanka",
         "showlegend": true,
         "showscale": false,
         "type": "choropleth",
         "z": [
          1
         ]
        },
        {
         "colorscale": [
          [
           0,
           "#EF553B"
          ],
          [
           1,
           "#EF553B"
          ]
         ],
         "customdata": [
          [
           21475962,
           20931751,
           "94.3K",
           228,
           0.026,
           0.0027
          ]
         ],
         "geo": "geo",
         "hovertemplate": "<b>%{hovertext}</b><br><br>Country=%{location}<br>Population 2024=%{customdata[0]}<br>Population 2023=%{customdata[1]}<br>Area (km2)=%{customdata[2]}<br>Density (/km2)=%{customdata[3]}<br>Growth Rate=%{customdata[4]}<br>World %=%{customdata[5]}<extra></extra>",
         "hovertext": [
          "Malawi"
         ],
         "locationmode": "country names",
         "locations": [
          "Malawi"
         ],
         "name": "Malawi",
         "showlegend": true,
         "showscale": false,
         "type": "choropleth",
         "z": [
          1
         ]
        },
        {
         "colorscale": [
          [
           0,
           "#00cc96"
          ],
          [
           1,
           "#00cc96"
          ]
         ],
         "customdata": [
          [
           21134695,
           20569737,
           "743.4K",
           28,
           0.0275,
           0.0026
          ]
         ],
         "geo": "geo",
         "hovertemplate": "<b>%{hovertext}</b><br><br>Country=%{location}<br>Population 2024=%{customdata[0]}<br>Population 2023=%{customdata[1]}<br>Area (km2)=%{customdata[2]}<br>Density (/km2)=%{customdata[3]}<br>Growth Rate=%{customdata[4]}<br>World %=%{customdata[5]}<extra></extra>",
         "hovertext": [
          "Zambia"
         ],
         "locationmode": "country names",
         "locations": [
          "Zambia"
         ],
         "name": "Zambia",
         "showlegend": true,
         "showscale": false,
         "type": "choropleth",
         "z": [
          1
         ]
        },
        {
         "colorscale": [
          [
           0,
           "#ab63fa"
          ],
          [
           1,
           "#ab63fa"
          ]
         ],
         "customdata": [
          [
           19828165,
           19606633,
           "2.7M",
           7,
           0.0113,
           0.0025
          ]
         ],
         "geo": "geo",
         "hovertemplate": "<b>%{hovertext}</b><br><br>Country=%{location}<br>Population 2024=%{customdata[0]}<br>Population 2023=%{customdata[1]}<br>Area (km2)=%{customdata[2]}<br>Density (/km2)=%{customdata[3]}<br>Growth Rate=%{customdata[4]}<br>World %=%{customdata[5]}<extra></extra>",
         "hovertext": [
          "Kazakhstan"
         ],
         "locationmode": "country names",
         "locations": [
          "Kazakhstan"
         ],
         "name": "Kazakhstan",
         "showlegend": true,
         "showscale": false,
         "type": "choropleth",
         "z": [
          1
         ]
        },
        {
         "colorscale": [
          [
           0,
           "#FFA15A"
          ],
          [
           1,
           "#FFA15A"
          ]
         ],
         "customdata": [
          [
           19658839,
           19629590,
           "743.5K",
           26,
           0.0015,
           0.0025
          ]
         ],
         "geo": "geo",
         "hovertemplate": "<b>%{hovertext}</b><br><br>Country=%{location}<br>Population 2024=%{customdata[0]}<br>Population 2023=%{customdata[1]}<br>Area (km2)=%{customdata[2]}<br>Density (/km2)=%{customdata[3]}<br>Growth Rate=%{customdata[4]}<br>World %=%{customdata[5]}<extra></extra>",
         "hovertext": [
          "Chile"
         ],
         "locationmode": "country names",
         "locations": [
          "Chile"
         ],
         "name": "Chile",
         "showlegend": true,
         "showscale": false,
         "type": "choropleth",
         "z": [
          1
         ]
        },
        {
         "colorscale": [
          [
           0,
           "#19d3f3"
          ],
          [
           1,
           "#19d3f3"
          ]
         ],
         "customdata": [
          [
           19618996,
           19892812,
           "230.1K",
           85,
           -0.0138,
           0.0025
          ]
         ],
         "geo": "geo",
         "hovertemplate": "<b>%{hovertext}</b><br><br>Country=%{location}<br>Population 2024=%{customdata[0]}<br>Population 2023=%{customdata[1]}<br>Area (km2)=%{customdata[2]}<br>Density (/km2)=%{customdata[3]}<br>Growth Rate=%{customdata[4]}<br>World %=%{customdata[5]}<extra></extra>",
         "hovertext": [
          "Romania"
         ],
         "locationmode": "country names",
         "locations": [
          "Romania"
         ],
         "name": "Romania",
         "showlegend": true,
         "showscale": false,
         "type": "choropleth",
         "z": [
          1
         ]
        },
        {
         "colorscale": [
          [
           0,
           "#FF6692"
          ],
          [
           1,
           "#FF6692"
          ]
         ],
         "customdata": [
          [
           18847148,
           18278568,
           "1.3M",
           15,
           0.0311,
           0.0024
          ]
         ],
         "geo": "geo",
         "hovertemplate": "<b>%{hovertext}</b><br><br>Country=%{location}<br>Population 2024=%{customdata[0]}<br>Population 2023=%{customdata[1]}<br>Area (km2)=%{customdata[2]}<br>Density (/km2)=%{customdata[3]}<br>Growth Rate=%{customdata[4]}<br>World %=%{customdata[5]}<extra></extra>",
         "hovertext": [
          "Chad"
         ],
         "locationmode": "country names",
         "locations": [
          "Chad"
         ],
         "name": "Chad",
         "showlegend": true,
         "showscale": false,
         "type": "choropleth",
         "z": [
          1
         ]
        },
        {
         "colorscale": [
          [
           0,
           "#B6E880"
          ],
          [
           1,
           "#B6E880"
          ]
         ],
         "customdata": [
          [
           18706922,
           18143378,
           "627.3K",
           30,
           0.0311,
           0.0023
          ]
         ],
         "geo": "geo",
         "hovertemplate": "<b>%{hovertext}</b><br><br>Country=%{location}<br>Population 2024=%{customdata[0]}<br>Population 2023=%{customdata[1]}<br>Area (km2)=%{customdata[2]}<br>Density (/km2)=%{customdata[3]}<br>Growth Rate=%{customdata[4]}<br>World %=%{customdata[5]}<extra></extra>",
         "hovertext": [
          "Somalia"
         ],
         "locationmode": "country names",
         "locations": [
          "Somalia"
         ],
         "name": "Somalia",
         "showlegend": true,
         "showscale": false,
         "type": "choropleth",
         "z": [
          1
         ]
        },
        {
         "colorscale": [
          [
           0,
           "#FF97FF"
          ],
          [
           1,
           "#FF97FF"
          ]
         ],
         "customdata": [
          [
           18377367,
           18190484,
           "248.4K",
           74,
           0.0103,
           0.0023
          ]
         ],
         "geo": "geo",
         "hovertemplate": "<b>%{hovertext}</b><br><br>Country=%{location}<br>Population 2024=%{customdata[0]}<br>Population 2023=%{customdata[1]}<br>Area (km2)=%{customdata[2]}<br>Density (/km2)=%{customdata[3]}<br>Growth Rate=%{customdata[4]}<br>World %=%{customdata[5]}<extra></extra>",
         "hovertext": [
          "Ecuador"
         ],
         "locationmode": "country names",
         "locations": [
          "Ecuador"
         ],
         "name": "Ecuador",
         "showlegend": true,
         "showscale": false,
         "type": "choropleth",
         "z": [
          1
         ]
        },
        {
         "colorscale": [
          [
           0,
           "#FECB52"
          ],
          [
           1,
           "#FECB52"
          ]
         ],
         "customdata": [
          [
           18358430,
           18092026,
           "107.2K",
           171,
           0.0147,
           0.0023
          ]
         ],
         "geo": "geo",
         "hovertemplate": "<b>%{hovertext}</b><br><br>Country=%{location}<br>Population 2024=%{customdata[0]}<br>Population 2023=%{customdata[1]}<br>Area (km2)=%{customdata[2]}<br>Density (/km2)=%{customdata[3]}<br>Growth Rate=%{customdata[4]}<br>World %=%{customdata[5]}<extra></extra>",
         "hovertext": [
          "Guatemala"
         ],
         "locationmode": "country names",
         "locations": [
          "Guatemala"
         ],
         "name": "Guatemala",
         "showlegend": true,
         "showscale": false,
         "type": "choropleth",
         "z": [
          1
         ]
        },
        {
         "colorscale": [
          [
           0,
           "#636efa"
          ],
          [
           1,
           "#636efa"
          ]
         ],
         "customdata": [
          [
           18221567,
           17763163,
           "192.5K",
           95,
           0.0258,
           0.0023
          ]
         ],
         "geo": "geo",
         "hovertemplate": "<b>%{hovertext}</b><br><br>Country=%{location}<br>Population 2024=%{customdata[0]}<br>Population 2023=%{customdata[1]}<br>Area (km2)=%{customdata[2]}<br>Density (/km2)=%{customdata[3]}<br>Growth Rate=%{customdata[4]}<br>World %=%{customdata[5]}<extra></extra>",
         "hovertext": [
          "Senegal"
         ],
         "locationmode": "country names",
         "locations": [
          "Senegal"
         ],
         "name": "Senegal",
         "showlegend": true,
         "showscale": false,
         "type": "choropleth",
         "z": [
          1
         ]
        },
        {
         "colorscale": [
          [
           0,
           "#EF553B"
          ],
          [
           1,
           "#EF553B"
          ]
         ],
         "customdata": [
          [
           17671125,
           17618299,
           "33.7K",
           525,
           0.003,
           0.0022
          ]
         ],
         "geo": "geo",
         "hovertemplate": "<b>%{hovertext}</b><br><br>Country=%{location}<br>Population 2024=%{customdata[0]}<br>Population 2023=%{customdata[1]}<br>Area (km2)=%{customdata[2]}<br>Density (/km2)=%{customdata[3]}<br>Growth Rate=%{customdata[4]}<br>World %=%{customdata[5]}<extra></extra>",
         "hovertext": [
          "Netherlands"
         ],
         "locationmode": "country names",
         "locations": [
          "Netherlands"
         ],
         "name": "Netherlands",
         "showlegend": true,
         "showscale": false,
         "type": "choropleth",
         "z": [
          1
         ]
        },
        {
         "colorscale": [
          [
           0,
           "#00cc96"
          ],
          [
           1,
           "#00cc96"
          ]
         ],
         "customdata": [
          [
           17121847,
           16944826,
           "176.5K",
           97,
           0.0104,
           0.0021
          ]
         ],
         "geo": "geo",
         "hovertemplate": "<b>%{hovertext}</b><br><br>Country=%{location}<br>Population 2024=%{customdata[0]}<br>Population 2023=%{customdata[1]}<br>Area (km2)=%{customdata[2]}<br>Density (/km2)=%{customdata[3]}<br>Growth Rate=%{customdata[4]}<br>World %=%{customdata[5]}<extra></extra>",
         "hovertext": [
          "Cambodia"
         ],
         "locationmode": "country names",
         "locations": [
          "Cambodia"
         ],
         "name": "Cambodia",
         "showlegend": true,
         "showscale": false,
         "type": "choropleth",
         "z": [
          1
         ]
        },
        {
         "colorscale": [
          [
           0,
           "#ab63fa"
          ],
          [
           1,
           "#ab63fa"
          ]
         ],
         "customdata": [
          [
           17020321,
           16665409,
           "386.9K",
           44,
           0.0213,
           0.0021
          ]
         ],
         "geo": "geo",
         "hovertemplate": "<b>%{hovertext}</b><br><br>Country=%{location}<br>Population 2024=%{customdata[0]}<br>Population 2023=%{customdata[1]}<br>Area (km2)=%{customdata[2]}<br>Density (/km2)=%{customdata[3]}<br>Growth Rate=%{customdata[4]}<br>World %=%{customdata[5]}<extra></extra>",
         "hovertext": [
          "Zimbabwe"
         ],
         "locationmode": "country names",
         "locations": [
          "Zimbabwe"
         ],
         "name": "Zimbabwe",
         "showlegend": true,
         "showscale": false,
         "type": "choropleth",
         "z": [
          1
         ]
        },
        {
         "colorscale": [
          [
           0,
           "#FFA15A"
          ],
          [
           1,
           "#FFA15A"
          ]
         ],
         "customdata": [
          [
           14528770,
           14190612,
           "245.7K",
           59,
           0.0238,
           0.0018
          ]
         ],
         "geo": "geo",
         "hovertemplate": "<b>%{hovertext}</b><br><br>Country=%{location}<br>Population 2024=%{customdata[0]}<br>Population 2023=%{customdata[1]}<br>Area (km2)=%{customdata[2]}<br>Density (/km2)=%{customdata[3]}<br>Growth Rate=%{customdata[4]}<br>World %=%{customdata[5]}<extra></extra>",
         "hovertext": [
          "Guinea"
         ],
         "locationmode": "country names",
         "locations": [
          "Guinea"
         ],
         "name": "Guinea",
         "showlegend": true,
         "showscale": false,
         "type": "choropleth",
         "z": [
          1
         ]
        },
        {
         "colorscale": [
          [
           0,
           "#19d3f3"
          ],
          [
           1,
           "#19d3f3"
          ]
         ],
         "customdata": [
          [
           14414910,
           14094683,
           "24.7K",
           584,
           0.0227,
           0.0018
          ]
         ],
         "geo": "geo",
         "hovertemplate": "<b>%{hovertext}</b><br><br>Country=%{location}<br>Population 2024=%{customdata[0]}<br>Population 2023=%{customdata[1]}<br>Area (km2)=%{customdata[2]}<br>Density (/km2)=%{customdata[3]}<br>Growth Rate=%{customdata[4]}<br>World %=%{customdata[5]}<extra></extra>",
         "hovertext": [
          "Rwanda"
         ],
         "locationmode": "country names",
         "locations": [
          "Rwanda"
         ],
         "name": "Rwanda",
         "showlegend": true,
         "showscale": false,
         "type": "choropleth",
         "z": [
          1
         ]
        },
        {
         "colorscale": [
          [
           0,
           "#FF6692"
          ],
          [
           1,
           "#FF6692"
          ]
         ],
         "customdata": [
          [
           14080072,
           13712828,
           "112.8K",
           125,
           0.0268,
           0.0018
          ]
         ],
         "geo": "geo",
         "hovertemplate": "<b>%{hovertext}</b><br><br>Country=%{location}<br>Population 2024=%{customdata[0]}<br>Population 2023=%{customdata[1]}<br>Area (km2)=%{customdata[2]}<br>Density (/km2)=%{customdata[3]}<br>Growth Rate=%{customdata[4]}<br>World %=%{customdata[5]}<extra></extra>",
         "hovertext": [
          "Benin"
         ],
         "locationmode": "country names",
         "locations": [
          "Benin"
         ],
         "name": "Benin",
         "showlegend": true,
         "showscale": false,
         "type": "choropleth",
         "z": [
          1
         ]
        },
        {
         "colorscale": [
          [
           0,
           "#B6E880"
          ],
          [
           1,
           "#B6E880"
          ]
         ],
         "customdata": [
          [
           13591657,
           13238559,
           "25.7K",
           529,
           0.0267,
           0.0017
          ]
         ],
         "geo": "geo",
         "hovertemplate": "<b>%{hovertext}</b><br><br>Country=%{location}<br>Population 2024=%{customdata[0]}<br>Population 2023=%{customdata[1]}<br>Area (km2)=%{customdata[2]}<br>Density (/km2)=%{customdata[3]}<br>Growth Rate=%{customdata[4]}<br>World %=%{customdata[5]}<extra></extra>",
         "hovertext": [
          "Burundi"
         ],
         "locationmode": "country names",
         "locations": [
          "Burundi"
         ],
         "name": "Burundi",
         "showlegend": true,
         "showscale": false,
         "type": "choropleth",
         "z": [
          1
         ]
        },
        {
         "colorscale": [
          [
           0,
           "#FF97FF"
          ],
          [
           1,
           "#FF97FF"
          ]
         ],
         "customdata": [
          [
           12567336,
           12388571,
           "1.1M",
           12,
           0.0144,
           0.0016
          ]
         ],
         "geo": "geo",
         "hovertemplate": "<b>%{hovertext}</b><br><br>Country=%{location}<br>Population 2024=%{customdata[0]}<br>Population 2023=%{customdata[1]}<br>Area (km2)=%{customdata[2]}<br>Density (/km2)=%{customdata[3]}<br>Growth Rate=%{customdata[4]}<br>World %=%{customdata[5]}<extra></extra>",
         "hovertext": [
          "Bolivia"
         ],
         "locationmode": "country names",
         "locations": [
          "Bolivia"
         ],
         "name": "Bolivia",
         "showlegend": true,
         "showscale": false,
         "type": "choropleth",
         "z": [
          1
         ]
        },
        {
         "colorscale": [
          [
           0,
           "#FECB52"
          ],
          [
           1,
           "#FECB52"
          ]
         ],
         "customdata": [
          [
           12564689,
           12458223,
           "155.4K",
           81,
           0.0085,
           0.0016
          ]
         ],
         "geo": "geo",
         "hovertemplate": "<b>%{hovertext}</b><br><br>Country=%{location}<br>Population 2024=%{customdata[0]}<br>Population 2023=%{customdata[1]}<br>Area (km2)=%{customdata[2]}<br>Density (/km2)=%{customdata[3]}<br>Growth Rate=%{customdata[4]}<br>World %=%{customdata[5]}<extra></extra>",
         "hovertext": [
          "Tunisia"
         ],
         "locationmode": "country names",
         "locations": [
          "Tunisia"
         ],
         "name": "Tunisia",
         "showlegend": true,
         "showscale": false,
         "type": "choropleth",
         "z": [
          1
         ]
        },
        {
         "colorscale": [
          [
           0,
           "#636efa"
          ],
          [
           1,
           "#636efa"
          ]
         ],
         "customdata": [
          [
           11867030,
           11724763,
           "27.6K",
           431,
           0.0121,
           0.0015
          ]
         ],
         "geo": "geo",
         "hovertemplate": "<b>%{hovertext}</b><br><br>Country=%{location}<br>Population 2024=%{customdata[0]}<br>Population 2023=%{customdata[1]}<br>Area (km2)=%{customdata[2]}<br>Density (/km2)=%{customdata[3]}<br>Growth Rate=%{customdata[4]}<br>World %=%{customdata[5]}<extra></extra>",
         "hovertext": [
          "Haiti"
         ],
         "locationmode": "country names",
         "locations": [
          "Haiti"
         ],
         "name": "Haiti",
         "showlegend": true,
         "showscale": false,
         "type": "choropleth",
         "z": [
          1
         ]
        },
        {
         "colorscale": [
          [
           0,
           "#EF553B"
          ],
          [
           1,
           "#EF553B"
          ]
         ],
         "customdata": [
          [
           11715774,
           11686140,
           "30.3K",
           387,
           0.0025,
           0.0015
          ]
         ],
         "geo": "geo",
         "hovertemplate": "<b>%{hovertext}</b><br><br>Country=%{location}<br>Population 2024=%{customdata[0]}<br>Population 2023=%{customdata[1]}<br>Area (km2)=%{customdata[2]}<br>Density (/km2)=%{customdata[3]}<br>Growth Rate=%{customdata[4]}<br>World %=%{customdata[5]}<extra></extra>",
         "hovertext": [
          "Belgium"
         ],
         "locationmode": "country names",
         "locations": [
          "Belgium"
         ],
         "name": "Belgium",
         "showlegend": true,
         "showscale": false,
         "type": "choropleth",
         "z": [
          1
         ]
        },
        {
         "colorscale": [
          [
           0,
           "#00cc96"
          ],
          [
           1,
           "#00cc96"
          ]
         ],
         "customdata": [
          [
           11434005,
           11332972,
           "48.3K",
           237,
           0.0089,
           0.0014
          ]
         ],
         "geo": "geo",
         "hovertemplate": "<b>%{hovertext}</b><br><br>Country=%{location}<br>Population 2024=%{customdata[0]}<br>Population 2023=%{customdata[1]}<br>Area (km2)=%{customdata[2]}<br>Density (/km2)=%{customdata[3]}<br>Growth Rate=%{customdata[4]}<br>World %=%{customdata[5]}<extra></extra>",
         "hovertext": [
          "Dominican Republic"
         ],
         "locationmode": "country names",
         "locations": [
          "Dominican Republic"
         ],
         "name": "Dominican Republic",
         "showlegend": true,
         "showscale": false,
         "type": "choropleth",
         "z": [
          1
         ]
        },
        {
         "colorscale": [
          [
           0,
           "#ab63fa"
          ],
          [
           1,
           "#ab63fa"
          ]
         ],
         "customdata": [
          [
           11384922,
           11337052,
           "88.8K",
           128,
           0.0042,
           0.0014
          ]
         ],
         "geo": "geo",
         "hovertemplate": "<b>%{hovertext}</b><br><br>Country=%{location}<br>Population 2024=%{customdata[0]}<br>Population 2023=%{customdata[1]}<br>Area (km2)=%{customdata[2]}<br>Density (/km2)=%{customdata[3]}<br>Growth Rate=%{customdata[4]}<br>World %=%{customdata[5]}<extra></extra>",
         "hovertext": [
          "Jordan"
         ],
         "locationmode": "country names",
         "locations": [
          "Jordan"
         ],
         "name": "Jordan",
         "showlegend": true,
         "showscale": false,
         "type": "choropleth",
         "z": [
          1
         ]
        },
        {
         "colorscale": [
          [
           0,
           "#FFA15A"
          ],
          [
           1,
           "#FFA15A"
          ]
         ],
         "customdata": [
          [
           11277092,
           11088796,
           "631.9K",
           18,
           0.017,
           0.0014
          ]
         ],
         "geo": "geo",
         "hovertemplate": "<b>%{hovertext}</b><br><br>Country=%{location}<br>Population 2024=%{customdata[0]}<br>Population 2023=%{customdata[1]}<br>Area (km2)=%{customdata[2]}<br>Density (/km2)=%{customdata[3]}<br>Growth Rate=%{customdata[4]}<br>World %=%{customdata[5]}<extra></extra>",
         "hovertext": [
          "South Sudan"
         ],
         "locationmode": "country names",
         "locations": [
          "South Sudan"
         ],
         "name": "South Sudan",
         "showlegend": true,
         "showscale": false,
         "type": "choropleth",
         "z": [
          1
         ]
        },
        {
         "colorscale": [
          [
           0,
           "#19d3f3"
          ],
          [
           1,
           "#19d3f3"
          ]
         ],
         "customdata": [
          [
           11174587,
           11194449,
           "103.8K",
           108,
           -0.0018,
           0.0014
          ]
         ],
         "geo": "geo",
         "hovertemplate": "<b>%{hovertext}</b><br><br>Country=%{location}<br>Population 2024=%{customdata[0]}<br>Population 2023=%{customdata[1]}<br>Area (km2)=%{customdata[2]}<br>Density (/km2)=%{customdata[3]}<br>Growth Rate=%{customdata[4]}<br>World %=%{customdata[5]}<extra></extra>",
         "hovertext": [
          "Cuba"
         ],
         "locationmode": "country names",
         "locations": [
          "Cuba"
         ],
         "name": "Cuba",
         "showlegend": true,
         "showscale": false,
         "type": "choropleth",
         "z": [
          1
         ]
        },
        {
         "colorscale": [
          [
           0,
           "#FF6692"
          ],
          [
           1,
           "#FF6692"
          ]
         ],
         "customdata": [
          [
           10759406,
           10593798,
           "111.9K",
           96,
           0.0156,
           0.0013
          ]
         ],
         "geo": "geo",
         "hovertemplate": "<b>%{hovertext}</b><br><br>Country=%{location}<br>Population 2024=%{customdata[0]}<br>Population 2023=%{customdata[1]}<br>Area (km2)=%{customdata[2]}<br>Density (/km2)=%{customdata[3]}<br>Growth Rate=%{customdata[4]}<br>World %=%{customdata[5]}<extra></extra>",
         "hovertext": [
          "Honduras"
         ],
         "locationmode": "country names",
         "locations": [
          "Honduras"
         ],
         "name": "Honduras",
         "showlegend": true,
         "showscale": false,
         "type": "choropleth",
         "z": [
          1
         ]
        },
        {
         "colorscale": [
          [
           0,
           "#B6E880"
          ],
          [
           1,
           "#B6E880"
          ]
         ],
         "customdata": [
          [
           10673669,
           10612086,
           "407.3K",
           26,
           0.0058,
           0.0013
          ]
         ],
         "geo": "geo",
         "hovertemplate": "<b>%{hovertext}</b><br><br>Country=%{location}<br>Population 2024=%{customdata[0]}<br>Population 2023=%{customdata[1]}<br>Area (km2)=%{customdata[2]}<br>Density (/km2)=%{customdata[3]}<br>Growth Rate=%{customdata[4]}<br>World %=%{customdata[5]}<extra></extra>",
         "hovertext": [
          "Sweden"
         ],
         "locationmode": "country names",
         "locations": [
          "Sweden"
         ],
         "name": "Sweden",
         "showlegend": true,
         "showscale": false,
         "type": "choropleth",
         "z": [
          1
         ]
        },
        {
         "colorscale": [
          [
           0,
           "#FF97FF"
          ],
          [
           1,
           "#FF97FF"
          ]
         ],
         "customdata": [
          [
           10515788,
           10329931,
           "452.9K",
           23,
           0.018,
           0.0013
          ]
         ],
         "geo": "geo",
         "hovertemplate": "<b>%{hovertext}</b><br><br>Country=%{location}<br>Population 2024=%{customdata[0]}<br>Population 2023=%{customdata[1]}<br>Area (km2)=%{customdata[2]}<br>Density (/km2)=%{customdata[3]}<br>Growth Rate=%{customdata[4]}<br>World %=%{customdata[5]}<extra></extra>",
         "hovertext": [
          "Papua New Guinea"
         ],
         "locationmode": "country names",
         "locations": [
          "Papua New Guinea"
         ],
         "name": "Papua New Guinea",
         "showlegend": true,
         "showscale": false,
         "type": "choropleth",
         "z": [
          1
         ]
        },
        {
         "colorscale": [
          [
           0,
           "#FECB52"
          ],
          [
           1,
           "#FECB52"
          ]
         ],
         "customdata": [
          [
           10503734,
           10495295,
           "77.2K",
           136,
           0.0008,
           0.0013
          ]
         ],
         "geo": "geo",
         "hovertemplate": "<b>%{hovertext}</b><br><br>Country=%{location}<br>Population 2024=%{customdata[0]}<br>Population 2023=%{customdata[1]}<br>Area (km2)=%{customdata[2]}<br>Density (/km2)=%{customdata[3]}<br>Growth Rate=%{customdata[4]}<br>World %=%{customdata[5]}<extra></extra>",
         "hovertext": [
          "Czech Republic"
         ],
         "locationmode": "country names",
         "locations": [
          "Czech Republic"
         ],
         "name": "Czech Republic",
         "showlegend": true,
         "showscale": false,
         "type": "choropleth",
         "z": [
          1
         ]
        },
        {
         "colorscale": [
          [
           0,
           "#636efa"
          ],
          [
           1,
           "#636efa"
          ]
         ],
         "customdata": [
          [
           10462904,
           10412651,
           "82.6K",
           127,
           0.0048,
           0.0013
          ]
         ],
         "geo": "geo",
         "hovertemplate": "<b>%{hovertext}</b><br><br>Country=%{location}<br>Population 2024=%{customdata[0]}<br>Population 2023=%{customdata[1]}<br>Area (km2)=%{customdata[2]}<br>Density (/km2)=%{customdata[3]}<br>Growth Rate=%{customdata[4]}<br>World %=%{customdata[5]}<extra></extra>",
         "hovertext": [
          "Azerbaijan"
         ],
         "locationmode": "country names",
         "locations": [
          "Azerbaijan"
         ],
         "name": "Azerbaijan",
         "showlegend": true,
         "showscale": false,
         "type": "choropleth",
         "z": [
          1
         ]
        },
        {
         "colorscale": [
          [
           0,
           "#EF553B"
          ],
          [
           1,
           "#EF553B"
          ]
         ],
         "customdata": [
          [
           10331513,
           10143543,
           "138.8K",
           74,
           0.0185,
           0.0013
          ]
         ],
         "geo": "geo",
         "hovertemplate": "<b>%{hovertext}</b><br><br>Country=%{location}<br>Population 2024=%{customdata[0]}<br>Population 2023=%{customdata[1]}<br>Area (km2)=%{customdata[2]}<br>Density (/km2)=%{customdata[3]}<br>Growth Rate=%{customdata[4]}<br>World %=%{customdata[5]}<extra></extra>",
         "hovertext": [
          "Tajikistan"
         ],
         "locationmode": "country names",
         "locations": [
          "Tajikistan"
         ],
         "name": "Tajikistan",
         "showlegend": true,
         "showscale": false,
         "type": "choropleth",
         "z": [
          1
         ]
        },
        {
         "colorscale": [
          [
           0,
           "#00cc96"
          ],
          [
           1,
           "#00cc96"
          ]
         ],
         "customdata": [
          [
           10302720,
           10341277,
           "128.9K",
           80,
           -0.0037,
           0.0013
          ]
         ],
         "geo": "geo",
         "hovertemplate": "<b>%{hovertext}</b><br><br>Country=%{location}<br>Population 2024=%{customdata[0]}<br>Population 2023=%{customdata[1]}<br>Area (km2)=%{customdata[2]}<br>Density (/km2)=%{customdata[3]}<br>Growth Rate=%{customdata[4]}<br>World %=%{customdata[5]}<extra></extra>",
         "hovertext": [
          "Greece"
         ],
         "locationmode": "country names",
         "locations": [
          "Greece"
         ],
         "name": "Greece",
         "showlegend": true,
         "showscale": false,
         "type": "choropleth",
         "z": [
          1
         ]
        },
        {
         "colorscale": [
          [
           0,
           "#ab63fa"
          ],
          [
           1,
           "#ab63fa"
          ]
         ],
         "customdata": [
          [
           10223349,
           10247605,
           "91.6K",
           112,
           -0.0024,
           0.0013
          ]
         ],
         "geo": "geo",
         "hovertemplate": "<b>%{hovertext}</b><br><br>Country=%{location}<br>Population 2024=%{customdata[0]}<br>Population 2023=%{customdata[1]}<br>Area (km2)=%{customdata[2]}<br>Density (/km2)=%{customdata[3]}<br>Growth Rate=%{customdata[4]}<br>World %=%{customdata[5]}<extra></extra>",
         "hovertext": [
          "Portugal"
         ],
         "locationmode": "country names",
         "locations": [
          "Portugal"
         ],
         "name": "Portugal",
         "showlegend": true,
         "showscale": false,
         "type": "choropleth",
         "z": [
          1
         ]
        },
        {
         "colorscale": [
          [
           0,
           "#FFA15A"
          ],
          [
           1,
           "#FFA15A"
          ]
         ],
         "customdata": [
          [
           9994993,
           10156239,
           "91.3K",
           110,
           -0.0159,
           0.0012
          ]
         ],
         "geo": "geo",
         "hovertemplate": "<b>%{hovertext}</b><br><br>Country=%{location}<br>Population 2024=%{customdata[0]}<br>Population 2023=%{customdata[1]}<br>Area (km2)=%{customdata[2]}<br>Density (/km2)=%{customdata[3]}<br>Growth Rate=%{customdata[4]}<br>World %=%{customdata[5]}<extra></extra>",
         "hovertext": [
          "Hungary"
         ],
         "locationmode": "country names",
         "locations": [
          "Hungary"
         ],
         "name": "Hungary",
         "showlegend": true,
         "showscale": false,
         "type": "choropleth",
         "z": [
          1
         ]
        },
        {
         "colorscale": [
          [
           0,
           "#19d3f3"
          ],
          [
           1,
           "#19d3f3"
          ]
         ],
         "customdata": [
          [
           9591853,
           9516871,
           "71K",
           135,
           0.0079,
           0.0012
          ]
         ],
         "geo": "geo",
         "hovertemplate": "<b>%{hovertext}</b><br><br>Country=%{location}<br>Population 2024=%{customdata[0]}<br>Population 2023=%{customdata[1]}<br>Area (km2)=%{customdata[2]}<br>Density (/km2)=%{customdata[3]}<br>Growth Rate=%{customdata[4]}<br>World %=%{customdata[5]}<extra></extra>",
         "hovertext": [
          "United Arab Emirates"
         ],
         "locationmode": "country names",
         "locations": [
          "United Arab Emirates"
         ],
         "name": "United Arab Emirates",
         "showlegend": true,
         "showscale": false,
         "type": "choropleth",
         "z": [
          1
         ]
        },
        {
         "colorscale": [
          [
           0,
           "#FF6692"
          ],
          [
           1,
           "#FF6692"
          ]
         ],
         "customdata": [
          [
           9455037,
           9498238,
           "203K",
           47,
           -0.0045,
           0.0012
          ]
         ],
         "geo": "geo",
         "hovertemplate": "<b>%{hovertext}</b><br><br>Country=%{location}<br>Population 2024=%{customdata[0]}<br>Population 2023=%{customdata[1]}<br>Area (km2)=%{customdata[2]}<br>Density (/km2)=%{customdata[3]}<br>Growth Rate=%{customdata[4]}<br>World %=%{customdata[5]}<extra></extra>",
         "hovertext": [
          "Belarus"
         ],
         "locationmode": "country names",
         "locations": [
          "Belarus"
         ],
         "name": "Belarus",
         "showlegend": true,
         "showscale": false,
         "type": "choropleth",
         "z": [
          1
         ]
        },
        {
         "colorscale": [
          [
           0,
           "#B6E880"
          ],
          [
           1,
           "#B6E880"
          ]
         ],
         "customdata": [
          [
           9311652,
           9174520,
           "21.6K",
           430,
           0.0149,
           0.0012
          ]
         ],
         "geo": "geo",
         "hovertemplate": "<b>%{hovertext}</b><br><br>Country=%{location}<br>Population 2024=%{customdata[0]}<br>Population 2023=%{customdata[1]}<br>Area (km2)=%{customdata[2]}<br>Density (/km2)=%{customdata[3]}<br>Growth Rate=%{customdata[4]}<br>World %=%{customdata[5]}<extra></extra>",
         "hovertext": [
          "Israel"
         ],
         "locationmode": "country names",
         "locations": [
          "Israel"
         ],
         "name": "Israel",
         "showlegend": true,
         "showscale": false,
         "type": "choropleth",
         "z": [
          1
         ]
        },
        {
         "colorscale": [
          [
           0,
           "#FF97FF"
          ],
          [
           1,
           "#FF97FF"
          ]
         ],
         "customdata": [
          [
           9260864,
           9053799,
           "54.4K",
           170,
           0.0229,
           0.0012
          ]
         ],
         "geo": "geo",
         "hovertemplate": "<b>%{hovertext}</b><br><br>Country=%{location}<br>Population 2024=%{customdata[0]}<br>Population 2023=%{customdata[1]}<br>Area (km2)=%{customdata[2]}<br>Density (/km2)=%{customdata[3]}<br>Growth Rate=%{customdata[4]}<br>World %=%{customdata[5]}<extra></extra>",
         "hovertext": [
          "Togo"
         ],
         "locationmode": "country names",
         "locations": [
          "Togo"
         ],
         "name": "Togo",
         "showlegend": true,
         "showscale": false,
         "type": "choropleth",
         "z": [
          1
         ]
        },
        {
         "colorscale": [
          [
           0,
           "#FECB52"
          ],
          [
           1,
           "#FECB52"
          ]
         ],
         "customdata": [
          [
           8977972,
           8791092,
           "72.2K",
           124,
           0.0213,
           0.0011
          ]
         ],
         "geo": "geo",
         "hovertemplate": "<b>%{hovertext}</b><br><br>Country=%{location}<br>Population 2024=%{customdata[0]}<br>Population 2023=%{customdata[1]}<br>Area (km2)=%{customdata[2]}<br>Density (/km2)=%{customdata[3]}<br>Growth Rate=%{customdata[4]}<br>World %=%{customdata[5]}<extra></extra>",
         "hovertext": [
          "Sierra Leone"
         ],
         "locationmode": "country names",
         "locations": [
          "Sierra Leone"
         ],
         "name": "Sierra Leone",
         "showlegend": true,
         "showscale": false,
         "type": "choropleth",
         "z": [
          1
         ]
        },
        {
         "colorscale": [
          [
           0,
           "#636efa"
          ],
          [
           1,
           "#636efa"
          ]
         ],
         "customdata": [
          [
           8977139,
           8958960,
           "82.5K",
           109,
           0.002,
           0.0011
          ]
         ],
         "geo": "geo",
         "hovertemplate": "<b>%{hovertext}</b><br><br>Country=%{location}<br>Population 2024=%{customdata[0]}<br>Population 2023=%{customdata[1]}<br>Area (km2)=%{customdata[2]}<br>Density (/km2)=%{customdata[3]}<br>Growth Rate=%{customdata[4]}<br>World %=%{customdata[5]}<extra></extra>",
         "hovertext": [
          "Austria"
         ],
         "locationmode": "country names",
         "locations": [
          "Austria"
         ],
         "name": "Austria",
         "showlegend": true,
         "showscale": false,
         "type": "choropleth",
         "z": [
          1
         ]
        },
        {
         "colorscale": [
          [
           0,
           "#EF553B"
          ],
          [
           1,
           "#EF553B"
          ]
         ],
         "customdata": [
          [
           8851431,
           8796669,
           "39.5K",
           224,
           0.0062,
           0.0011
          ]
         ],
         "geo": "geo",
         "hovertemplate": "<b>%{hovertext}</b><br><br>Country=%{location}<br>Population 2024=%{customdata[0]}<br>Population 2023=%{customdata[1]}<br>Area (km2)=%{customdata[2]}<br>Density (/km2)=%{customdata[3]}<br>Growth Rate=%{customdata[4]}<br>World %=%{customdata[5]}<extra></extra>",
         "hovertext": [
          "Switzerland"
         ],
         "locationmode": "country names",
         "locations": [
          "Switzerland"
         ],
         "name": "Switzerland",
         "showlegend": true,
         "showscale": false,
         "type": "choropleth",
         "z": [
          1
         ]
        },
        {
         "colorscale": [
          [
           0,
           "#00cc96"
          ],
          [
           1,
           "#00cc96"
          ]
         ],
         "customdata": [
          [
           7736681,
           7633779,
           "230.8K",
           34,
           0.0135,
           0.001
          ]
         ],
         "geo": "geo",
         "hovertemplate": "<b>%{hovertext}</b><br><br>Country=%{location}<br>Population 2024=%{customdata[0]}<br>Population 2023=%{customdata[1]}<br>Area (km2)=%{customdata[2]}<br>Density (/km2)=%{customdata[3]}<br>Growth Rate=%{customdata[4]}<br>World %=%{customdata[5]}<extra></extra>",
         "hovertext": [
          "Laos"
         ],
         "locationmode": "country names",
         "locations": [
          "Laos"
         ],
         "name": "Laos",
         "showlegend": true,
         "showscale": false,
         "type": "choropleth",
         "z": [
          1
         ]
        },
        {
         "colorscale": [
          [
           0,
           "#ab63fa"
          ],
          [
           1,
           "#ab63fa"
          ]
         ],
         "customdata": [
          [
           7496681,
           7491609,
           "1.1K",
           7140,
           0.0007,
           0.0009
          ]
         ],
         "geo": "geo",
         "hovertemplate": "<b>%{hovertext}</b><br><br>Country=%{location}<br>Population 2024=%{customdata[0]}<br>Population 2023=%{customdata[1]}<br>Area (km2)=%{customdata[2]}<br>Density (/km2)=%{customdata[3]}<br>Growth Rate=%{customdata[4]}<br>World %=%{customdata[5]}<extra></extra>",
         "hovertext": [
          "Hong Kong"
         ],
         "locationmode": "country names",
         "locations": [
          "Hong Kong"
         ],
         "name": "Hong Kong",
         "showlegend": true,
         "showscale": false,
         "type": "choropleth",
         "z": [
          1
         ]
        },
        {
         "colorscale": [
          [
           0,
           "#FFA15A"
          ],
          [
           1,
           "#FFA15A"
          ]
         ],
         "customdata": [
          [
           7142529,
           7046310,
           "120.3K",
           59,
           0.0137,
           0.0009
          ]
         ],
         "geo": "geo",
         "hovertemplate": "<b>%{hovertext}</b><br><br>Country=%{location}<br>Population 2024=%{customdata[0]}<br>Population 2023=%{customdata[1]}<br>Area (km2)=%{customdata[2]}<br>Density (/km2)=%{customdata[3]}<br>Growth Rate=%{customdata[4]}<br>World %=%{customdata[5]}<extra></extra>",
         "hovertext": [
          "Nicaragua"
         ],
         "locationmode": "country names",
         "locations": [
          "Nicaragua"
         ],
         "name": "Nicaragua",
         "showlegend": true,
         "showscale": false,
         "type": "choropleth",
         "z": [
          1
         ]
        },
        {
         "colorscale": [
          [
           0,
           "#19d3f3"
          ],
          [
           1,
           "#19d3f3"
          ]
         ],
         "customdata": [
          [
           7097028,
           7149077,
           "87.5K",
           81,
           -0.0073,
           0.0009
          ]
         ],
         "geo": "geo",
         "hovertemplate": "<b>%{hovertext}</b><br><br>Country=%{location}<br>Population 2024=%{customdata[0]}<br>Population 2023=%{customdata[1]}<br>Area (km2)=%{customdata[2]}<br>Density (/km2)=%{customdata[3]}<br>Growth Rate=%{customdata[4]}<br>World %=%{customdata[5]}<extra></extra>",
         "hovertext": [
          "Serbia"
         ],
         "locationmode": "country names",
         "locations": [
          "Serbia"
         ],
         "name": "Serbia",
         "showlegend": true,
         "showscale": false,
         "type": "choropleth",
         "z": [
          1
         ]
        },
        {
         "colorscale": [
          [
           0,
           "#FF6692"
          ],
          [
           1,
           "#FF6692"
          ]
         ],
         "customdata": [
          [
           6964197,
           6888388,
           "1.8M",
           4,
           0.011,
           0.0009
          ]
         ],
         "geo": "geo",
         "hovertemplate": "<b>%{hovertext}</b><br><br>Country=%{location}<br>Population 2024=%{customdata[0]}<br>Population 2023=%{customdata[1]}<br>Area (km2)=%{customdata[2]}<br>Density (/km2)=%{customdata[3]}<br>Growth Rate=%{customdata[4]}<br>World %=%{customdata[5]}<extra></extra>",
         "hovertext": [
          "Libya"
         ],
         "locationmode": "country names",
         "locations": [
          "Libya"
         ],
         "name": "Libya",
         "showlegend": true,
         "showscale": false,
         "type": "choropleth",
         "z": [
          1
         ]
        },
        {
         "colorscale": [
          [
           0,
           "#B6E880"
          ],
          [
           1,
           "#B6E880"
          ]
         ],
         "customdata": [
          [
           6947270,
           6861524,
           "397.3K",
           17,
           0.0125,
           0.0009
          ]
         ],
         "geo": "geo",
         "hovertemplate": "<b>%{hovertext}</b><br><br>Country=%{location}<br>Population 2024=%{customdata[0]}<br>Population 2023=%{customdata[1]}<br>Area (km2)=%{customdata[2]}<br>Density (/km2)=%{customdata[3]}<br>Growth Rate=%{customdata[4]}<br>World %=%{customdata[5]}<extra></extra>",
         "hovertext": [
          "Paraguay"
         ],
         "locationmode": "country names",
         "locations": [
          "Paraguay"
         ],
         "name": "Paraguay",
         "showlegend": true,
         "showscale": false,
         "type": "choropleth",
         "z": [
          1
         ]
        },
        {
         "colorscale": [
          [
           0,
           "#FF97FF"
          ],
          [
           1,
           "#FF97FF"
          ]
         ],
         "customdata": [
          [
           6839606,
           6735347,
           "191.8K",
           36,
           0.0155,
           0.0009
          ]
         ],
         "geo": "geo",
         "hovertemplate": "<b>%{hovertext}</b><br><br>Country=%{location}<br>Population 2024=%{customdata[0]}<br>Population 2023=%{customdata[1]}<br>Area (km2)=%{customdata[2]}<br>Density (/km2)=%{customdata[3]}<br>Growth Rate=%{customdata[4]}<br>World %=%{customdata[5]}<extra></extra>",
         "hovertext": [
          "Kyrgyzstan"
         ],
         "locationmode": "country names",
         "locations": [
          "Kyrgyzstan"
         ],
         "name": "Kyrgyzstan",
         "showlegend": true,
         "showscale": false,
         "type": "choropleth",
         "z": [
          1
         ]
        },
        {
         "colorscale": [
          [
           0,
           "#FECB52"
          ],
          [
           1,
           "#FECB52"
          ]
         ],
         "customdata": [
          [
           6618615,
           6687717,
           "108.6K",
           61,
           -0.0103,
           0.0008
          ]
         ],
         "geo": "geo",
         "hovertemplate": "<b>%{hovertext}</b><br><br>Country=%{location}<br>Population 2024=%{customdata[0]}<br>Population 2023=%{customdata[1]}<br>Area (km2)=%{customdata[2]}<br>Density (/km2)=%{customdata[3]}<br>Growth Rate=%{customdata[4]}<br>World %=%{customdata[5]}<extra></extra>",
         "hovertext": [
          "Bulgaria"
         ],
         "locationmode": "country names",
         "locations": [
          "Bulgaria"
         ],
         "name": "Bulgaria",
         "showlegend": true,
         "showscale": false,
         "type": "choropleth",
         "z": [
          1
         ]
        },
        {
         "colorscale": [
          [
           0,
           "#636efa"
          ],
          [
           1,
           "#636efa"
          ]
         ],
         "customdata": [
          [
           6598071,
           6516100,
           "469.9K",
           14,
           0.0126,
           0.0008
          ]
         ],
         "geo": "geo",
         "hovertemplate": "<b>%{hovertext}</b><br><br>Country=%{location}<br>Population 2024=%{customdata[0]}<br>Population 2023=%{customdata[1]}<br>Area (km2)=%{customdata[2]}<br>Density (/km2)=%{customdata[3]}<br>Growth Rate=%{customdata[4]}<br>World %=%{customdata[5]}<extra></extra>",
         "hovertext": [
          "Turkmenistan"
         ],
         "locationmode": "country names",
         "locations": [
          "Turkmenistan"
         ],
         "name": "Turkmenistan",
         "showlegend": true,
         "showscale": false,
         "type": "choropleth",
         "z": [
          1
         ]
        },
        {
         "colorscale": [
          [
           0,
           "#EF553B"
          ],
          [
           1,
           "#EF553B"
          ]
         ],
         "customdata": [
          [
           6396289,
           6364943,
           "20.7K",
           309,
           0.0049,
           0.0008
          ]
         ],
         "geo": "geo",
         "hovertemplate": "<b>%{hovertext}</b><br><br>Country=%{location}<br>Population 2024=%{customdata[0]}<br>Population 2023=%{customdata[1]}<br>Area (km2)=%{customdata[2]}<br>Density (/km2)=%{customdata[3]}<br>Growth Rate=%{customdata[4]}<br>World %=%{customdata[5]}<extra></extra>",
         "hovertext": [
          "El Salvador"
         ],
         "locationmode": "country names",
         "locations": [
          "El Salvador"
         ],
         "name": "El Salvador",
         "showlegend": true,
         "showscale": false,
         "type": "choropleth",
         "z": [
          1
         ]
        },
        {
         "colorscale": [
          [
           0,
           "#00cc96"
          ],
          [
           1,
           "#00cc96"
          ]
         ],
         "customdata": [
          [
           6244547,
           6106869,
           "341.5K",
           18,
           0.0225,
           0.0008
          ]
         ],
         "geo": "geo",
         "hovertemplate": "<b>%{hovertext}</b><br><br>Country=%{location}<br>Population 2024=%{customdata[0]}<br>Population 2023=%{customdata[1]}<br>Area (km2)=%{customdata[2]}<br>Density (/km2)=%{customdata[3]}<br>Growth Rate=%{customdata[4]}<br>World %=%{customdata[5]}<extra></extra>",
         "hovertext": [
          "Republic of the Congo"
         ],
         "locationmode": "country names",
         "locations": [
          "Republic of the Congo"
         ],
         "name": "Republic of the Congo",
         "showlegend": true,
         "showscale": false,
         "type": "choropleth",
         "z": [
          1
         ]
        },
        {
         "colorscale": [
          [
           0,
           "#ab63fa"
          ],
          [
           1,
           "#ab63fa"
          ]
         ],
         "customdata": [
          [
           6052709,
           6014723,
           "718",
           8430,
           0.0063,
           0.0008
          ]
         ],
         "geo": "geo",
         "hovertemplate": "<b>%{hovertext}</b><br><br>Country=%{location}<br>Population 2024=%{customdata[0]}<br>Population 2023=%{customdata[1]}<br>Area (km2)=%{customdata[2]}<br>Density (/km2)=%{customdata[3]}<br>Growth Rate=%{customdata[4]}<br>World %=%{customdata[5]}<extra></extra>",
         "hovertext": [
          "Singapore"
         ],
         "locationmode": "country names",
         "locations": [
          "Singapore"
         ],
         "name": "Singapore",
         "showlegend": true,
         "showscale": false,
         "type": "choropleth",
         "z": [
          1
         ]
        },
        {
         "colorscale": [
          [
           0,
           "#FFA15A"
          ],
          [
           1,
           "#FFA15A"
          ]
         ],
         "customdata": [
          [
           5939695,
           5910913,
           "40K",
           148,
           0.0049,
           0.0007
          ]
         ],
         "geo": "geo",
         "hovertemplate": "<b>%{hovertext}</b><br><br>Country=%{location}<br>Population 2024=%{customdata[0]}<br>Population 2023=%{customdata[1]}<br>Area (km2)=%{customdata[2]}<br>Density (/km2)=%{customdata[3]}<br>Growth Rate=%{customdata[4]}<br>World %=%{customdata[5]}<extra></extra>",
         "hovertext": [
          "Denmark"
         ],
         "locationmode": "country names",
         "locations": [
          "Denmark"
         ],
         "name": "Denmark",
         "showlegend": true,
         "showscale": false,
         "type": "choropleth",
         "z": [
          1
         ]
        },
        {
         "colorscale": [
          [
           0,
           "#19d3f3"
          ],
          [
           1,
           "#19d3f3"
          ]
         ],
         "customdata": [
          [
           5915627,
           5742315,
           "623K",
           9,
           0.0302,
           0.0007
          ]
         ],
         "geo": "geo",
         "hovertemplate": "<b>%{hovertext}</b><br><br>Country=%{location}<br>Population 2024=%{customdata[0]}<br>Population 2023=%{customdata[1]}<br>Area (km2)=%{customdata[2]}<br>Density (/km2)=%{customdata[3]}<br>Growth Rate=%{customdata[4]}<br>World %=%{customdata[5]}<extra></extra>",
         "hovertext": [
          "Central African Republic"
         ],
         "locationmode": "country names",
         "locations": [
          "Central African Republic"
         ],
         "name": "Central African Republic",
         "showlegend": true,
         "showscale": false,
         "type": "choropleth",
         "z": [
          1
         ]
        },
        {
         "colorscale": [
          [
           0,
           "#FF6692"
          ],
          [
           1,
           "#FF6692"
          ]
         ],
         "customdata": [
          [
           5702832,
           5795199,
           "49K",
           116,
           -0.0159,
           0.0007
          ]
         ],
         "geo": "geo",
         "hovertemplate": "<b>%{hovertext}</b><br><br>Country=%{location}<br>Population 2024=%{customdata[0]}<br>Population 2023=%{customdata[1]}<br>Area (km2)=%{customdata[2]}<br>Density (/km2)=%{customdata[3]}<br>Growth Rate=%{customdata[4]}<br>World %=%{customdata[5]}<extra></extra>",
         "hovertext": [
          "Slovakia"
         ],
         "locationmode": "country names",
         "locations": [
          "Slovakia"
         ],
         "name": "Slovakia",
         "showlegend": true,
         "showscale": false,
         "type": "choropleth",
         "z": [
          1
         ]
        },
        {
         "colorscale": [
          [
           0,
           "#B6E880"
          ],
          [
           1,
           "#B6E880"
          ]
         ],
         "customdata": [
          [
           5549886,
           5545475,
           "303.9K",
           18,
           0.0008,
           0.0007
          ]
         ],
         "geo": "geo",
         "hovertemplate": "<b>%{hovertext}</b><br><br>Country=%{location}<br>Population 2024=%{customdata[0]}<br>Population 2023=%{customdata[1]}<br>Area (km2)=%{customdata[2]}<br>Density (/km2)=%{customdata[3]}<br>Growth Rate=%{customdata[4]}<br>World %=%{customdata[5]}<extra></extra>",
         "hovertext": [
          "Finland"
         ],
         "locationmode": "country names",
         "locations": [
          "Finland"
         ],
         "name": "Finland",
         "showlegend": true,
         "showscale": false,
         "type": "choropleth",
         "z": [
          1
         ]
        },
        {
         "colorscale": [
          [
           0,
           "#FF97FF"
          ],
          [
           1,
           "#FF97FF"
          ]
         ],
         "customdata": [
          [
           5536949,
           5418377,
           "96.3K",
           57,
           0.0219,
           0.0007
          ]
         ],
         "geo": "geo",
         "hovertemplate": "<b>%{hovertext}</b><br><br>Country=%{location}<br>Population 2024=%{customdata[0]}<br>Population 2023=%{customdata[1]}<br>Area (km2)=%{customdata[2]}<br>Density (/km2)=%{customdata[3]}<br>Growth Rate=%{customdata[4]}<br>World %=%{customdata[5]}<extra></extra>",
         "hovertext": [
          "Liberia"
         ],
         "locationmode": "country names",
         "locations": [
          "Liberia"
         ],
         "name": "Liberia",
         "showlegend": true,
         "showscale": false,
         "type": "choropleth",
         "z": [
          1
         ]
        },
        {
         "colorscale": [
          [
           0,
           "#FECB52"
          ],
          [
           1,
           "#FECB52"
          ]
         ],
         "customdata": [
          [
           5514477,
           5474360,
           "364.3K",
           15,
           0.0073,
           0.0007
          ]
         ],
         "geo": "geo",
         "hovertemplate": "<b>%{hovertext}</b><br><br>Country=%{location}<br>Population 2024=%{customdata[0]}<br>Population 2023=%{customdata[1]}<br>Area (km2)=%{customdata[2]}<br>Density (/km2)=%{customdata[3]}<br>Growth Rate=%{customdata[4]}<br>World %=%{customdata[5]}<extra></extra>",
         "hovertext": [
          "Norway"
         ],
         "locationmode": "country names",
         "locations": [
          "Norway"
         ],
         "name": "Norway",
         "showlegend": true,
         "showscale": false,
         "type": "choropleth",
         "z": [
          1
         ]
        },
        {
         "colorscale": [
          [
           0,
           "#636efa"
          ],
          [
           1,
           "#636efa"
          ]
         ],
         "customdata": [
          [
           5494963,
           5371230,
           "6K",
           913,
           0.023,
           0.0007
          ]
         ],
         "geo": "geo",
         "hovertemplate": "<b>%{hovertext}</b><br><br>Country=%{location}<br>Population 2024=%{customdata[0]}<br>Population 2023=%{customdata[1]}<br>Area (km2)=%{customdata[2]}<br>Density (/km2)=%{customdata[3]}<br>Growth Rate=%{customdata[4]}<br>World %=%{customdata[5]}<extra></extra>",
         "hovertext": [
          "Palestine"
         ],
         "locationmode": "country names",
         "locations": [
          "Palestine"
         ],
         "name": "Palestine",
         "showlegend": true,
         "showscale": false,
         "type": "choropleth",
         "z": [
          1
         ]
        },
        {
         "colorscale": [
          [
           0,
           "#EF553B"
          ],
          [
           1,
           "#EF553B"
          ]
         ],
         "customdata": [
          [
           5269939,
           5228100,
           "263.3K",
           20,
           0.008,
           0.0007
          ]
         ],
         "geo": "geo",
         "hovertemplate": "<b>%{hovertext}</b><br><br>Country=%{location}<br>Population 2024=%{customdata[0]}<br>Population 2023=%{customdata[1]}<br>Area (km2)=%{customdata[2]}<br>Density (/km2)=%{customdata[3]}<br>Growth Rate=%{customdata[4]}<br>World %=%{customdata[5]}<extra></extra>",
         "hovertext": [
          "New Zealand"
         ],
         "locationmode": "country names",
         "locations": [
          "New Zealand"
         ],
         "name": "New Zealand",
         "showlegend": true,
         "showscale": false,
         "type": "choropleth",
         "z": [
          1
         ]
        },
        {
         "colorscale": [
          [
           0,
           "#00cc96"
          ],
          [
           1,
           "#00cc96"
          ]
         ],
         "customdata": [
          [
           5246714,
           5212173,
           "51.1K",
           103,
           0.0066,
           0.0007
          ]
         ],
         "geo": "geo",
         "hovertemplate": "<b>%{hovertext}</b><br><br>Country=%{location}<br>Population 2024=%{customdata[0]}<br>Population 2023=%{customdata[1]}<br>Area (km2)=%{customdata[2]}<br>Density (/km2)=%{customdata[3]}<br>Growth Rate=%{customdata[4]}<br>World %=%{customdata[5]}<extra></extra>",
         "hovertext": [
          "Costa Rica"
         ],
         "locationmode": "country names",
         "locations": [
          "Costa Rica"
         ],
         "name": "Costa Rica",
         "showlegend": true,
         "showscale": false,
         "type": "choropleth",
         "z": [
          1
         ]
        },
        {
         "colorscale": [
          [
           0,
           "#ab63fa"
          ],
          [
           1,
           "#ab63fa"
          ]
         ],
         "customdata": [
          [
           5219044,
           5353930,
           "10.2K",
           510,
           -0.0252,
           0.0007
          ]
         ],
         "geo": "geo",
         "hovertemplate": "<b>%{hovertext}</b><br><br>Country=%{location}<br>Population 2024=%{customdata[0]}<br>Population 2023=%{customdata[1]}<br>Area (km2)=%{customdata[2]}<br>Density (/km2)=%{customdata[3]}<br>Growth Rate=%{customdata[4]}<br>World %=%{customdata[5]}<extra></extra>",
         "hovertext": [
          "Lebanon"
         ],
         "locationmode": "country names",
         "locations": [
          "Lebanon"
         ],
         "name": "Lebanon",
         "showlegend": true,
         "showscale": false,
         "type": "choropleth",
         "z": [
          1
         ]
        },
        {
         "colorscale": [
          [
           0,
           "#FFA15A"
          ],
          [
           1,
           "#FFA15A"
          ]
         ],
         "customdata": [
          [
           5089478,
           5056935,
           "68.9K",
           74,
           0.0064,
           0.0006
          ]
         ],
         "geo": "geo",
         "hovertemplate": "<b>%{hovertext}</b><br><br>Country=%{location}<br>Population 2024=%{customdata[0]}<br>Population 2023=%{customdata[1]}<br>Area (km2)=%{customdata[2]}<br>Density (/km2)=%{customdata[3]}<br>Growth Rate=%{customdata[4]}<br>World %=%{customdata[5]}<extra></extra>",
         "hovertext": [
          "Ireland"
         ],
         "locationmode": "country names",
         "locations": [
          "Ireland"
         ],
         "name": "Ireland",
         "showlegend": true,
         "showscale": false,
         "type": "choropleth",
         "z": [
          1
         ]
        },
        {
         "colorscale": [
          [
           0,
           "#19d3f3"
          ],
          [
           1,
           "#19d3f3"
          ]
         ],
         "customdata": [
          [
           4993922,
           4862989,
           "1M",
           5,
           0.0269,
           0.0006
          ]
         ],
         "geo": "geo",
         "hovertemplate": "<b>%{hovertext}</b><br><br>Country=%{location}<br>Population 2024=%{customdata[0]}<br>Population 2023=%{customdata[1]}<br>Area (km2)=%{customdata[2]}<br>Density (/km2)=%{customdata[3]}<br>Growth Rate=%{customdata[4]}<br>World %=%{customdata[5]}<extra></extra>",
         "hovertext": [
          "Mauritania"
         ],
         "locationmode": "country names",
         "locations": [
          "Mauritania"
         ],
         "name": "Mauritania",
         "showlegend": true,
         "showscale": false,
         "type": "choropleth",
         "z": [
          1
         ]
        },
        {
         "colorscale": [
          [
           0,
           "#FF6692"
          ],
          [
           1,
           "#FF6692"
          ]
         ],
         "customdata": [
          [
           4713553,
           4644384,
           "309.5K",
           15,
           0.0149,
           0.0006
          ]
         ],
         "geo": "geo",
         "hovertemplate": "<b>%{hovertext}</b><br><br>Country=%{location}<br>Population 2024=%{customdata[0]}<br>Population 2023=%{customdata[1]}<br>Area (km2)=%{customdata[2]}<br>Density (/km2)=%{customdata[3]}<br>Growth Rate=%{customdata[4]}<br>World %=%{customdata[5]}<extra></extra>",
         "hovertext": [
          "Oman"
         ],
         "locationmode": "country names",
         "locations": [
          "Oman"
         ],
         "name": "Oman",
         "showlegend": true,
         "showscale": false,
         "type": "choropleth",
         "z": [
          1
         ]
        },
        {
         "colorscale": [
          [
           0,
           "#B6E880"
          ],
          [
           1,
           "#B6E880"
          ]
         ],
         "customdata": [
          [
           4527961,
           4468087,
           "74.2K",
           61,
           0.0134,
           0.0006
          ]
         ],
         "geo": "geo",
         "hovertemplate": "<b>%{hovertext}</b><br><br>Country=%{location}<br>Population 2024=%{customdata[0]}<br>Population 2023=%{customdata[1]}<br>Area (km2)=%{customdata[2]}<br>Density (/km2)=%{customdata[3]}<br>Growth Rate=%{customdata[4]}<br>World %=%{customdata[5]}<extra></extra>",
         "hovertext": [
          "Panama"
         ],
         "locationmode": "country names",
         "locations": [
          "Panama"
         ],
         "name": "Panama",
         "showlegend": true,
         "showscale": false,
         "type": "choropleth",
         "z": [
          1
         ]
        },
        {
         "colorscale": [
          [
           0,
           "#FF97FF"
          ],
          [
           1,
           "#FF97FF"
          ]
         ],
         "customdata": [
          [
           4349380,
           4310108,
           "17.8K",
           244,
           0.0091,
           0.0005
          ]
         ],
         "geo": "geo",
         "hovertemplate": "<b>%{hovertext}</b><br><br>Country=%{location}<br>Population 2024=%{customdata[0]}<br>Population 2023=%{customdata[1]}<br>Area (km2)=%{customdata[2]}<br>Density (/km2)=%{customdata[3]}<br>Growth Rate=%{customdata[4]}<br>World %=%{customdata[5]}<extra></extra>",
         "hovertext": [
          "Kuwait"
         ],
         "locationmode": "country names",
         "locations": [
          "Kuwait"
         ],
         "name": "Kuwait",
         "showlegend": true,
         "showscale": false,
         "type": "choropleth",
         "z": [
          1
         ]
        },
        {
         "colorscale": [
          [
           0,
           "#FECB52"
          ],
          [
           1,
           "#FECB52"
          ]
         ],
         "customdata": [
          [
           3986627,
           4008617,
           "56K",
           71,
           -0.0055,
           0.0005
          ]
         ],
         "geo": "geo",
         "hovertemplate": "<b>%{hovertext}</b><br><br>Country=%{location}<br>Population 2024=%{customdata[0]}<br>Population 2023=%{customdata[1]}<br>Area (km2)=%{customdata[2]}<br>Density (/km2)=%{customdata[3]}<br>Growth Rate=%{customdata[4]}<br>World %=%{customdata[5]}<extra></extra>",
         "hovertext": [
          "Croatia"
         ],
         "locationmode": "country names",
         "locations": [
          "Croatia"
         ],
         "name": "Croatia",
         "showlegend": true,
         "showscale": false,
         "type": "choropleth",
         "z": [
          1
         ]
        },
        {
         "colorscale": [
          [
           0,
           "#636efa"
          ],
          [
           1,
           "#636efa"
          ]
         ],
         "customdata": [
          [
           3817651,
           3748901,
           "121K",
           32,
           0.0183,
           0.0005
          ]
         ],
         "geo": "geo",
         "hovertemplate": "<b>%{hovertext}</b><br><br>Country=%{location}<br>Population 2024=%{customdata[0]}<br>Population 2023=%{customdata[1]}<br>Area (km2)=%{customdata[2]}<br>Density (/km2)=%{customdata[3]}<br>Growth Rate=%{customdata[4]}<br>World %=%{customdata[5]}<extra></extra>",
         "hovertext": [
          "Eritrea"
         ],
         "locationmode": "country names",
         "locations": [
          "Eritrea"
         ],
         "name": "Eritrea",
         "showlegend": true,
         "showscale": false,
         "type": "choropleth",
         "z": [
          1
         ]
        },
        {
         "colorscale": [
          [
           0,
           "#EF553B"
          ],
          [
           1,
           "#EF553B"
          ]
         ],
         "customdata": [
          [
           3717425,
           3728282,
           "69.5K",
           53,
           -0.0029,
           0.0005
          ]
         ],
         "geo": "geo",
         "hovertemplate": "<b>%{hovertext}</b><br><br>Country=%{location}<br>Population 2024=%{customdata[0]}<br>Population 2023=%{customdata[1]}<br>Area (km2)=%{customdata[2]}<br>Density (/km2)=%{customdata[3]}<br>Growth Rate=%{customdata[4]}<br>World %=%{customdata[5]}<extra></extra>",
         "hovertext": [
          "Georgia"
         ],
         "locationmode": "country names",
         "locations": [
          "Georgia"
         ],
         "name": "Georgia",
         "showlegend": true,
         "showscale": false,
         "type": "choropleth",
         "z": [
          1
         ]
        },
        {
         "colorscale": [
          [
           0,
           "#00cc96"
          ],
          [
           1,
           "#00cc96"
          ]
         ],
         "customdata": [
          [
           3493629,
           3447157,
           "1.6M",
           2,
           0.0135,
           0.0004
          ]
         ],
         "geo": "geo",
         "hovertemplate": "<b>%{hovertext}</b><br><br>Country=%{location}<br>Population 2024=%{customdata[0]}<br>Population 2023=%{customdata[1]}<br>Area (km2)=%{customdata[2]}<br>Density (/km2)=%{customdata[3]}<br>Growth Rate=%{customdata[4]}<br>World %=%{customdata[5]}<extra></extra>",
         "hovertext": [
          "Mongolia"
         ],
         "locationmode": "country names",
         "locations": [
          "Mongolia"
         ],
         "name": "Mongolia",
         "showlegend": true,
         "showscale": false,
         "type": "choropleth",
         "z": [
          1
         ]
        },
        {
         "colorscale": [
          [
           0,
           "#ab63fa"
          ],
          [
           1,
           "#ab63fa"
          ]
         ],
         "customdata": [
          [
           3423316,
           3423108,
           "175K",
           20,
           0.0001,
           0.0004
          ]
         ],
         "geo": "geo",
         "hovertemplate": "<b>%{hovertext}</b><br><br>Country=%{location}<br>Population 2024=%{customdata[0]}<br>Population 2023=%{customdata[1]}<br>Area (km2)=%{customdata[2]}<br>Density (/km2)=%{customdata[3]}<br>Growth Rate=%{customdata[4]}<br>World %=%{customdata[5]}<extra></extra>",
         "hovertext": [
          "Uruguay"
         ],
         "locationmode": "country names",
         "locations": [
          "Uruguay"
         ],
         "name": "Uruguay",
         "showlegend": true,
         "showscale": false,
         "type": "choropleth",
         "z": [
          1
         ]
        },
        {
         "colorscale": [
          [
           0,
           "#FFA15A"
          ],
          [
           1,
           "#FFA15A"
          ]
         ],
         "customdata": [
          [
           3329865,
           3435931,
           "32.9K",
           101,
           -0.0309,
           0.0004
          ]
         ],
         "geo": "geo",
         "hovertemplate": "<b>%{hovertext}</b><br><br>Country=%{location}<br>Population 2024=%{customdata[0]}<br>Population 2023=%{customdata[1]}<br>Area (km2)=%{customdata[2]}<br>Density (/km2)=%{customdata[3]}<br>Growth Rate=%{customdata[4]}<br>World %=%{customdata[5]}<extra></extra>",
         "hovertext": [
          "Moldova"
         ],
         "locationmode": "country names",
         "locations": [
          "Moldova"
         ],
         "name": "Moldova",
         "showlegend": true,
         "showscale": false,
         "type": "choropleth",
         "z": [
          1
         ]
        },
        {
         "colorscale": [
          [
           0,
           "#19d3f3"
          ],
          [
           1,
           "#19d3f3"
          ]
         ],
         "customdata": [
          [
           3268802,
           3260314,
           "8.9K",
           369,
           0.0026,
           0.0004
          ]
         ],
         "geo": "geo",
         "hovertemplate": "<b>%{hovertext}</b><br><br>Country=%{location}<br>Population 2024=%{customdata[0]}<br>Population 2023=%{customdata[1]}<br>Area (km2)=%{customdata[2]}<br>Density (/km2)=%{customdata[3]}<br>Growth Rate=%{customdata[4]}<br>World %=%{customdata[5]}<extra></extra>",
         "hovertext": [
          "Puerto Rico"
         ],
         "locationmode": "country names",
         "locations": [
          "Puerto Rico"
         ],
         "name": "Puerto Rico",
         "showlegend": true,
         "showscale": false,
         "type": "choropleth",
         "z": [
          1
         ]
        },
        {
         "colorscale": [
          [
           0,
           "#FF6692"
          ],
          [
           1,
           "#FF6692"
          ]
         ],
         "customdata": [
          [
           3194378,
           3210847,
           "51.2K",
           62,
           -0.0051,
           0.0004
          ]
         ],
         "geo": "geo",
         "hovertemplate": "<b>%{hovertext}</b><br><br>Country=%{location}<br>Population 2024=%{customdata[0]}<br>Population 2023=%{customdata[1]}<br>Area (km2)=%{customdata[2]}<br>Density (/km2)=%{customdata[3]}<br>Growth Rate=%{customdata[4]}<br>World %=%{customdata[5]}<extra></extra>",
         "hovertext": [
          "Bosnia and Herzegovina"
         ],
         "locationmode": "country names",
         "locations": [
          "Bosnia and Herzegovina"
         ],
         "name": "Bosnia and Herzegovina",
         "showlegend": true,
         "showscale": false,
         "type": "choropleth",
         "z": [
          1
         ]
        },
        {
         "colorscale": [
          [
           0,
           "#B6E880"
          ],
          [
           1,
           "#B6E880"
          ]
         ],
         "customdata": [
          [
           2841803,
           2773168,
           "10.1K",
           281,
           0.0247,
           0.0004
          ]
         ],
         "geo": "geo",
         "hovertemplate": "<b>%{hovertext}</b><br><br>Country=%{location}<br>Population 2024=%{customdata[0]}<br>Population 2023=%{customdata[1]}<br>Area (km2)=%{customdata[2]}<br>Density (/km2)=%{customdata[3]}<br>Growth Rate=%{customdata[4]}<br>World %=%{customdata[5]}<extra></extra>",
         "hovertext": [
          "Gambia"
         ],
         "locationmode": "country names",
         "locations": [
          "Gambia"
         ],
         "name": "Gambia",
         "showlegend": true,
         "showscale": false,
         "type": "choropleth",
         "z": [
          1
         ]
        },
        {
         "colorscale": [
          [
           0,
           "#FF97FF"
          ],
          [
           1,
           "#FF97FF"
          ]
         ],
         "customdata": [
          [
           2826020,
           2832439,
           "27.4K",
           103,
           -0.0023,
           0.0004
          ]
         ],
         "geo": "geo",
         "hovertemplate": "<b>%{hovertext}</b><br><br>Country=%{location}<br>Population 2024=%{customdata[0]}<br>Population 2023=%{customdata[1]}<br>Area (km2)=%{customdata[2]}<br>Density (/km2)=%{customdata[3]}<br>Growth Rate=%{customdata[4]}<br>World %=%{customdata[5]}<extra></extra>",
         "hovertext": [
          "Albania"
         ],
         "locationmode": "country names",
         "locations": [
          "Albania"
         ],
         "name": "Albania",
         "showlegend": true,
         "showscale": false,
         "type": "choropleth",
         "z": [
          1
         ]
        },
        {
         "colorscale": [
          [
           0,
           "#FECB52"
          ],
          [
           1,
           "#FECB52"
          ]
         ],
         "customdata": [
          [
           2824738,
           2825544,
           "10.8K",
           261,
           -0.0003,
           0.0004
          ]
         ],
         "geo": "geo",
         "hovertemplate": "<b>%{hovertext}</b><br><br>Country=%{location}<br>Population 2024=%{customdata[0]}<br>Population 2023=%{customdata[1]}<br>Area (km2)=%{customdata[2]}<br>Density (/km2)=%{customdata[3]}<br>Growth Rate=%{customdata[4]}<br>World %=%{customdata[5]}<extra></extra>",
         "hovertext": [
          "Jamaica"
         ],
         "locationmode": "country names",
         "locations": [
          "Jamaica"
         ],
         "name": "Jamaica",
         "showlegend": true,
         "showscale": false,
         "type": "choropleth",
         "z": [
          1
         ]
        },
        {
         "colorscale": [
          [
           0,
           "#636efa"
          ],
          [
           1,
           "#636efa"
          ]
         ],
         "customdata": [
          [
           2777979,
           2777970,
           "28.5K",
           98,
           0,
           0.0003
          ]
         ],
         "geo": "geo",
         "hovertemplate": "<b>%{hovertext}</b><br><br>Country=%{location}<br>Population 2024=%{customdata[0]}<br>Population 2023=%{customdata[1]}<br>Area (km2)=%{customdata[2]}<br>Density (/km2)=%{customdata[3]}<br>Growth Rate=%{customdata[4]}<br>World %=%{customdata[5]}<extra></extra>",
         "hovertext": [
          "Armenia"
         ],
         "locationmode": "country names",
         "locations": [
          "Armenia"
         ],
         "name": "Armenia",
         "showlegend": true,
         "showscale": false,
         "type": "choropleth",
         "z": [
          1
         ]
        },
        {
         "colorscale": [
          [
           0,
           "#EF553B"
          ],
          [
           1,
           "#EF553B"
          ]
         ],
         "customdata": [
          [
           2737061,
           2716391,
           "11.5K",
           238,
           0.0076,
           0.0003
          ]
         ],
         "geo": "geo",
         "hovertemplate": "<b>%{hovertext}</b><br><br>Country=%{location}<br>Population 2024=%{customdata[0]}<br>Population 2023=%{customdata[1]}<br>Area (km2)=%{customdata[2]}<br>Density (/km2)=%{customdata[3]}<br>Growth Rate=%{customdata[4]}<br>World %=%{customdata[5]}<extra></extra>",
         "hovertext": [
          "Qatar"
         ],
         "locationmode": "country names",
         "locations": [
          "Qatar"
         ],
         "name": "Qatar",
         "showlegend": true,
         "showscale": false,
         "type": "choropleth",
         "z": [
          1
         ]
        },
        {
         "colorscale": [
          [
           0,
           "#00cc96"
          ],
          [
           1,
           "#00cc96"
          ]
         ],
         "customdata": [
          [
           2719694,
           2675352,
           "566.7K",
           5,
           0.0166,
           0.0003
          ]
         ],
         "geo": "geo",
         "hovertemplate": "<b>%{hovertext}</b><br><br>Country=%{location}<br>Population 2024=%{customdata[0]}<br>Population 2023=%{customdata[1]}<br>Area (km2)=%{customdata[2]}<br>Density (/km2)=%{customdata[3]}<br>Growth Rate=%{customdata[4]}<br>World %=%{customdata[5]}<extra></extra>",
         "hovertext": [
          "Botswana"
         ],
         "locationmode": "country names",
         "locations": [
          "Botswana"
         ],
         "name": "Botswana",
         "showlegend": true,
         "showscale": false,
         "type": "choropleth",
         "z": [
          1
         ]
        },
        {
         "colorscale": [
          [
           0,
           "#ab63fa"
          ],
          [
           1,
           "#ab63fa"
          ]
         ],
         "customdata": [
          [
           2692798,
           2718352,
           "62.6K",
           43,
           -0.0094,
           0.0003
          ]
         ],
         "geo": "geo",
         "hovertemplate": "<b>%{hovertext}</b><br><br>Country=%{location}<br>Population 2024=%{customdata[0]}<br>Population 2023=%{customdata[1]}<br>Area (km2)=%{customdata[2]}<br>Density (/km2)=%{customdata[3]}<br>Growth Rate=%{customdata[4]}<br>World %=%{customdata[5]}<extra></extra>",
         "hovertext": [
          "Lithuania"
         ],
         "locationmode": "country names",
         "locations": [
          "Lithuania"
         ],
         "name": "Lithuania",
         "showlegend": true,
         "showscale": false,
         "type": "choropleth",
         "z": [
          1
         ]
        },
        {
         "colorscale": [
          [
           0,
           "#FFA15A"
          ],
          [
           1,
           "#FFA15A"
          ]
         ],
         "customdata": [
          [
           2645805,
           2604172,
           "823.3K",
           3,
           0.016,
           0.0003
          ]
         ],
         "geo": "geo",
         "hovertemplate": "<b>%{hovertext}</b><br><br>Country=%{location}<br>Population 2024=%{customdata[0]}<br>Population 2023=%{customdata[1]}<br>Area (km2)=%{customdata[2]}<br>Density (/km2)=%{customdata[3]}<br>Growth Rate=%{customdata[4]}<br>World %=%{customdata[5]}<extra></extra>",
         "hovertext": [
          "Namibia"
         ],
         "locationmode": "country names",
         "locations": [
          "Namibia"
         ],
         "name": "Namibia",
         "showlegend": true,
         "showscale": false,
         "type": "choropleth",
         "z": [
          1
         ]
        },
        {
         "colorscale": [
          [
           0,
           "#19d3f3"
          ],
          [
           1,
           "#19d3f3"
          ]
         ],
         "customdata": [
          [
           2484557,
           2436566,
           "257.7K",
           10,
           0.0197,
           0.0003
          ]
         ],
         "geo": "geo",
         "hovertemplate": "<b>%{hovertext}</b><br><br>Country=%{location}<br>Population 2024=%{customdata[0]}<br>Population 2023=%{customdata[1]}<br>Area (km2)=%{customdata[2]}<br>Density (/km2)=%{customdata[3]}<br>Growth Rate=%{customdata[4]}<br>World %=%{customdata[5]}<extra></extra>",
         "hovertext": [
          "Gabon"
         ],
         "locationmode": "country names",
         "locations": [
          "Gabon"
         ],
         "name": "Gabon",
         "showlegend": true,
         "showscale": false,
         "type": "choropleth",
         "z": [
          1
         ]
        },
        {
         "colorscale": [
          [
           0,
           "#FF6692"
          ],
          [
           1,
           "#FF6692"
          ]
         ],
         "customdata": [
          [
           2356083,
           2330318,
           "30.4K",
           78,
           0.0111,
           0.0003
          ]
         ],
         "geo": "geo",
         "hovertemplate": "<b>%{hovertext}</b><br><br>Country=%{location}<br>Population 2024=%{customdata[0]}<br>Population 2023=%{customdata[1]}<br>Area (km2)=%{customdata[2]}<br>Density (/km2)=%{customdata[3]}<br>Growth Rate=%{customdata[4]}<br>World %=%{customdata[5]}<extra></extra>",
         "hovertext": [
          "Lesotho"
         ],
         "locationmode": "country names",
         "locations": [
          "Lesotho"
         ],
         "name": "Lesotho",
         "showlegend": true,
         "showscale": false,
         "type": "choropleth",
         "z": [
          1
         ]
        },
        {
         "colorscale": [
          [
           0,
           "#B6E880"
          ],
          [
           1,
           "#B6E880"
          ]
         ],
         "customdata": [
          [
           2197149,
           2150842,
           "28.1K",
           78,
           0.0215,
           0.0003
          ]
         ],
         "geo": "geo",
         "hovertemplate": "<b>%{hovertext}</b><br><br>Country=%{location}<br>Population 2024=%{customdata[0]}<br>Population 2023=%{customdata[1]}<br>Area (km2)=%{customdata[2]}<br>Density (/km2)=%{customdata[3]}<br>Growth Rate=%{customdata[4]}<br>World %=%{customdata[5]}<extra></extra>",
         "hovertext": [
          "Guinea Bissau"
         ],
         "locationmode": "country names",
         "locations": [
          "Guinea Bissau"
         ],
         "name": "Guinea Bissau",
         "showlegend": true,
         "showscale": false,
         "type": "choropleth",
         "z": [
          1
         ]
        },
        {
         "colorscale": [
          [
           0,
           "#FF97FF"
          ],
          [
           1,
           "#FF97FF"
          ]
         ],
         "customdata": [
          [
           2118965,
           2119675,
           "20.1K",
           105,
           -0.0003,
           0.0003
          ]
         ],
         "geo": "geo",
         "hovertemplate": "<b>%{hovertext}</b><br><br>Country=%{location}<br>Population 2024=%{customdata[0]}<br>Population 2023=%{customdata[1]}<br>Area (km2)=%{customdata[2]}<br>Density (/km2)=%{customdata[3]}<br>Growth Rate=%{customdata[4]}<br>World %=%{customdata[5]}<extra></extra>",
         "hovertext": [
          "Slovenia"
         ],
         "locationmode": "country names",
         "locations": [
          "Slovenia"
         ],
         "name": "Slovenia",
         "showlegend": true,
         "showscale": false,
         "type": "choropleth",
         "z": [
          1
         ]
        },
        {
         "colorscale": [
          [
           0,
           "#FECB52"
          ],
          [
           1,
           "#FECB52"
          ]
         ],
         "customdata": [
          [
           2082706,
           2085679,
           "25.2K",
           83,
           -0.0014,
           0.0003
          ]
         ],
         "geo": "geo",
         "hovertemplate": "<b>%{hovertext}</b><br><br>Country=%{location}<br>Population 2024=%{customdata[0]}<br>Population 2023=%{customdata[1]}<br>Area (km2)=%{customdata[2]}<br>Density (/km2)=%{customdata[3]}<br>Growth Rate=%{customdata[4]}<br>World %=%{customdata[5]}<extra></extra>",
         "hovertext": [
          "North Macedonia"
         ],
         "locationmode": "country names",
         "locations": [
          "North Macedonia"
         ],
         "name": "North Macedonia",
         "showlegend": true,
         "showscale": false,
         "type": "choropleth",
         "z": [
          1
         ]
        },
        {
         "colorscale": [
          [
           0,
           "#636efa"
          ],
          [
           1,
           "#636efa"
          ]
         ],
         "customdata": [
          [
           1810240,
           1830211,
           "62.2K",
           29,
           -0.0109,
           0.0002
          ]
         ],
         "geo": "geo",
         "hovertemplate": "<b>%{hovertext}</b><br><br>Country=%{location}<br>Population 2024=%{customdata[0]}<br>Population 2023=%{customdata[1]}<br>Area (km2)=%{customdata[2]}<br>Density (/km2)=%{customdata[3]}<br>Growth Rate=%{customdata[4]}<br>World %=%{customdata[5]}<extra></extra>",
         "hovertext": [
          "Latvia"
         ],
         "locationmode": "country names",
         "locations": [
          "Latvia"
         ],
         "name": "Latvia",
         "showlegend": true,
         "showscale": false,
         "type": "choropleth",
         "z": [
          1
         ]
        },
        {
         "colorscale": [
          [
           0,
           "#EF553B"
          ],
          [
           1,
           "#EF553B"
          ]
         ],
         "customdata": [
          [
           1754993,
           1714671,
           "28.1K",
           63,
           0.0235,
           0.0002
          ]
         ],
         "geo": "geo",
         "hovertemplate": "<b>%{hovertext}</b><br><br>Country=%{location}<br>Population 2024=%{customdata[0]}<br>Population 2023=%{customdata[1]}<br>Area (km2)=%{customdata[2]}<br>Density (/km2)=%{customdata[3]}<br>Growth Rate=%{customdata[4]}<br>World %=%{customdata[5]}<extra></extra>",
         "hovertext": [
          "Equatorial Guinea"
         ],
         "locationmode": "country names",
         "locations": [
          "Equatorial Guinea"
         ],
         "name": "Equatorial Guinea",
         "showlegend": true,
         "showscale": false,
         "type": "choropleth",
         "z": [
          1
         ]
        },
        {
         "colorscale": [
          [
           0,
           "#00cc96"
          ],
          [
           1,
           "#00cc96"
          ]
         ],
         "customdata": [
          [
           1538200,
           1534937,
           "5.1K",
           300,
           0.0021,
           0.0002
          ]
         ],
         "geo": "geo",
         "hovertemplate": "<b>%{hovertext}</b><br><br>Country=%{location}<br>Population 2024=%{customdata[0]}<br>Population 2023=%{customdata[1]}<br>Area (km2)=%{customdata[2]}<br>Density (/km2)=%{customdata[3]}<br>Growth Rate=%{customdata[4]}<br>World %=%{customdata[5]}<extra></extra>",
         "hovertext": [
          "Trinidad and Tobago"
         ],
         "locationmode": "country names",
         "locations": [
          "Trinidad and Tobago"
         ],
         "name": "Trinidad and Tobago",
         "showlegend": true,
         "showscale": false,
         "type": "choropleth",
         "z": [
          1
         ]
        },
        {
         "colorscale": [
          [
           0,
           "#ab63fa"
          ],
          [
           1,
           "#ab63fa"
          ]
         ],
         "customdata": [
          [
           1498712,
           1485509,
           "785",
           1909,
           0.0089,
           0.0002
          ]
         ],
         "geo": "geo",
         "hovertemplate": "<b>%{hovertext}</b><br><br>Country=%{location}<br>Population 2024=%{customdata[0]}<br>Population 2023=%{customdata[1]}<br>Area (km2)=%{customdata[2]}<br>Density (/km2)=%{customdata[3]}<br>Growth Rate=%{customdata[4]}<br>World %=%{customdata[5]}<extra></extra>",
         "hovertext": [
          "Bahrain"
         ],
         "locationmode": "country names",
         "locations": [
          "Bahrain"
         ],
         "name": "Bahrain",
         "showlegend": true,
         "showscale": false,
         "type": "choropleth",
         "z": [
          1
         ]
        },
        {
         "colorscale": [
          [
           0,
           "#FFA15A"
          ],
          [
           1,
           "#FFA15A"
          ]
         ],
         "customdata": [
          [
           1379883,
           1360596,
           "14.9K",
           93,
           0.0142,
           0.0002
          ]
         ],
         "geo": "geo",
         "hovertemplate": "<b>%{hovertext}</b><br><br>Country=%{location}<br>Population 2024=%{customdata[0]}<br>Population 2023=%{customdata[1]}<br>Area (km2)=%{customdata[2]}<br>Density (/km2)=%{customdata[3]}<br>Growth Rate=%{customdata[4]}<br>World %=%{customdata[5]}<extra></extra>",
         "hovertext": [
          "Timor Leste"
         ],
         "locationmode": "country names",
         "locations": [
          "Timor Leste"
         ],
         "name": "Timor Leste",
         "showlegend": true,
         "showscale": false,
         "type": "choropleth",
         "z": [
          1
         ]
        },
        {
         "colorscale": [
          [
           0,
           "#19d3f3"
          ],
          [
           1,
           "#19d3f3"
          ]
         ],
         "customdata": [
          [
           1319041,
           1322765,
           "42.8K",
           31,
           -0.0028,
           0.0002
          ]
         ],
         "geo": "geo",
         "hovertemplate": "<b>%{hovertext}</b><br><br>Country=%{location}<br>Population 2024=%{customdata[0]}<br>Population 2023=%{customdata[1]}<br>Area (km2)=%{customdata[2]}<br>Density (/km2)=%{customdata[3]}<br>Growth Rate=%{customdata[4]}<br>World %=%{customdata[5]}<extra></extra>",
         "hovertext": [
          "Estonia"
         ],
         "locationmode": "country names",
         "locations": [
          "Estonia"
         ],
         "name": "Estonia",
         "showlegend": true,
         "showscale": false,
         "type": "choropleth",
         "z": [
          1
         ]
        },
        {
         "colorscale": [
          [
           0,
           "#FF6692"
          ],
          [
           1,
           "#FF6692"
          ]
         ],
         "customdata": [
          [
           1301978,
           1300557,
           "2K",
           641,
           0.0011,
           0.0002
          ]
         ],
         "geo": "geo",
         "hovertemplate": "<b>%{hovertext}</b><br><br>Country=%{location}<br>Population 2024=%{customdata[0]}<br>Population 2023=%{customdata[1]}<br>Area (km2)=%{customdata[2]}<br>Density (/km2)=%{customdata[3]}<br>Growth Rate=%{customdata[4]}<br>World %=%{customdata[5]}<extra></extra>",
         "hovertext": [
          "Mauritius"
         ],
         "locationmode": "country names",
         "locations": [
          "Mauritius"
         ],
         "name": "Mauritius",
         "showlegend": true,
         "showscale": false,
         "type": "choropleth",
         "z": [
          1
         ]
        },
        {
         "colorscale": [
          [
           0,
           "#B6E880"
          ],
          [
           1,
           "#B6E880"
          ]
         ],
         "customdata": [
          [
           1268467,
           1260138,
           "9.2K",
           137,
           0.0066,
           0.0002
          ]
         ],
         "geo": "geo",
         "hovertemplate": "<b>%{hovertext}</b><br><br>Country=%{location}<br>Population 2024=%{customdata[0]}<br>Population 2023=%{customdata[1]}<br>Area (km2)=%{customdata[2]}<br>Density (/km2)=%{customdata[3]}<br>Growth Rate=%{customdata[4]}<br>World %=%{customdata[5]}<extra></extra>",
         "hovertext": [
          "Cyprus"
         ],
         "locationmode": "country names",
         "locations": [
          "Cyprus"
         ],
         "name": "Cyprus",
         "showlegend": true,
         "showscale": false,
         "type": "choropleth",
         "z": [
          1
         ]
        },
        {
         "colorscale": [
          [
           0,
           "#FF97FF"
          ],
          [
           1,
           "#FF97FF"
          ]
         ],
         "customdata": [
          [
           1222075,
           1210822,
           "17.2K",
           71,
           0.0093,
           0.0002
          ]
         ],
         "geo": "geo",
         "hovertemplate": "<b>%{hovertext}</b><br><br>Country=%{location}<br>Population 2024=%{customdata[0]}<br>Population 2023=%{customdata[1]}<br>Area (km2)=%{customdata[2]}<br>Density (/km2)=%{customdata[3]}<br>Growth Rate=%{customdata[4]}<br>World %=%{customdata[5]}<extra></extra>",
         "hovertext": [
          "Eswatini"
         ],
         "locationmode": "country names",
         "locations": [
          "Eswatini"
         ],
         "name": "Eswatini",
         "showlegend": true,
         "showscale": false,
         "type": "choropleth",
         "z": [
          1
         ]
        },
        {
         "colorscale": [
          [
           0,
           "#FECB52"
          ],
          [
           1,
           "#FECB52"
          ]
         ],
         "customdata": [
          [
           1152329,
           1136455,
           "23.2K",
           50,
           0.014,
           0.0001
          ]
         ],
         "geo": "geo",
         "hovertemplate": "<b>%{hovertext}</b><br><br>Country=%{location}<br>Population 2024=%{customdata[0]}<br>Population 2023=%{customdata[1]}<br>Area (km2)=%{customdata[2]}<br>Density (/km2)=%{customdata[3]}<br>Growth Rate=%{customdata[4]}<br>World %=%{customdata[5]}<extra></extra>",
         "hovertext": [
          "Djibouti"
         ],
         "locationmode": "country names",
         "locations": [
          "Djibouti"
         ],
         "name": "Djibouti",
         "showlegend": true,
         "showscale": false,
         "type": "choropleth",
         "z": [
          1
         ]
        },
        {
         "colorscale": [
          [
           0,
           "#636efa"
          ],
          [
           1,
           "#636efa"
          ]
         ],
         "customdata": [
          [
           989350,
           981796,
           "2.5K",
           394,
           0.0077,
           0.0001
          ]
         ],
         "geo": "geo",
         "hovertemplate": "<b>%{hovertext}</b><br><br>Country=%{location}<br>Population 2024=%{customdata[0]}<br>Population 2023=%{customdata[1]}<br>Area (km2)=%{customdata[2]}<br>Density (/km2)=%{customdata[3]}<br>Growth Rate=%{customdata[4]}<br>World %=%{customdata[5]}<extra></extra>",
         "hovertext": [
          "Reunion"
         ],
         "locationmode": "country names",
         "locations": [
          "Reunion"
         ],
         "name": "Reunion",
         "showlegend": true,
         "showscale": false,
         "type": "choropleth",
         "z": [
          1
         ]
        },
        {
         "colorscale": [
          [
           0,
           "#EF553B"
          ],
          [
           1,
           "#EF553B"
          ]
         ],
         "customdata": [
          [
           943072,
           936375,
           "18.3K",
           52,
           0.0072,
           0.0001
          ]
         ],
         "geo": "geo",
         "hovertemplate": "<b>%{hovertext}</b><br><br>Country=%{location}<br>Population 2024=%{customdata[0]}<br>Population 2023=%{customdata[1]}<br>Area (km2)=%{customdata[2]}<br>Density (/km2)=%{customdata[3]}<br>Growth Rate=%{customdata[4]}<br>World %=%{customdata[5]}<extra></extra>",
         "hovertext": [
          "Fiji"
         ],
         "locationmode": "country names",
         "locations": [
          "Fiji"
         ],
         "name": "Fiji",
         "showlegend": true,
         "showscale": false,
         "type": "choropleth",
         "z": [
          1
         ]
        },
        {
         "colorscale": [
          [
           0,
           "#00cc96"
          ],
          [
           1,
           "#00cc96"
          ]
         ],
         "customdata": [
          [
           867605,
           852075,
           "1.9K",
           466,
           0.0182,
           0.0001
          ]
         ],
         "geo": "geo",
         "hovertemplate": "<b>%{hovertext}</b><br><br>Country=%{location}<br>Population 2024=%{customdata[0]}<br>Population 2023=%{customdata[1]}<br>Area (km2)=%{customdata[2]}<br>Density (/km2)=%{customdata[3]}<br>Growth Rate=%{customdata[4]}<br>World %=%{customdata[5]}<extra></extra>",
         "hovertext": [
          "Comoros"
         ],
         "locationmode": "country names",
         "locations": [
          "Comoros"
         ],
         "name": "Comoros",
         "showlegend": true,
         "showscale": false,
         "type": "choropleth",
         "z": [
          1
         ]
        },
        {
         "colorscale": [
          [
           0,
           "#ab63fa"
          ],
          [
           1,
           "#ab63fa"
          ]
         ],
         "customdata": [
          [
           819594,
           813834,
           "196.8K",
           4,
           0.0071,
           0.0001
          ]
         ],
         "geo": "geo",
         "hovertemplate": "<b>%{hovertext}</b><br><br>Country=%{location}<br>Population 2024=%{customdata[0]}<br>Population 2023=%{customdata[1]}<br>Area (km2)=%{customdata[2]}<br>Density (/km2)=%{customdata[3]}<br>Growth Rate=%{customdata[4]}<br>World %=%{customdata[5]}<extra></extra>",
         "hovertext": [
          "Guyana"
         ],
         "locationmode": "country names",
         "locations": [
          "Guyana"
         ],
         "name": "Guyana",
         "showlegend": true,
         "showscale": false,
         "type": "choropleth",
         "z": [
          1
         ]
        },
        {
         "colorscale": [
          [
           0,
           "#FFA15A"
          ],
          [
           1,
           "#FFA15A"
          ]
         ],
         "customdata": [
          [
           792382,
           787424,
           "38.1K",
           21,
           0.0063,
           0.0001
          ]
         ],
         "geo": "geo",
         "hovertemplate": "<b>%{hovertext}</b><br><br>Country=%{location}<br>Population 2024=%{customdata[0]}<br>Population 2023=%{customdata[1]}<br>Area (km2)=%{customdata[2]}<br>Density (/km2)=%{customdata[3]}<br>Growth Rate=%{customdata[4]}<br>World %=%{customdata[5]}<extra></extra>",
         "hovertext": [
          "Bhutan"
         ],
         "locationmode": "country names",
         "locations": [
          "Bhutan"
         ],
         "name": "Bhutan",
         "showlegend": true,
         "showscale": false,
         "type": "choropleth",
         "z": [
          1
         ]
        },
        {
         "colorscale": [
          [
           0,
           "#19d3f3"
          ],
          [
           1,
           "#19d3f3"
          ]
         ],
         "customdata": [
          [
           756673,
           740424,
           "28K",
           27,
           0.0219,
           0.0001
          ]
         ],
         "geo": "geo",
         "hovertemplate": "<b>%{hovertext}</b><br><br>Country=%{location}<br>Population 2024=%{customdata[0]}<br>Population 2023=%{customdata[1]}<br>Area (km2)=%{customdata[2]}<br>Density (/km2)=%{customdata[3]}<br>Growth Rate=%{customdata[4]}<br>World %=%{customdata[5]}<extra></extra>",
         "hovertext": [
          "Solomon Islands"
         ],
         "locationmode": "country names",
         "locations": [
          "Solomon Islands"
         ],
         "name": "Solomon Islands",
         "showlegend": true,
         "showscale": false,
         "type": "choropleth",
         "z": [
          1
         ]
        },
        {
         "colorscale": [
          [
           0,
           "#FF6692"
          ],
          [
           1,
           "#FF6692"
          ]
         ],
         "customdata": [
          [
           713082,
           704149,
           "33",
           21674,
           0.0127,
           0.0001
          ]
         ],
         "geo": "geo",
         "hovertemplate": "<b>%{hovertext}</b><br><br>Country=%{location}<br>Population 2024=%{customdata[0]}<br>Population 2023=%{customdata[1]}<br>Area (km2)=%{customdata[2]}<br>Density (/km2)=%{customdata[3]}<br>Growth Rate=%{customdata[4]}<br>World %=%{customdata[5]}<extra></extra>",
         "hovertext": [
          "Macau"
         ],
         "locationmode": "country names",
         "locations": [
          "Macau"
         ],
         "name": "Macau",
         "showlegend": true,
         "showscale": false,
         "type": "choropleth",
         "z": [
          1
         ]
        },
        {
         "colorscale": [
          [
           0,
           "#B6E880"
          ],
          [
           1,
           "#B6E880"
          ]
         ],
         "customdata": [
          [
           661594,
           654768,
           "2.6K",
           257,
           0.0104,
           0.0001
          ]
         ],
         "geo": "geo",
         "hovertemplate": "<b>%{hovertext}</b><br><br>Country=%{location}<br>Population 2024=%{customdata[0]}<br>Population 2023=%{customdata[1]}<br>Area (km2)=%{customdata[2]}<br>Density (/km2)=%{customdata[3]}<br>Growth Rate=%{customdata[4]}<br>World %=%{customdata[5]}<extra></extra>",
         "hovertext": [
          "Luxembourg"
         ],
         "locationmode": "country names",
         "locations": [
          "Luxembourg"
         ],
         "name": "Luxembourg",
         "showlegend": true,
         "showscale": false,
         "type": "choropleth",
         "z": [
          1
         ]
        },
        {
         "colorscale": [
          [
           0,
           "#FF97FF"
          ],
          [
           1,
           "#FF97FF"
          ]
         ],
         "customdata": [
          [
           628785,
           623236,
           "156K",
           4,
           0.0089,
           0.0001
          ]
         ],
         "geo": "geo",
         "hovertemplate": "<b>%{hovertext}</b><br><br>Country=%{location}<br>Population 2024=%{customdata[0]}<br>Population 2023=%{customdata[1]}<br>Area (km2)=%{customdata[2]}<br>Density (/km2)=%{customdata[3]}<br>Growth Rate=%{customdata[4]}<br>World %=%{customdata[5]}<extra></extra>",
         "hovertext": [
          "Suriname"
         ],
         "locationmode": "country names",
         "locations": [
          "Suriname"
         ],
         "name": "Suriname",
         "showlegend": true,
         "showscale": false,
         "type": "choropleth",
         "z": [
          1
         ]
        },
        {
         "colorscale": [
          [
           0,
           "#FECB52"
          ],
          [
           1,
           "#FECB52"
          ]
         ],
         "customdata": [
          [
           626102,
           626485,
           "13.4K",
           47,
           -0.0006,
           0.0001
          ]
         ],
         "geo": "geo",
         "hovertemplate": "<b>%{hovertext}</b><br><br>Country=%{location}<br>Population 2024=%{customdata[0]}<br>Population 2023=%{customdata[1]}<br>Area (km2)=%{customdata[2]}<br>Density (/km2)=%{customdata[3]}<br>Growth Rate=%{customdata[4]}<br>World %=%{customdata[5]}<extra></extra>",
         "hovertext": [
          "Montenegro"
         ],
         "locationmode": "country names",
         "locations": [
          "Montenegro"
         ],
         "name": "Montenegro",
         "showlegend": true,
         "showscale": false,
         "type": "choropleth",
         "z": [
          1
         ]
        },
        {
         "colorscale": [
          [
           0,
           "#636efa"
          ],
          [
           1,
           "#636efa"
          ]
         ],
         "customdata": [
          [
           604461,
           598682,
           "4K",
           150,
           0.0097,
           0.0001
          ]
         ],
         "geo": "geo",
         "hovertemplate": "<b>%{hovertext}</b><br><br>Country=%{location}<br>Population 2024=%{customdata[0]}<br>Population 2023=%{customdata[1]}<br>Area (km2)=%{customdata[2]}<br>Density (/km2)=%{customdata[3]}<br>Growth Rate=%{customdata[4]}<br>World %=%{customdata[5]}<extra></extra>",
         "hovertext": [
          "Cape Verde"
         ],
         "locationmode": "country names",
         "locations": [
          "Cape Verde"
         ],
         "name": "Cape Verde",
         "showlegend": true,
         "showscale": false,
         "type": "choropleth",
         "z": [
          1
         ]
        },
        {
         "colorscale": [
          [
           0,
           "#EF553B"
          ],
          [
           1,
           "#EF553B"
          ]
         ],
         "customdata": [
          [
           598385,
           587259,
           "266K",
           2,
           0.0189,
           0.0001
          ]
         ],
         "geo": "geo",
         "hovertemplate": "<b>%{hovertext}</b><br><br>Country=%{location}<br>Population 2024=%{customdata[0]}<br>Population 2023=%{customdata[1]}<br>Area (km2)=%{customdata[2]}<br>Density (/km2)=%{customdata[3]}<br>Growth Rate=%{customdata[4]}<br>World %=%{customdata[5]}<extra></extra>",
         "hovertext": [
          "Western Sahara"
         ],
         "locationmode": "country names",
         "locations": [
          "Western Sahara"
         ],
         "name": "Western Sahara",
         "showlegend": true,
         "showscale": false,
         "type": "choropleth",
         "z": [
          1
         ]
        },
        {
         "colorscale": [
          [
           0,
           "#00cc96"
          ],
          [
           1,
           "#00cc96"
          ]
         ],
         "customdata": [
          [
           536740,
           535064,
           "320",
           1677,
           0.0031,
           0.0001
          ]
         ],
         "geo": "geo",
         "hovertemplate": "<b>%{hovertext}</b><br><br>Country=%{location}<br>Population 2024=%{customdata[0]}<br>Population 2023=%{customdata[1]}<br>Area (km2)=%{customdata[2]}<br>Density (/km2)=%{customdata[3]}<br>Growth Rate=%{customdata[4]}<br>World %=%{customdata[5]}<extra></extra>",
         "hovertext": [
          "Malta"
         ],
         "locationmode": "country names",
         "locations": [
          "Malta"
         ],
         "name": "Malta",
         "showlegend": true,
         "showscale": false,
         "type": "choropleth",
         "z": [
          1
         ]
        },
        {
         "colorscale": [
          [
           0,
           "#ab63fa"
          ],
          [
           1,
           "#ab63fa"
          ]
         ],
         "customdata": [
          [
           517887,
           521021,
           "300",
           1726,
           -0.006,
           0.0001
          ]
         ],
         "geo": "geo",
         "hovertemplate": "<b>%{hovertext}</b><br><br>Country=%{location}<br>Population 2024=%{customdata[0]}<br>Population 2023=%{customdata[1]}<br>Area (km2)=%{customdata[2]}<br>Density (/km2)=%{customdata[3]}<br>Growth Rate=%{customdata[4]}<br>World %=%{customdata[5]}<extra></extra>",
         "hovertext": [
          "Maldives"
         ],
         "locationmode": "country names",
         "locations": [
          "Maldives"
         ],
         "name": "Maldives",
         "showlegend": true,
         "showscale": false,
         "type": "choropleth",
         "z": [
          1
         ]
        },
        {
         "colorscale": [
          [
           0,
           "#FFA15A"
          ],
          [
           1,
           "#FFA15A"
          ]
         ],
         "customdata": [
          [
           455858,
           452524,
           "5.3K",
           87,
           0.0074,
           0.0001
          ]
         ],
         "geo": "geo",
         "hovertemplate": "<b>%{hovertext}</b><br><br>Country=%{location}<br>Population 2024=%{customdata[0]}<br>Population 2023=%{customdata[1]}<br>Area (km2)=%{customdata[2]}<br>Density (/km2)=%{customdata[3]}<br>Growth Rate=%{customdata[4]}<br>World %=%{customdata[5]}<extra></extra>",
         "hovertext": [
          "Brunei"
         ],
         "locationmode": "country names",
         "locations": [
          "Brunei"
         ],
         "name": "Brunei",
         "showlegend": true,
         "showscale": false,
         "type": "choropleth",
         "z": [
          1
         ]
        },
        {
         "colorscale": [
          [
           0,
           "#19d3f3"
          ],
          [
           1,
           "#19d3f3"
          ]
         ],
         "customdata": [
          [
           416656,
           410825,
           "22.8K",
           18,
           0.0142,
           0.0001
          ]
         ],
         "geo": "geo",
         "hovertemplate": "<b>%{hovertext}</b><br><br>Country=%{location}<br>Population 2024=%{customdata[0]}<br>Population 2023=%{customdata[1]}<br>Area (km2)=%{customdata[2]}<br>Density (/km2)=%{customdata[3]}<br>Growth Rate=%{customdata[4]}<br>World %=%{customdata[5]}<extra></extra>",
         "hovertext": [
          "Belize"
         ],
         "locationmode": "country names",
         "locations": [
          "Belize"
         ],
         "name": "Belize",
         "showlegend": true,
         "showscale": false,
         "type": "choropleth",
         "z": [
          1
         ]
        },
        {
         "colorscale": [
          [
           0,
           "#FF6692"
          ],
          [
           1,
           "#FF6692"
          ]
         ],
         "customdata": [
          [
           415223,
           412623,
           "10K",
           41,
           0.0063,
           0.0001
          ]
         ],
         "geo": "geo",
         "hovertemplate": "<b>%{hovertext}</b><br><br>Country=%{location}<br>Population 2024=%{customdata[0]}<br>Population 2023=%{customdata[1]}<br>Area (km2)=%{customdata[2]}<br>Density (/km2)=%{customdata[3]}<br>Growth Rate=%{customdata[4]}<br>World %=%{customdata[5]}<extra></extra>",
         "hovertext": [
          "Bahamas"
         ],
         "locationmode": "country names",
         "locations": [
          "Bahamas"
         ],
         "name": "Bahamas",
         "showlegend": true,
         "showscale": false,
         "type": "choropleth",
         "z": [
          1
         ]
        },
        {
         "colorscale": [
          [
           0,
           "#B6E880"
          ],
          [
           1,
           "#B6E880"
          ]
         ],
         "customdata": [
          [
           396346,
           395839,
           "1.6K",
           243,
           0.0013,
           0
          ]
         ],
         "geo": "geo",
         "hovertemplate": "<b>%{hovertext}</b><br><br>Country=%{location}<br>Population 2024=%{customdata[0]}<br>Population 2023=%{customdata[1]}<br>Area (km2)=%{customdata[2]}<br>Density (/km2)=%{customdata[3]}<br>Growth Rate=%{customdata[4]}<br>World %=%{customdata[5]}<extra></extra>",
         "hovertext": [
          "Guadeloupe"
         ],
         "locationmode": "country names",
         "locations": [
          "Guadeloupe"
         ],
         "name": "Guadeloupe",
         "showlegend": true,
         "showscale": false,
         "type": "choropleth",
         "z": [
          1
         ]
        },
        {
         "colorscale": [
          [
           0,
           "#FF97FF"
          ],
          [
           1,
           "#FF97FF"
          ]
         ],
         "customdata": [
          [
           377689,
           375318,
           "100.8K",
           4,
           0.0063,
           0
          ]
         ],
         "geo": "geo",
         "hovertemplate": "<b>%{hovertext}</b><br><br>Country=%{location}<br>Population 2024=%{customdata[0]}<br>Population 2023=%{customdata[1]}<br>Area (km2)=%{customdata[2]}<br>Density (/km2)=%{customdata[3]}<br>Growth Rate=%{customdata[4]}<br>World %=%{customdata[5]}<extra></extra>",
         "hovertext": [
          "Iceland"
         ],
         "locationmode": "country names",
         "locations": [
          "Iceland"
         ],
         "name": "Iceland",
         "showlegend": true,
         "showscale": false,
         "type": "choropleth",
         "z": [
          1
         ]
        },
        {
         "colorscale": [
          [
           0,
           "#FECB52"
          ],
          [
           1,
           "#FECB52"
          ]
         ],
         "customdata": [
          [
           366416,
           366981,
           "1.1K",
           325,
           -0.0015,
           0
          ]
         ],
         "geo": "geo",
         "hovertemplate": "<b>%{hovertext}</b><br><br>Country=%{location}<br>Population 2024=%{customdata[0]}<br>Population 2023=%{customdata[1]}<br>Area (km2)=%{customdata[2]}<br>Density (/km2)=%{customdata[3]}<br>Growth Rate=%{customdata[4]}<br>World %=%{customdata[5]}<extra></extra>",
         "hovertext": [
          "Martinique"
         ],
         "locationmode": "country names",
         "locations": [
          "Martinique"
         ],
         "name": "Martinique",
         "showlegend": true,
         "showscale": false,
         "type": "choropleth",
         "z": [
          1
         ]
        },
        {
         "colorscale": [
          [
           0,
           "#636efa"
          ],
          [
           1,
           "#636efa"
          ]
         ],
         "customdata": [
          [
           345996,
           335995,
           "374",
           925,
           0.0298,
           0
          ]
         ],
         "geo": "geo",
         "hovertemplate": "<b>%{hovertext}</b><br><br>Country=%{location}<br>Population 2024=%{customdata[0]}<br>Population 2023=%{customdata[1]}<br>Area (km2)=%{customdata[2]}<br>Density (/km2)=%{customdata[3]}<br>Growth Rate=%{customdata[4]}<br>World %=%{customdata[5]}<extra></extra>",
         "hovertext": [
          "Mayotte"
         ],
         "locationmode": "country names",
         "locations": [
          "Mayotte"
         ],
         "name": "Mayotte",
         "showlegend": true,
         "showscale": false,
         "type": "choropleth",
         "z": [
          1
         ]
        },
        {
         "colorscale": [
          [
           0,
           "#EF553B"
          ],
          [
           1,
           "#EF553B"
          ]
         ],
         "customdata": [
          [
           342325,
           334506,
           "12.2K",
           28,
           0.0234,
           0
          ]
         ],
         "geo": "geo",
         "hovertemplate": "<b>%{hovertext}</b><br><br>Country=%{location}<br>Population 2024=%{customdata[0]}<br>Population 2023=%{customdata[1]}<br>Area (km2)=%{customdata[2]}<br>Density (/km2)=%{customdata[3]}<br>Growth Rate=%{customdata[4]}<br>World %=%{customdata[5]}<extra></extra>",
         "hovertext": [
          "Vanuatu"
         ],
         "locationmode": "country names",
         "locations": [
          "Vanuatu"
         ],
         "name": "Vanuatu",
         "showlegend": true,
         "showscale": false,
         "type": "choropleth",
         "z": [
          1
         ]
        },
        {
         "colorscale": [
          [
           0,
           "#00cc96"
          ],
          [
           1,
           "#00cc96"
          ]
         ],
         "customdata": [
          [
           319796,
           312155,
           "83.5K",
           4,
           0.0245,
           0
          ]
         ],
         "geo": "geo",
         "hovertemplate": "<b>%{hovertext}</b><br><br>Country=%{location}<br>Population 2024=%{customdata[0]}<br>Population 2023=%{customdata[1]}<br>Area (km2)=%{customdata[2]}<br>Density (/km2)=%{customdata[3]}<br>Growth Rate=%{customdata[4]}<br>World %=%{customdata[5]}<extra></extra>",
         "hovertext": [
          "French Guiana"
         ],
         "locationmode": "country names",
         "locations": [
          "French Guiana"
         ],
         "name": "French Guiana",
         "showlegend": true,
         "showscale": false,
         "type": "choropleth",
         "z": [
          1
         ]
        },
        {
         "colorscale": [
          [
           0,
           "#ab63fa"
          ],
          [
           1,
           "#ab63fa"
          ]
         ],
         "customdata": [
          [
           311383,
           308872,
           "3.5K",
           90,
           0.0081,
           0
          ]
         ],
         "geo": "geo",
         "hovertemplate": "<b>%{hovertext}</b><br><br>Country=%{location}<br>Population 2024=%{customdata[0]}<br>Population 2023=%{customdata[1]}<br>Area (km2)=%{customdata[2]}<br>Density (/km2)=%{customdata[3]}<br>Growth Rate=%{customdata[4]}<br>World %=%{customdata[5]}<extra></extra>",
         "hovertext": [
          "French Polynesia"
         ],
         "locationmode": "country names",
         "locations": [
          "French Polynesia"
         ],
         "name": "French Polynesia",
         "showlegend": true,
         "showscale": false,
         "type": "choropleth",
         "z": [
          1
         ]
        },
        {
         "colorscale": [
          [
           0,
           "#FFA15A"
          ],
          [
           1,
           "#FFA15A"
          ]
         ],
         "customdata": [
          [
           295966,
           292991,
           "18.3K",
           16,
           0.0102,
           0
          ]
         ],
         "geo": "geo",
         "hovertemplate": "<b>%{hovertext}</b><br><br>Country=%{location}<br>Population 2024=%{customdata[0]}<br>Population 2023=%{customdata[1]}<br>Area (km2)=%{customdata[2]}<br>Density (/km2)=%{customdata[3]}<br>Growth Rate=%{customdata[4]}<br>World %=%{customdata[5]}<extra></extra>",
         "hovertext": [
          "New Caledonia"
         ],
         "locationmode": "country names",
         "locations": [
          "New Caledonia"
         ],
         "name": "New Caledonia",
         "showlegend": true,
         "showscale": false,
         "type": "choropleth",
         "z": [
          1
         ]
        },
        {
         "colorscale": [
          [
           0,
           "#19d3f3"
          ],
          [
           1,
           "#19d3f3"
          ]
         ],
         "customdata": [
          [
           282309,
           281995,
           "430",
           657,
           0.0011,
           0
          ]
         ],
         "geo": "geo",
         "hovertemplate": "<b>%{hovertext}</b><br><br>Country=%{location}<br>Population 2024=%{customdata[0]}<br>Population 2023=%{customdata[1]}<br>Area (km2)=%{customdata[2]}<br>Density (/km2)=%{customdata[3]}<br>Growth Rate=%{customdata[4]}<br>World %=%{customdata[5]}<extra></extra>",
         "hovertext": [
          "Barbados"
         ],
         "locationmode": "country names",
         "locations": [
          "Barbados"
         ],
         "name": "Barbados",
         "showlegend": true,
         "showscale": false,
         "type": "choropleth",
         "z": [
          1
         ]
        },
        {
         "colorscale": [
          [
           0,
           "#FF6692"
          ],
          [
           1,
           "#FF6692"
          ]
         ],
         "customdata": [
          [
           236381,
           231856,
           "960",
           246,
           0.0195,
           0
          ]
         ],
         "geo": "geo",
         "hovertemplate": "<b>%{hovertext}</b><br><br>Country=%{location}<br>Population 2024=%{customdata[0]}<br>Population 2023=%{customdata[1]}<br>Area (km2)=%{customdata[2]}<br>Density (/km2)=%{customdata[3]}<br>Growth Rate=%{customdata[4]}<br>World %=%{customdata[5]}<extra></extra>",
         "hovertext": [
          "Sao Tome and Principe"
         ],
         "locationmode": "country names",
         "locations": [
          "Sao Tome and Principe"
         ],
         "name": "Sao Tome and Principe",
         "showlegend": true,
         "showscale": false,
         "type": "choropleth",
         "z": [
          1
         ]
        },
        {
         "colorscale": [
          [
           0,
           "#B6E880"
          ],
          [
           1,
           "#B6E880"
          ]
         ],
         "customdata": [
          [
           228966,
           225681,
           "2.8K",
           82,
           0.0146,
           0
          ]
         ],
         "geo": "geo",
         "hovertemplate": "<b>%{hovertext}</b><br><br>Country=%{location}<br>Population 2024=%{customdata[0]}<br>Population 2023=%{customdata[1]}<br>Area (km2)=%{customdata[2]}<br>Density (/km2)=%{customdata[3]}<br>Growth Rate=%{customdata[4]}<br>World %=%{customdata[5]}<extra></extra>",
         "hovertext": [
          "Samoa"
         ],
         "locationmode": "country names",
         "locations": [
          "Samoa"
         ],
         "name": "Samoa",
         "showlegend": true,
         "showscale": false,
         "type": "choropleth",
         "z": [
          1
         ]
        },
        {
         "colorscale": [
          [
           0,
           "#FF97FF"
          ],
          [
           1,
           "#FF97FF"
          ]
         ],
         "customdata": [
          [
           192965,
           192077,
           "444",
           435,
           0.0046,
           0
          ]
         ],
         "geo": "geo",
         "hovertemplate": "<b>%{hovertext}</b><br><br>Country=%{location}<br>Population 2024=%{customdata[0]}<br>Population 2023=%{customdata[1]}<br>Area (km2)=%{customdata[2]}<br>Density (/km2)=%{customdata[3]}<br>Growth Rate=%{customdata[4]}<br>World %=%{customdata[5]}<extra></extra>",
         "hovertext": [
          "Curacao"
         ],
         "locationmode": "country names",
         "locations": [
          "Curacao"
         ],
         "name": "Curacao",
         "showlegend": true,
         "showscale": false,
         "type": "choropleth",
         "z": [
          1
         ]
        },
        {
         "colorscale": [
          [
           0,
           "#FECB52"
          ],
          [
           1,
           "#FECB52"
          ]
         ],
         "customdata": [
          [
           180805,
           180251,
           "610",
           296,
           0.0031,
           0
          ]
         ],
         "geo": "geo",
         "hovertemplate": "<b>%{hovertext}</b><br><br>Country=%{location}<br>Population 2024=%{customdata[0]}<br>Population 2023=%{customdata[1]}<br>Area (km2)=%{customdata[2]}<br>Density (/km2)=%{customdata[3]}<br>Growth Rate=%{customdata[4]}<br>World %=%{customdata[5]}<extra></extra>",
         "hovertext": [
          "Saint Lucia"
         ],
         "locationmode": "country names",
         "locations": [
          "Saint Lucia"
         ],
         "name": "Saint Lucia",
         "showlegend": true,
         "showscale": false,
         "type": "choropleth",
         "z": [
          1
         ]
        },
        {
         "colorscale": [
          [
           0,
           "#636efa"
          ],
          [
           1,
           "#636efa"
          ]
         ],
         "customdata": [
          [
           174114,
           172952,
           "540",
           322,
           0.0067,
           0
          ]
         ],
         "geo": "geo",
         "hovertemplate": "<b>%{hovertext}</b><br><br>Country=%{location}<br>Population 2024=%{customdata[0]}<br>Population 2023=%{customdata[1]}<br>Area (km2)=%{customdata[2]}<br>Density (/km2)=%{customdata[3]}<br>Growth Rate=%{customdata[4]}<br>World %=%{customdata[5]}<extra></extra>",
         "hovertext": [
          "Guam"
         ],
         "locationmode": "country names",
         "locations": [
          "Guam"
         ],
         "name": "Guam",
         "showlegend": true,
         "showscale": false,
         "type": "choropleth",
         "z": [
          1
         ]
        },
        {
         "colorscale": [
          [
           0,
           "#EF553B"
          ],
          [
           1,
           "#EF553B"
          ]
         ],
         "customdata": [
          [
           135763,
           133515,
           "810",
           168,
           0.0168,
           0
          ]
         ],
         "geo": "geo",
         "hovertemplate": "<b>%{hovertext}</b><br><br>Country=%{location}<br>Population 2024=%{customdata[0]}<br>Population 2023=%{customdata[1]}<br>Area (km2)=%{customdata[2]}<br>Density (/km2)=%{customdata[3]}<br>Growth Rate=%{customdata[4]}<br>World %=%{customdata[5]}<extra></extra>",
         "hovertext": [
          "Kiribati"
         ],
         "locationmode": "country names",
         "locations": [
          "Kiribati"
         ],
         "name": "Kiribati",
         "showlegend": true,
         "showscale": false,
         "type": "choropleth",
         "z": [
          1
         ]
        },
        {
         "colorscale": [
          [
           0,
           "#00cc96"
          ],
          [
           1,
           "#00cc96"
          ]
         ],
         "customdata": [
          [
           126887,
           126183,
           "340",
           373,
           0.0056,
           0
          ]
         ],
         "geo": "geo",
         "hovertemplate": "<b>%{hovertext}</b><br><br>Country=%{location}<br>Population 2024=%{customdata[0]}<br>Population 2023=%{customdata[1]}<br>Area (km2)=%{customdata[2]}<br>Density (/km2)=%{customdata[3]}<br>Growth Rate=%{customdata[4]}<br>World %=%{customdata[5]}<extra></extra>",
         "hovertext": [
          "Grenada"
         ],
         "locationmode": "country names",
         "locations": [
          "Grenada"
         ],
         "name": "Grenada",
         "showlegend": true,
         "showscale": false,
         "type": "choropleth",
         "z": [
          1
         ]
        },
        {
         "colorscale": [
          [
           0,
           "#ab63fa"
          ],
          [
           1,
           "#ab63fa"
          ]
         ],
         "customdata": [
          [
           116300,
           115224,
           "700",
           166,
           0.0093,
           0
          ]
         ],
         "geo": "geo",
         "hovertemplate": "<b>%{hovertext}</b><br><br>Country=%{location}<br>Population 2024=%{customdata[0]}<br>Population 2023=%{customdata[1]}<br>Area (km2)=%{customdata[2]}<br>Density (/km2)=%{customdata[3]}<br>Growth Rate=%{customdata[4]}<br>World %=%{customdata[5]}<extra></extra>",
         "hovertext": [
          "Micronesia"
         ],
         "locationmode": "country names",
         "locations": [
          "Micronesia"
         ],
         "name": "Micronesia",
         "showlegend": true,
         "showscale": false,
         "type": "choropleth",
         "z": [
          1
         ]
        },
        {
         "colorscale": [
          [
           0,
           "#FFA15A"
          ],
          [
           1,
           "#FFA15A"
          ]
         ],
         "customdata": [
          [
           112843,
           111802,
           "120",
           940,
           0.0093,
           0
          ]
         ],
         "geo": "geo",
         "hovertemplate": "<b>%{hovertext}</b><br><br>Country=%{location}<br>Population 2024=%{customdata[0]}<br>Population 2023=%{customdata[1]}<br>Area (km2)=%{customdata[2]}<br>Density (/km2)=%{customdata[3]}<br>Growth Rate=%{customdata[4]}<br>World %=%{customdata[5]}<extra></extra>",
         "hovertext": [
          "Jersey"
         ],
         "locationmode": "country names",
         "locations": [
          "Jersey"
         ],
         "name": "Jersey",
         "showlegend": true,
         "showscale": false,
         "type": "choropleth",
         "z": [
          1
         ]
        },
        {
         "colorscale": [
          [
           0,
           "#19d3f3"
          ],
          [
           1,
           "#19d3f3"
          ]
         ],
         "customdata": [
          [
           108683,
           107773,
           "720",
           151,
           0.0084,
           0
          ]
         ],
         "geo": "geo",
         "hovertemplate": "<b>%{hovertext}</b><br><br>Country=%{location}<br>Population 2024=%{customdata[0]}<br>Population 2023=%{customdata[1]}<br>Area (km2)=%{customdata[2]}<br>Density (/km2)=%{customdata[3]}<br>Growth Rate=%{customdata[4]}<br>World %=%{customdata[5]}<extra></extra>",
         "hovertext": [
          "Tonga"
         ],
         "locationmode": "country names",
         "locations": [
          "Tonga"
         ],
         "name": "Tonga",
         "showlegend": true,
         "showscale": false,
         "type": "choropleth",
         "z": [
          1
         ]
        },
        {
         "colorscale": [
          [
           0,
           "#FF6692"
          ],
          [
           1,
           "#FF6692"
          ]
         ],
         "customdata": [
          [
           108263,
           107660,
           "460",
           235,
           0.0056,
           0
          ]
         ],
         "geo": "geo",
         "hovertemplate": "<b>%{hovertext}</b><br><br>Country=%{location}<br>Population 2024=%{customdata[0]}<br>Population 2023=%{customdata[1]}<br>Area (km2)=%{customdata[2]}<br>Density (/km2)=%{customdata[3]}<br>Growth Rate=%{customdata[4]}<br>World %=%{customdata[5]}<extra></extra>",
         "hovertext": [
          "Seychelles"
         ],
         "locationmode": "country names",
         "locations": [
          "Seychelles"
         ],
         "name": "Seychelles",
         "showlegend": true,
         "showscale": false,
         "type": "choropleth",
         "z": [
          1
         ]
        },
        {
         "colorscale": [
          [
           0,
           "#B6E880"
          ],
          [
           1,
           "#B6E880"
          ]
         ],
         "customdata": [
          [
           106177,
           106277,
           "180",
           590,
           -0.0009,
           0
          ]
         ],
         "geo": "geo",
         "hovertemplate": "<b>%{hovertext}</b><br><br>Country=%{location}<br>Population 2024=%{customdata[0]}<br>Population 2023=%{customdata[1]}<br>Area (km2)=%{customdata[2]}<br>Density (/km2)=%{customdata[3]}<br>Growth Rate=%{customdata[4]}<br>World %=%{customdata[5]}<extra></extra>",
         "hovertext": [
          "Aruba"
         ],
         "locationmode": "country names",
         "locations": [
          "Aruba"
         ],
         "name": "Aruba",
         "showlegend": true,
         "showscale": false,
         "type": "choropleth",
         "z": [
          1
         ]
        },
        {
         "colorscale": [
          [
           0,
           "#FF97FF"
          ],
          [
           1,
           "#FF97FF"
          ]
         ],
         "customdata": [
          [
           103683,
           103698,
           "390",
           266,
           -0.0001,
           0
          ]
         ],
         "geo": "geo",
         "hovertemplate": "<b>%{hovertext}</b><br><br>Country=%{location}<br>Population 2024=%{customdata[0]}<br>Population 2023=%{customdata[1]}<br>Area (km2)=%{customdata[2]}<br>Density (/km2)=%{customdata[3]}<br>Growth Rate=%{customdata[4]}<br>World %=%{customdata[5]}<extra></extra>",
         "hovertext": [
          "Saint Vincent and the Grenadines"
         ],
         "locationmode": "country names",
         "locations": [
          "Saint Vincent and the Grenadines"
         ],
         "name": "Saint Vincent and the Grenadines",
         "showlegend": true,
         "showscale": false,
         "type": "choropleth",
         "z": [
          1
         ]
        },
        {
         "colorscale": [
          [
           0,
           "#FECB52"
          ],
          [
           1,
           "#FECB52"
          ]
         ],
         "customdata": [
          [
           98055,
           98750,
           "347",
           283,
           -0.007,
           0
          ]
         ],
         "geo": "geo",
         "hovertemplate": "<b>%{hovertext}</b><br><br>Country=%{location}<br>Population 2024=%{customdata[0]}<br>Population 2023=%{customdata[1]}<br>Area (km2)=%{customdata[2]}<br>Density (/km2)=%{customdata[3]}<br>Growth Rate=%{customdata[4]}<br>World %=%{customdata[5]}<extra></extra>",
         "hovertext": [
          "United States Virgin Islands"
         ],
         "locationmode": "country names",
         "locations": [
          "United States Virgin Islands"
         ],
         "name": "United States Virgin Islands",
         "showlegend": true,
         "showscale": false,
         "type": "choropleth",
         "z": [
          1
         ]
        },
        {
         "colorscale": [
          [
           0,
           "#636efa"
          ],
          [
           1,
           "#636efa"
          ]
         ],
         "customdata": [
          [
           94816,
           94298,
           "440",
           215,
           0.0055,
           0
          ]
         ],
         "geo": "geo",
         "hovertemplate": "<b>%{hovertext}</b><br><br>Country=%{location}<br>Population 2024=%{customdata[0]}<br>Population 2023=%{customdata[1]}<br>Area (km2)=%{customdata[2]}<br>Density (/km2)=%{customdata[3]}<br>Growth Rate=%{customdata[4]}<br>World %=%{customdata[5]}<extra></extra>",
         "hovertext": [
          "Antigua and Barbuda"
         ],
         "locationmode": "country names",
         "locations": [
          "Antigua and Barbuda"
         ],
         "name": "Antigua and Barbuda",
         "showlegend": true,
         "showscale": false,
         "type": "choropleth",
         "z": [
          1
         ]
        },
        {
         "colorscale": [
          [
           0,
           "#EF553B"
          ],
          [
           1,
           "#EF553B"
          ]
         ],
         "customdata": [
          [
           84904,
           84710,
           "570",
           149,
           0.0023,
           0
          ]
         ],
         "geo": "geo",
         "hovertemplate": "<b>%{hovertext}</b><br><br>Country=%{location}<br>Population 2024=%{customdata[0]}<br>Population 2023=%{customdata[1]}<br>Area (km2)=%{customdata[2]}<br>Density (/km2)=%{customdata[3]}<br>Growth Rate=%{customdata[4]}<br>World %=%{customdata[5]}<extra></extra>",
         "hovertext": [
          "Isle of Man"
         ],
         "locationmode": "country names",
         "locations": [
          "Isle of Man"
         ],
         "name": "Isle of Man",
         "showlegend": true,
         "showscale": false,
         "type": "choropleth",
         "z": [
          1
         ]
        },
        {
         "colorscale": [
          [
           0,
           "#00cc96"
          ],
          [
           1,
           "#00cc96"
          ]
         ],
         "customdata": [
          [
           80341,
           80088,
           "470",
           171,
           0.0032,
           0
          ]
         ],
         "geo": "geo",
         "hovertemplate": "<b>%{hovertext}</b><br><br>Country=%{location}<br>Population 2024=%{customdata[0]}<br>Population 2023=%{customdata[1]}<br>Area (km2)=%{customdata[2]}<br>Density (/km2)=%{customdata[3]}<br>Growth Rate=%{customdata[4]}<br>World %=%{customdata[5]}<extra></extra>",
         "hovertext": [
          "Andorra"
         ],
         "locationmode": "country names",
         "locations": [
          "Andorra"
         ],
         "name": "Andorra",
         "showlegend": true,
         "showscale": false,
         "type": "choropleth",
         "z": [
          1
         ]
        },
        {
         "colorscale": [
          [
           0,
           "#ab63fa"
          ],
          [
           1,
           "#ab63fa"
          ]
         ],
         "customdata": [
          [
           73368,
           73040,
           "750",
           98,
           0.0045,
           0
          ]
         ],
         "geo": "geo",
         "hovertemplate": "<b>%{hovertext}</b><br><br>Country=%{location}<br>Population 2024=%{customdata[0]}<br>Population 2023=%{customdata[1]}<br>Area (km2)=%{customdata[2]}<br>Density (/km2)=%{customdata[3]}<br>Growth Rate=%{customdata[4]}<br>World %=%{customdata[5]}<extra></extra>",
         "hovertext": [
          "Dominica"
         ],
         "locationmode": "country names",
         "locations": [
          "Dominica"
         ],
         "name": "Dominica",
         "showlegend": true,
         "showscale": false,
         "type": "choropleth",
         "z": [
          1
         ]
        },
        {
         "colorscale": [
          [
           0,
           "#FFA15A"
          ],
          [
           1,
           "#FFA15A"
          ]
         ],
         "customdata": [
          [
           69885,
           69310,
           "240",
           291,
           0.0083,
           0
          ]
         ],
         "geo": "geo",
         "hovertemplate": "<b>%{hovertext}</b><br><br>Country=%{location}<br>Population 2024=%{customdata[0]}<br>Population 2023=%{customdata[1]}<br>Area (km2)=%{customdata[2]}<br>Density (/km2)=%{customdata[3]}<br>Growth Rate=%{customdata[4]}<br>World %=%{customdata[5]}<extra></extra>",
         "hovertext": [
          "Cayman Islands"
         ],
         "locationmode": "country names",
         "locations": [
          "Cayman Islands"
         ],
         "name": "Cayman Islands",
         "showlegend": true,
         "showscale": false,
         "type": "choropleth",
         "z": [
          1
         ]
        },
        {
         "colorscale": [
          [
           0,
           "#19d3f3"
          ],
          [
           1,
           "#19d3f3"
          ]
         ],
         "customdata": [
          [
           63935,
           64069,
           "54",
           1184,
           -0.0021,
           0
          ]
         ],
         "geo": "geo",
         "hovertemplate": "<b>%{hovertext}</b><br><br>Country=%{location}<br>Population 2024=%{customdata[0]}<br>Population 2023=%{customdata[1]}<br>Area (km2)=%{customdata[2]}<br>Density (/km2)=%{customdata[3]}<br>Growth Rate=%{customdata[4]}<br>World %=%{customdata[5]}<extra></extra>",
         "hovertext": [
          "Bermuda"
         ],
         "locationmode": "country names",
         "locations": [
          "Bermuda"
         ],
         "name": "Bermuda",
         "showlegend": true,
         "showscale": false,
         "type": "choropleth",
         "z": [
          1
         ]
        },
        {
         "colorscale": [
          [
           0,
           "#FF6692"
          ],
          [
           1,
           "#FF6692"
          ]
         ],
         "customdata": [
          [
           63788,
           63544,
           "63",
           1013,
           0.0038,
           0
          ]
         ],
         "geo": "geo",
         "hovertemplate": "<b>%{hovertext}</b><br><br>Country=%{location}<br>Population 2024=%{customdata[0]}<br>Population 2023=%{customdata[1]}<br>Area (km2)=%{customdata[2]}<br>Density (/km2)=%{customdata[3]}<br>Growth Rate=%{customdata[4]}<br>World %=%{customdata[5]}<extra></extra>",
         "hovertext": [
          "Guernsey"
         ],
         "locationmode": "country names",
         "locations": [
          "Guernsey"
         ],
         "name": "Guernsey",
         "showlegend": true,
         "showscale": false,
         "type": "choropleth",
         "z": [
          1
         ]
        },
        {
         "colorscale": [
          [
           0,
           "#B6E880"
          ],
          [
           1,
           "#B6E880"
          ]
         ],
         "customdata": [
          [
           56789,
           56643,
           "410.4K",
           0.14,
           0.0026,
           0
          ]
         ],
         "geo": "geo",
         "hovertemplate": "<b>%{hovertext}</b><br><br>Country=%{location}<br>Population 2024=%{customdata[0]}<br>Population 2023=%{customdata[1]}<br>Area (km2)=%{customdata[2]}<br>Density (/km2)=%{customdata[3]}<br>Growth Rate=%{customdata[4]}<br>World %=%{customdata[5]}<extra></extra>",
         "hovertext": [
          "Greenland"
         ],
         "locationmode": "country names",
         "locations": [
          "Greenland"
         ],
         "name": "Greenland",
         "showlegend": true,
         "showscale": false,
         "type": "choropleth",
         "z": [
          1
         ]
        },
        {
         "colorscale": [
          [
           0,
           "#FF97FF"
          ],
          [
           1,
           "#FF97FF"
          ]
         ],
         "customdata": [
          [
           53444,
           53270,
           "1.4K",
           39,
           0.0033,
           0
          ]
         ],
         "geo": "geo",
         "hovertemplate": "<b>%{hovertext}</b><br><br>Country=%{location}<br>Population 2024=%{customdata[0]}<br>Population 2023=%{customdata[1]}<br>Area (km2)=%{customdata[2]}<br>Density (/km2)=%{customdata[3]}<br>Growth Rate=%{customdata[4]}<br>World %=%{customdata[5]}<extra></extra>",
         "hovertext": [
          "Faroe Islands"
         ],
         "locationmode": "country names",
         "locations": [
          "Faroe Islands"
         ],
         "name": "Faroe Islands",
         "showlegend": true,
         "showscale": false,
         "type": "choropleth",
         "z": [
          1
         ]
        },
        {
         "colorscale": [
          [
           0,
           "#FECB52"
          ],
          [
           1,
           "#FECB52"
          ]
         ],
         "customdata": [
          [
           50025,
           49796,
           "460",
           109,
           0.0046,
           0
          ]
         ],
         "geo": "geo",
         "hovertemplate": "<b>%{hovertext}</b><br><br>Country=%{location}<br>Population 2024=%{customdata[0]}<br>Population 2023=%{customdata[1]}<br>Area (km2)=%{customdata[2]}<br>Density (/km2)=%{customdata[3]}<br>Growth Rate=%{customdata[4]}<br>World %=%{customdata[5]}<extra></extra>",
         "hovertext": [
          "Northern Mariana Islands"
         ],
         "locationmode": "country names",
         "locations": [
          "Northern Mariana Islands"
         ],
         "name": "Northern Mariana Islands",
         "showlegend": true,
         "showscale": false,
         "type": "choropleth",
         "z": [
          1
         ]
        },
        {
         "colorscale": [
          [
           0,
           "#636efa"
          ],
          [
           1,
           "#636efa"
          ]
         ],
         "customdata": [
          [
           47847,
           47755,
           "260",
           184,
           0.0019,
           0
          ]
         ],
         "geo": "geo",
         "hovertemplate": "<b>%{hovertext}</b><br><br>Country=%{location}<br>Population 2024=%{customdata[0]}<br>Population 2023=%{customdata[1]}<br>Area (km2)=%{customdata[2]}<br>Density (/km2)=%{customdata[3]}<br>Growth Rate=%{customdata[4]}<br>World %=%{customdata[5]}<extra></extra>",
         "hovertext": [
          "Saint Kitts and Nevis"
         ],
         "locationmode": "country names",
         "locations": [
          "Saint Kitts and Nevis"
         ],
         "name": "Saint Kitts and Nevis",
         "showlegend": true,
         "showscale": false,
         "type": "choropleth",
         "z": [
          1
         ]
        },
        {
         "colorscale": [
          [
           0,
           "#EF553B"
          ],
          [
           1,
           "#EF553B"
          ]
         ],
         "customdata": [
          [
           46431,
           46062,
           "948",
           49,
           0.008,
           0
          ]
         ],
         "geo": "geo",
         "hovertemplate": "<b>%{hovertext}</b><br><br>Country=%{location}<br>Population 2024=%{customdata[0]}<br>Population 2023=%{customdata[1]}<br>Area (km2)=%{customdata[2]}<br>Density (/km2)=%{customdata[3]}<br>Growth Rate=%{customdata[4]}<br>World %=%{customdata[5]}<extra></extra>",
         "hovertext": [
          "Turks and Caicos Islands"
         ],
         "locationmode": "country names",
         "locations": [
          "Turks and Caicos Islands"
         ],
         "name": "Turks and Caicos Islands",
         "showlegend": true,
         "showscale": false,
         "type": "choropleth",
         "z": [
          1
         ]
        },
        {
         "colorscale": [
          [
           0,
           "#00cc96"
          ],
          [
           1,
           "#00cc96"
          ]
         ],
         "customdata": [
          [
           44309,
           44222,
           "34",
           1303,
           0.002,
           0
          ]
         ],
         "geo": "geo",
         "hovertemplate": "<b>%{hovertext}</b><br><br>Country=%{location}<br>Population 2024=%{customdata[0]}<br>Population 2023=%{customdata[1]}<br>Area (km2)=%{customdata[2]}<br>Density (/km2)=%{customdata[3]}<br>Growth Rate=%{customdata[4]}<br>World %=%{customdata[5]}<extra></extra>",
         "hovertext": [
          "Sint Maarten"
         ],
         "locationmode": "country names",
         "locations": [
          "Sint Maarten"
         ],
         "name": "Sint Maarten",
         "showlegend": true,
         "showscale": false,
         "type": "choropleth",
         "z": [
          1
         ]
        },
        {
         "colorscale": [
          [
           0,
           "#ab63fa"
          ],
          [
           1,
           "#ab63fa"
          ]
         ],
         "customdata": [
          [
           43544,
           43914,
           "200",
           218,
           -0.0084,
           0
          ]
         ],
         "geo": "geo",
         "hovertemplate": "<b>%{hovertext}</b><br><br>Country=%{location}<br>Population 2024=%{customdata[0]}<br>Population 2023=%{customdata[1]}<br>Area (km2)=%{customdata[2]}<br>Density (/km2)=%{customdata[3]}<br>Growth Rate=%{customdata[4]}<br>World %=%{customdata[5]}<extra></extra>",
         "hovertext": [
          "American Samoa"
         ],
         "locationmode": "country names",
         "locations": [
          "American Samoa"
         ],
         "name": "American Samoa",
         "showlegend": true,
         "showscale": false,
         "type": "choropleth",
         "z": [
          1
         ]
        },
        {
         "colorscale": [
          [
           0,
           "#FFA15A"
          ],
          [
           1,
           "#FFA15A"
          ]
         ],
         "customdata": [
          [
           42415,
           41996,
           "180",
           236,
           0.01,
           0
          ]
         ],
         "geo": "geo",
         "hovertemplate": "<b>%{hovertext}</b><br><br>Country=%{location}<br>Population 2024=%{customdata[0]}<br>Population 2023=%{customdata[1]}<br>Area (km2)=%{customdata[2]}<br>Density (/km2)=%{customdata[3]}<br>Growth Rate=%{customdata[4]}<br>World %=%{customdata[5]}<extra></extra>",
         "hovertext": [
          "Marshall Islands"
         ],
         "locationmode": "country names",
         "locations": [
          "Marshall Islands"
         ],
         "name": "Marshall Islands",
         "showlegend": true,
         "showscale": false,
         "type": "choropleth",
         "z": [
          1
         ]
        },
        {
         "colorscale": [
          [
           0,
           "#19d3f3"
          ],
          [
           1,
           "#19d3f3"
          ]
         ],
         "customdata": [
          [
           39822,
           39584,
           "160",
           249,
           0.006,
           0
          ]
         ],
         "geo": "geo",
         "hovertemplate": "<b>%{hovertext}</b><br><br>Country=%{location}<br>Population 2024=%{customdata[0]}<br>Population 2023=%{customdata[1]}<br>Area (km2)=%{customdata[2]}<br>Density (/km2)=%{customdata[3]}<br>Growth Rate=%{customdata[4]}<br>World %=%{customdata[5]}<extra></extra>",
         "hovertext": [
          "Liechtenstein"
         ],
         "locationmode": "country names",
         "locations": [
          "Liechtenstein"
         ],
         "name": "Liechtenstein",
         "showlegend": true,
         "showscale": false,
         "type": "choropleth",
         "z": [
          1
         ]
        },
        {
         "colorscale": [
          [
           0,
           "#FF6692"
          ],
          [
           1,
           "#FF6692"
          ]
         ],
         "customdata": [
          [
           36157,
           36297,
           "2",
           18079,
           -0.0039,
           0
          ]
         ],
         "geo": "geo",
         "hovertemplate": "<b>%{hovertext}</b><br><br>Country=%{location}<br>Population 2024=%{customdata[0]}<br>Population 2023=%{customdata[1]}<br>Area (km2)=%{customdata[2]}<br>Density (/km2)=%{customdata[3]}<br>Growth Rate=%{customdata[4]}<br>World %=%{customdata[5]}<extra></extra>",
         "hovertext": [
          "Monaco"
         ],
         "locationmode": "country names",
         "locations": [
          "Monaco"
         ],
         "name": "Monaco",
         "showlegend": true,
         "showscale": false,
         "type": "choropleth",
         "z": [
          1
         ]
        },
        {
         "colorscale": [
          [
           0,
           "#B6E880"
          ],
          [
           1,
           "#B6E880"
          ]
         ],
         "customdata": [
          [
           33614,
           33642,
           "60",
           560,
           -0.0008,
           0
          ]
         ],
         "geo": "geo",
         "hovertemplate": "<b>%{hovertext}</b><br><br>Country=%{location}<br>Population 2024=%{customdata[0]}<br>Population 2023=%{customdata[1]}<br>Area (km2)=%{customdata[2]}<br>Density (/km2)=%{customdata[3]}<br>Growth Rate=%{customdata[4]}<br>World %=%{customdata[5]}<extra></extra>",
         "hovertext": [
          "San Marino"
         ],
         "locationmode": "country names",
         "locations": [
          "San Marino"
         ],
         "name": "San Marino",
         "showlegend": true,
         "showscale": false,
         "type": "choropleth",
         "z": [
          1
         ]
        },
        {
         "colorscale": [
          [
           0,
           "#FF97FF"
          ],
          [
           1,
           "#FF97FF"
          ]
         ],
         "customdata": [
          [
           32718,
           32688,
           "7",
           4811,
           0.0009,
           0
          ]
         ],
         "geo": "geo",
         "hovertemplate": "<b>%{hovertext}</b><br><br>Country=%{location}<br>Population 2024=%{customdata[0]}<br>Population 2023=%{customdata[1]}<br>Area (km2)=%{customdata[2]}<br>Density (/km2)=%{customdata[3]}<br>Growth Rate=%{customdata[4]}<br>World %=%{customdata[5]}<extra></extra>",
         "hovertext": [
          "Gibraltar"
         ],
         "locationmode": "country names",
         "locations": [
          "Gibraltar"
         ],
         "name": "Gibraltar",
         "showlegend": true,
         "showscale": false,
         "type": "choropleth",
         "z": [
          1
         ]
        },
        {
         "colorscale": [
          [
           0,
           "#FECB52"
          ],
          [
           1,
           "#FECB52"
          ]
         ],
         "customdata": [
          [
           32337,
           32077,
           "50",
           647,
           0.0081,
           0
          ]
         ],
         "geo": "geo",
         "hovertemplate": "<b>%{hovertext}</b><br><br>Country=%{location}<br>Population 2024=%{customdata[0]}<br>Population 2023=%{customdata[1]}<br>Area (km2)=%{customdata[2]}<br>Density (/km2)=%{customdata[3]}<br>Growth Rate=%{customdata[4]}<br>World %=%{customdata[5]}<extra></extra>",
         "hovertext": [
          "Saint Martin"
         ],
         "locationmode": "country names",
         "locations": [
          "Saint Martin"
         ],
         "name": "Saint Martin",
         "showlegend": true,
         "showscale": false,
         "type": "choropleth",
         "z": [
          1
         ]
        },
        {
         "colorscale": [
          [
           0,
           "#636efa"
          ],
          [
           1,
           "#636efa"
          ]
         ],
         "customdata": [
          [
           31763,
           31538,
           "150",
           212,
           0.0071,
           0
          ]
         ],
         "geo": "geo",
         "hovertemplate": "<b>%{hovertext}</b><br><br>Country=%{location}<br>Population 2024=%{customdata[0]}<br>Population 2023=%{customdata[1]}<br>Area (km2)=%{customdata[2]}<br>Density (/km2)=%{customdata[3]}<br>Growth Rate=%{customdata[4]}<br>World %=%{customdata[5]}<extra></extra>",
         "hovertext": [
          "British Virgin Islands"
         ],
         "locationmode": "country names",
         "locations": [
          "British Virgin Islands"
         ],
         "name": "British Virgin Islands",
         "showlegend": true,
         "showscale": false,
         "type": "choropleth",
         "z": [
          1
         ]
        },
        {
         "colorscale": [
          [
           0,
           "#EF553B"
          ],
          [
           1,
           "#EF553B"
          ]
         ],
         "customdata": [
          [
           18051,
           18058,
           "460",
           39,
           -0.0004,
           0
          ]
         ],
         "geo": "geo",
         "hovertemplate": "<b>%{hovertext}</b><br><br>Country=%{location}<br>Population 2024=%{customdata[0]}<br>Population 2023=%{customdata[1]}<br>Area (km2)=%{customdata[2]}<br>Density (/km2)=%{customdata[3]}<br>Growth Rate=%{customdata[4]}<br>World %=%{customdata[5]}<extra></extra>",
         "hovertext": [
          "Palau"
         ],
         "locationmode": "country names",
         "locations": [
          "Palau"
         ],
         "name": "Palau",
         "showlegend": true,
         "showscale": false,
         "type": "choropleth",
         "z": [
          1
         ]
        },
        {
         "colorscale": [
          [
           0,
           "#00cc96"
          ],
          [
           1,
           "#00cc96"
          ]
         ],
         "customdata": [
          [
           17072,
           17044,
           "240",
           71,
           0.0016,
           0
          ]
         ],
         "geo": "geo",
         "hovertemplate": "<b>%{hovertext}</b><br><br>Country=%{location}<br>Population 2024=%{customdata[0]}<br>Population 2023=%{customdata[1]}<br>Area (km2)=%{customdata[2]}<br>Density (/km2)=%{customdata[3]}<br>Growth Rate=%{customdata[4]}<br>World %=%{customdata[5]}<extra></extra>",
         "hovertext": [
          "Cook Islands"
         ],
         "locationmode": "country names",
         "locations": [
          "Cook Islands"
         ],
         "name": "Cook Islands",
         "showlegend": true,
         "showscale": false,
         "type": "choropleth",
         "z": [
          1
         ]
        },
        {
         "colorscale": [
          [
           0,
           "#ab63fa"
          ],
          [
           1,
           "#ab63fa"
          ]
         ],
         "customdata": [
          [
           15936,
           15899,
           "91",
           175,
           0.0023,
           0
          ]
         ],
         "geo": "geo",
         "hovertemplate": "<b>%{hovertext}</b><br><br>Country=%{location}<br>Population 2024=%{customdata[0]}<br>Population 2023=%{customdata[1]}<br>Area (km2)=%{customdata[2]}<br>Density (/km2)=%{customdata[3]}<br>Growth Rate=%{customdata[4]}<br>World %=%{customdata[5]}<extra></extra>",
         "hovertext": [
          "Anguilla"
         ],
         "locationmode": "country names",
         "locations": [
          "Anguilla"
         ],
         "name": "Anguilla",
         "showlegend": true,
         "showscale": false,
         "type": "choropleth",
         "z": [
          1
         ]
        },
        {
         "colorscale": [
          [
           0,
           "#FFA15A"
          ],
          [
           1,
           "#FFA15A"
          ]
         ],
         "customdata": [
          [
           12884,
           12780,
           "20",
           644,
           0.0081,
           0
          ]
         ],
         "geo": "geo",
         "hovertemplate": "<b>%{hovertext}</b><br><br>Country=%{location}<br>Population 2024=%{customdata[0]}<br>Population 2023=%{customdata[1]}<br>Area (km2)=%{customdata[2]}<br>Density (/km2)=%{customdata[3]}<br>Growth Rate=%{customdata[4]}<br>World %=%{customdata[5]}<extra></extra>",
         "hovertext": [
          "Nauru"
         ],
         "locationmode": "country names",
         "locations": [
          "Nauru"
         ],
         "name": "Nauru",
         "showlegend": true,
         "showscale": false,
         "type": "choropleth",
         "z": [
          1
         ]
        },
        {
         "colorscale": [
          [
           0,
           "#19d3f3"
          ],
          [
           1,
           "#19d3f3"
          ]
         ],
         "customdata": [
          [
           11478,
           11396,
           "30",
           383,
           0.0072,
           0
          ]
         ],
         "geo": "geo",
         "hovertemplate": "<b>%{hovertext}</b><br><br>Country=%{location}<br>Population 2024=%{customdata[0]}<br>Population 2023=%{customdata[1]}<br>Area (km2)=%{customdata[2]}<br>Density (/km2)=%{customdata[3]}<br>Growth Rate=%{customdata[4]}<br>World %=%{customdata[5]}<extra></extra>",
         "hovertext": [
          "Tuvalu"
         ],
         "locationmode": "country names",
         "locations": [
          "Tuvalu"
         ],
         "name": "Tuvalu",
         "showlegend": true,
         "showscale": false,
         "type": "choropleth",
         "z": [
          1
         ]
        },
        {
         "colorscale": [
          [
           0,
           "#FF6692"
          ],
          [
           1,
           "#FF6692"
          ]
         ],
         "customdata": [
          [
           11439,
           11502,
           "274",
           42,
           -0.0055,
           0
          ]
         ],
         "geo": "geo",
         "hovertemplate": "<b>%{hovertext}</b><br><br>Country=%{location}<br>Population 2024=%{customdata[0]}<br>Population 2023=%{customdata[1]}<br>Area (km2)=%{customdata[2]}<br>Density (/km2)=%{customdata[3]}<br>Growth Rate=%{customdata[4]}<br>World %=%{customdata[5]}<extra></extra>",
         "hovertext": [
          "Wallis and Futuna"
         ],
         "locationmode": "country names",
         "locations": [
          "Wallis and Futuna"
         ],
         "name": "Wallis and Futuna",
         "showlegend": true,
         "showscale": false,
         "type": "choropleth",
         "z": [
          1
         ]
        },
        {
         "colorscale": [
          [
           0,
           "#B6E880"
          ],
          [
           1,
           "#B6E880"
          ]
         ],
         "customdata": [
          [
           11019,
           10994,
           "25",
           441,
           0.0023,
           0
          ]
         ],
         "geo": "geo",
         "hovertemplate": "<b>%{hovertext}</b><br><br>Country=%{location}<br>Population 2024=%{customdata[0]}<br>Population 2023=%{customdata[1]}<br>Area (km2)=%{customdata[2]}<br>Density (/km2)=%{customdata[3]}<br>Growth Rate=%{customdata[4]}<br>World %=%{customdata[5]}<extra></extra>",
         "hovertext": [
          "Saint Barthelemy"
         ],
         "locationmode": "country names",
         "locations": [
          "Saint Barthelemy"
         ],
         "name": "Saint Barthelemy",
         "showlegend": true,
         "showscale": false,
         "type": "choropleth",
         "z": [
          1
         ]
        },
        {
         "colorscale": [
          [
           0,
           "#FF97FF"
          ],
          [
           1,
           "#FF97FF"
          ]
         ],
         "customdata": [
          [
           5815,
           5840,
           "242",
           24,
           -0.0043,
           null
          ]
         ],
         "geo": "geo",
         "hovertemplate": "<b>%{hovertext}</b><br><br>Country=%{location}<br>Population 2024=%{customdata[0]}<br>Population 2023=%{customdata[1]}<br>Area (km2)=%{customdata[2]}<br>Density (/km2)=%{customdata[3]}<br>Growth Rate=%{customdata[4]}<br>World %=%{customdata[5]}<extra></extra>",
         "hovertext": [
          "Saint Pierre and Miquelon"
         ],
         "locationmode": "country names",
         "locations": [
          "Saint Pierre and Miquelon"
         ],
         "name": "Saint Pierre and Miquelon",
         "showlegend": true,
         "showscale": false,
         "type": "choropleth",
         "z": [
          1
         ]
        },
        {
         "colorscale": [
          [
           0,
           "#FECB52"
          ],
          [
           1,
           "#FECB52"
          ]
         ],
         "customdata": [
          [
           4372,
           4386,
           "102",
           43,
           -0.0032,
           null
          ]
         ],
         "geo": "geo",
         "hovertemplate": "<b>%{hovertext}</b><br><br>Country=%{location}<br>Population 2024=%{customdata[0]}<br>Population 2023=%{customdata[1]}<br>Area (km2)=%{customdata[2]}<br>Density (/km2)=%{customdata[3]}<br>Growth Rate=%{customdata[4]}<br>World %=%{customdata[5]}<extra></extra>",
         "hovertext": [
          "Montserrat"
         ],
         "locationmode": "country names",
         "locations": [
          "Montserrat"
         ],
         "name": "Montserrat",
         "showlegend": true,
         "showscale": false,
         "type": "choropleth",
         "z": [
          1
         ]
        },
        {
         "colorscale": [
          [
           0,
           "#636efa"
          ],
          [
           1,
           "#636efa"
          ]
         ],
         "customdata": [
          [
           3803,
           3791,
           "12.2K",
           0.31,
           0.0032,
           null
          ]
         ],
         "geo": "geo",
         "hovertemplate": "<b>%{hovertext}</b><br><br>Country=%{location}<br>Population 2024=%{customdata[0]}<br>Population 2023=%{customdata[1]}<br>Area (km2)=%{customdata[2]}<br>Density (/km2)=%{customdata[3]}<br>Growth Rate=%{customdata[4]}<br>World %=%{customdata[5]}<extra></extra>",
         "hovertext": [
          "Falkland Islands"
         ],
         "locationmode": "country names",
         "locations": [
          "Falkland Islands"
         ],
         "name": "Falkland Islands",
         "showlegend": true,
         "showscale": false,
         "type": "choropleth",
         "z": [
          1
         ]
        },
        {
         "colorscale": [
          [
           0,
           "#EF553B"
          ],
          [
           1,
           "#EF553B"
          ]
         ],
         "customdata": [
          [
           1935,
           1935,
           "261",
           7,
           0,
           null
          ]
         ],
         "geo": "geo",
         "hovertemplate": "<b>%{hovertext}</b><br><br>Country=%{location}<br>Population 2024=%{customdata[0]}<br>Population 2023=%{customdata[1]}<br>Area (km2)=%{customdata[2]}<br>Density (/km2)=%{customdata[3]}<br>Growth Rate=%{customdata[4]}<br>World %=%{customdata[5]}<extra></extra>",
         "hovertext": [
          "Niue"
         ],
         "locationmode": "country names",
         "locations": [
          "Niue"
         ],
         "name": "Niue",
         "showlegend": true,
         "showscale": false,
         "type": "choropleth",
         "z": [
          1
         ]
        },
        {
         "colorscale": [
          [
           0,
           "#00cc96"
          ],
          [
           1,
           "#00cc96"
          ]
         ],
         "customdata": [
          [
           1915,
           1893,
           "10",
           192,
           0.0116,
           null
          ]
         ],
         "geo": "geo",
         "hovertemplate": "<b>%{hovertext}</b><br><br>Country=%{location}<br>Population 2024=%{customdata[0]}<br>Population 2023=%{customdata[1]}<br>Area (km2)=%{customdata[2]}<br>Density (/km2)=%{customdata[3]}<br>Growth Rate=%{customdata[4]}<br>World %=%{customdata[5]}<extra></extra>",
         "hovertext": [
          "Tokelau"
         ],
         "locationmode": "country names",
         "locations": [
          "Tokelau"
         ],
         "name": "Tokelau",
         "showlegend": true,
         "showscale": false,
         "type": "choropleth",
         "z": [
          1
         ]
        },
        {
         "colorscale": [
          [
           0,
           "#ab63fa"
          ],
          [
           1,
           "#ab63fa"
          ]
         ],
         "customdata": [
          [
           526,
           518,
           "< 1",
           1195,
           0.0154,
           null
          ]
         ],
         "geo": "geo",
         "hovertemplate": "<b>%{hovertext}</b><br><br>Country=%{location}<br>Population 2024=%{customdata[0]}<br>Population 2023=%{customdata[1]}<br>Area (km2)=%{customdata[2]}<br>Density (/km2)=%{customdata[3]}<br>Growth Rate=%{customdata[4]}<br>World %=%{customdata[5]}<extra></extra>",
         "hovertext": [
          "Vatican City"
         ],
         "locationmode": "country names",
         "locations": [
          "Vatican City"
         ],
         "name": "Vatican City",
         "showlegend": true,
         "showscale": false,
         "type": "choropleth",
         "z": [
          1
         ]
        }
       ],
       "layout": {
        "geo": {
         "center": {},
         "domain": {
          "x": [
           0,
           1
          ],
          "y": [
           0,
           1
          ]
         },
         "projection": {
          "type": "orthographic"
         }
        },
        "height": 900,
        "legend": {
         "title": {
          "text": "Country"
         },
         "tracegroupgap": 0
        },
        "template": {
         "data": {
          "bar": [
           {
            "error_x": {
             "color": "#2a3f5f"
            },
            "error_y": {
             "color": "#2a3f5f"
            },
            "marker": {
             "line": {
              "color": "#E5ECF6",
              "width": 0.5
             },
             "pattern": {
              "fillmode": "overlay",
              "size": 10,
              "solidity": 0.2
             }
            },
            "type": "bar"
           }
          ],
          "barpolar": [
           {
            "marker": {
             "line": {
              "color": "#E5ECF6",
              "width": 0.5
             },
             "pattern": {
              "fillmode": "overlay",
              "size": 10,
              "solidity": 0.2
             }
            },
            "type": "barpolar"
           }
          ],
          "carpet": [
           {
            "aaxis": {
             "endlinecolor": "#2a3f5f",
             "gridcolor": "white",
             "linecolor": "white",
             "minorgridcolor": "white",
             "startlinecolor": "#2a3f5f"
            },
            "baxis": {
             "endlinecolor": "#2a3f5f",
             "gridcolor": "white",
             "linecolor": "white",
             "minorgridcolor": "white",
             "startlinecolor": "#2a3f5f"
            },
            "type": "carpet"
           }
          ],
          "choropleth": [
           {
            "colorbar": {
             "outlinewidth": 0,
             "ticks": ""
            },
            "type": "choropleth"
           }
          ],
          "contour": [
           {
            "colorbar": {
             "outlinewidth": 0,
             "ticks": ""
            },
            "colorscale": [
             [
              0,
              "#0d0887"
             ],
             [
              0.1111111111111111,
              "#46039f"
             ],
             [
              0.2222222222222222,
              "#7201a8"
             ],
             [
              0.3333333333333333,
              "#9c179e"
             ],
             [
              0.4444444444444444,
              "#bd3786"
             ],
             [
              0.5555555555555556,
              "#d8576b"
             ],
             [
              0.6666666666666666,
              "#ed7953"
             ],
             [
              0.7777777777777778,
              "#fb9f3a"
             ],
             [
              0.8888888888888888,
              "#fdca26"
             ],
             [
              1,
              "#f0f921"
             ]
            ],
            "type": "contour"
           }
          ],
          "contourcarpet": [
           {
            "colorbar": {
             "outlinewidth": 0,
             "ticks": ""
            },
            "type": "contourcarpet"
           }
          ],
          "heatmap": [
           {
            "colorbar": {
             "outlinewidth": 0,
             "ticks": ""
            },
            "colorscale": [
             [
              0,
              "#0d0887"
             ],
             [
              0.1111111111111111,
              "#46039f"
             ],
             [
              0.2222222222222222,
              "#7201a8"
             ],
             [
              0.3333333333333333,
              "#9c179e"
             ],
             [
              0.4444444444444444,
              "#bd3786"
             ],
             [
              0.5555555555555556,
              "#d8576b"
             ],
             [
              0.6666666666666666,
              "#ed7953"
             ],
             [
              0.7777777777777778,
              "#fb9f3a"
             ],
             [
              0.8888888888888888,
              "#fdca26"
             ],
             [
              1,
              "#f0f921"
             ]
            ],
            "type": "heatmap"
           }
          ],
          "histogram": [
           {
            "marker": {
             "pattern": {
              "fillmode": "overlay",
              "size": 10,
              "solidity": 0.2
             }
            },
            "type": "histogram"
           }
          ],
          "histogram2d": [
           {
            "colorbar": {
             "outlinewidth": 0,
             "ticks": ""
            },
            "colorscale": [
             [
              0,
              "#0d0887"
             ],
             [
              0.1111111111111111,
              "#46039f"
             ],
             [
              0.2222222222222222,
              "#7201a8"
             ],
             [
              0.3333333333333333,
              "#9c179e"
             ],
             [
              0.4444444444444444,
              "#bd3786"
             ],
             [
              0.5555555555555556,
              "#d8576b"
             ],
             [
              0.6666666666666666,
              "#ed7953"
             ],
             [
              0.7777777777777778,
              "#fb9f3a"
             ],
             [
              0.8888888888888888,
              "#fdca26"
             ],
             [
              1,
              "#f0f921"
             ]
            ],
            "type": "histogram2d"
           }
          ],
          "histogram2dcontour": [
           {
            "colorbar": {
             "outlinewidth": 0,
             "ticks": ""
            },
            "colorscale": [
             [
              0,
              "#0d0887"
             ],
             [
              0.1111111111111111,
              "#46039f"
             ],
             [
              0.2222222222222222,
              "#7201a8"
             ],
             [
              0.3333333333333333,
              "#9c179e"
             ],
             [
              0.4444444444444444,
              "#bd3786"
             ],
             [
              0.5555555555555556,
              "#d8576b"
             ],
             [
              0.6666666666666666,
              "#ed7953"
             ],
             [
              0.7777777777777778,
              "#fb9f3a"
             ],
             [
              0.8888888888888888,
              "#fdca26"
             ],
             [
              1,
              "#f0f921"
             ]
            ],
            "type": "histogram2dcontour"
           }
          ],
          "mesh3d": [
           {
            "colorbar": {
             "outlinewidth": 0,
             "ticks": ""
            },
            "type": "mesh3d"
           }
          ],
          "parcoords": [
           {
            "line": {
             "colorbar": {
              "outlinewidth": 0,
              "ticks": ""
             }
            },
            "type": "parcoords"
           }
          ],
          "pie": [
           {
            "automargin": true,
            "type": "pie"
           }
          ],
          "scatter": [
           {
            "fillpattern": {
             "fillmode": "overlay",
             "size": 10,
             "solidity": 0.2
            },
            "type": "scatter"
           }
          ],
          "scatter3d": [
           {
            "line": {
             "colorbar": {
              "outlinewidth": 0,
              "ticks": ""
             }
            },
            "marker": {
             "colorbar": {
              "outlinewidth": 0,
              "ticks": ""
             }
            },
            "type": "scatter3d"
           }
          ],
          "scattercarpet": [
           {
            "marker": {
             "colorbar": {
              "outlinewidth": 0,
              "ticks": ""
             }
            },
            "type": "scattercarpet"
           }
          ],
          "scattergeo": [
           {
            "marker": {
             "colorbar": {
              "outlinewidth": 0,
              "ticks": ""
             }
            },
            "type": "scattergeo"
           }
          ],
          "scattergl": [
           {
            "marker": {
             "colorbar": {
              "outlinewidth": 0,
              "ticks": ""
             }
            },
            "type": "scattergl"
           }
          ],
          "scattermap": [
           {
            "marker": {
             "colorbar": {
              "outlinewidth": 0,
              "ticks": ""
             }
            },
            "type": "scattermap"
           }
          ],
          "scattermapbox": [
           {
            "marker": {
             "colorbar": {
              "outlinewidth": 0,
              "ticks": ""
             }
            },
            "type": "scattermapbox"
           }
          ],
          "scatterpolar": [
           {
            "marker": {
             "colorbar": {
              "outlinewidth": 0,
              "ticks": ""
             }
            },
            "type": "scatterpolar"
           }
          ],
          "scatterpolargl": [
           {
            "marker": {
             "colorbar": {
              "outlinewidth": 0,
              "ticks": ""
             }
            },
            "type": "scatterpolargl"
           }
          ],
          "scatterternary": [
           {
            "marker": {
             "colorbar": {
              "outlinewidth": 0,
              "ticks": ""
             }
            },
            "type": "scatterternary"
           }
          ],
          "surface": [
           {
            "colorbar": {
             "outlinewidth": 0,
             "ticks": ""
            },
            "colorscale": [
             [
              0,
              "#0d0887"
             ],
             [
              0.1111111111111111,
              "#46039f"
             ],
             [
              0.2222222222222222,
              "#7201a8"
             ],
             [
              0.3333333333333333,
              "#9c179e"
             ],
             [
              0.4444444444444444,
              "#bd3786"
             ],
             [
              0.5555555555555556,
              "#d8576b"
             ],
             [
              0.6666666666666666,
              "#ed7953"
             ],
             [
              0.7777777777777778,
              "#fb9f3a"
             ],
             [
              0.8888888888888888,
              "#fdca26"
             ],
             [
              1,
              "#f0f921"
             ]
            ],
            "type": "surface"
           }
          ],
          "table": [
           {
            "cells": {
             "fill": {
              "color": "#EBF0F8"
             },
             "line": {
              "color": "white"
             }
            },
            "header": {
             "fill": {
              "color": "#C8D4E3"
             },
             "line": {
              "color": "white"
             }
            },
            "type": "table"
           }
          ]
         },
         "layout": {
          "annotationdefaults": {
           "arrowcolor": "#2a3f5f",
           "arrowhead": 0,
           "arrowwidth": 1
          },
          "autotypenumbers": "strict",
          "coloraxis": {
           "colorbar": {
            "outlinewidth": 0,
            "ticks": ""
           }
          },
          "colorscale": {
           "diverging": [
            [
             0,
             "#8e0152"
            ],
            [
             0.1,
             "#c51b7d"
            ],
            [
             0.2,
             "#de77ae"
            ],
            [
             0.3,
             "#f1b6da"
            ],
            [
             0.4,
             "#fde0ef"
            ],
            [
             0.5,
             "#f7f7f7"
            ],
            [
             0.6,
             "#e6f5d0"
            ],
            [
             0.7,
             "#b8e186"
            ],
            [
             0.8,
             "#7fbc41"
            ],
            [
             0.9,
             "#4d9221"
            ],
            [
             1,
             "#276419"
            ]
           ],
           "sequential": [
            [
             0,
             "#0d0887"
            ],
            [
             0.1111111111111111,
             "#46039f"
            ],
            [
             0.2222222222222222,
             "#7201a8"
            ],
            [
             0.3333333333333333,
             "#9c179e"
            ],
            [
             0.4444444444444444,
             "#bd3786"
            ],
            [
             0.5555555555555556,
             "#d8576b"
            ],
            [
             0.6666666666666666,
             "#ed7953"
            ],
            [
             0.7777777777777778,
             "#fb9f3a"
            ],
            [
             0.8888888888888888,
             "#fdca26"
            ],
            [
             1,
             "#f0f921"
            ]
           ],
           "sequentialminus": [
            [
             0,
             "#0d0887"
            ],
            [
             0.1111111111111111,
             "#46039f"
            ],
            [
             0.2222222222222222,
             "#7201a8"
            ],
            [
             0.3333333333333333,
             "#9c179e"
            ],
            [
             0.4444444444444444,
             "#bd3786"
            ],
            [
             0.5555555555555556,
             "#d8576b"
            ],
            [
             0.6666666666666666,
             "#ed7953"
            ],
            [
             0.7777777777777778,
             "#fb9f3a"
            ],
            [
             0.8888888888888888,
             "#fdca26"
            ],
            [
             1,
             "#f0f921"
            ]
           ]
          },
          "colorway": [
           "#636efa",
           "#EF553B",
           "#00cc96",
           "#ab63fa",
           "#FFA15A",
           "#19d3f3",
           "#FF6692",
           "#B6E880",
           "#FF97FF",
           "#FECB52"
          ],
          "font": {
           "color": "#2a3f5f"
          },
          "geo": {
           "bgcolor": "white",
           "lakecolor": "white",
           "landcolor": "#E5ECF6",
           "showlakes": true,
           "showland": true,
           "subunitcolor": "white"
          },
          "hoverlabel": {
           "align": "left"
          },
          "hovermode": "closest",
          "mapbox": {
           "style": "light"
          },
          "paper_bgcolor": "white",
          "plot_bgcolor": "#E5ECF6",
          "polar": {
           "angularaxis": {
            "gridcolor": "white",
            "linecolor": "white",
            "ticks": ""
           },
           "bgcolor": "#E5ECF6",
           "radialaxis": {
            "gridcolor": "white",
            "linecolor": "white",
            "ticks": ""
           }
          },
          "scene": {
           "xaxis": {
            "backgroundcolor": "#E5ECF6",
            "gridcolor": "white",
            "gridwidth": 2,
            "linecolor": "white",
            "showbackground": true,
            "ticks": "",
            "zerolinecolor": "white"
           },
           "yaxis": {
            "backgroundcolor": "#E5ECF6",
            "gridcolor": "white",
            "gridwidth": 2,
            "linecolor": "white",
            "showbackground": true,
            "ticks": "",
            "zerolinecolor": "white"
           },
           "zaxis": {
            "backgroundcolor": "#E5ECF6",
            "gridcolor": "white",
            "gridwidth": 2,
            "linecolor": "white",
            "showbackground": true,
            "ticks": "",
            "zerolinecolor": "white"
           }
          },
          "shapedefaults": {
           "line": {
            "color": "#2a3f5f"
           }
          },
          "ternary": {
           "aaxis": {
            "gridcolor": "white",
            "linecolor": "white",
            "ticks": ""
           },
           "baxis": {
            "gridcolor": "white",
            "linecolor": "white",
            "ticks": ""
           },
           "bgcolor": "#E5ECF6",
           "caxis": {
            "gridcolor": "white",
            "linecolor": "white",
            "ticks": ""
           }
          },
          "title": {
           "x": 0.05
          },
          "xaxis": {
           "automargin": true,
           "gridcolor": "white",
           "linecolor": "white",
           "ticks": "",
           "title": {
            "standoff": 15
           },
           "zerolinecolor": "white",
           "zerolinewidth": 2
          },
          "yaxis": {
           "automargin": true,
           "gridcolor": "white",
           "linecolor": "white",
           "ticks": "",
           "title": {
            "standoff": 15
           },
           "zerolinecolor": "white",
           "zerolinewidth": 2
          }
         }
        },
        "title": {
         "text": "Population of the world (2024)"
        },
        "width": 1000
       }
      }
     },
     "metadata": {},
     "output_type": "display_data"
    }
   ],
   "source": [
    "\n",
    "import plotly.express as px\n",
    "\n",
    "# let't create the choropleth map with all the available data\n",
    "fig = px.choropleth(\n",
    "    data,                     \n",
    "    locations=\"Country\",            \n",
    "    locationmode=\"country names\", # Use country names as locations\n",
    "    color=\"Country\",  # Use population 2024 as color\n",
    "    hover_name=\"Country\",  # show the name of the country in the hover\n",
    "    hover_data={  # show the data in the hover\n",
    "        \"Population 2024\": True,\n",
    "        \"Population 2023\": True,\n",
    "        \"Area (km2)\": True,\n",
    "        \"Density (/km2)\": True,\n",
    "        \"Growth Rate\": True,\n",
    "        \"World %\": True\n",
    "    },\n",
    "    title=\"Population of the world (2024)\",  # title of the plot    \n",
    "    color_continuous_scale=\"inferno_r\", # reverse the color scale\n",
    "\n",
    ")\n",
    "\n",
    "fig.update_geos(projection_type=\"orthographic\")  # the projection type\n",
    "fig.update_layout(width=1000, height=900)  # size of the plot\n",
    "\n",
    "fig.show()"
   ]
  }
 ],
 "metadata": {
  "kernelspec": {
   "display_name": "Timo",
   "language": "python",
   "name": "python3"
  },
  "language_info": {
   "codemirror_mode": {
    "name": "ipython",
    "version": 3
   },
   "file_extension": ".py",
   "mimetype": "text/x-python",
   "name": "python",
   "nbconvert_exporter": "python",
   "pygments_lexer": "ipython3",
   "version": "3.13.2"
  }
 },
 "nbformat": 4,
 "nbformat_minor": 2
}
